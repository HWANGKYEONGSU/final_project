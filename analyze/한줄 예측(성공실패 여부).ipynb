{
 "cells": [
  {
   "cell_type": "code",
   "execution_count": 1,
   "id": "34ae040a",
   "metadata": {},
   "outputs": [],
   "source": [
    "import numpy as np\n",
    "import pandas as pd\n",
    "import matplotlib.pyplot as plt\n",
    "import seaborn as sns\n",
    "import matplotlib.pyplot as plt\n",
    "from wordcloud import WordCloud,STOPWORDS\n",
    "import warnings\n",
    "warnings.filterwarnings(action=\"ignore\")\n",
    "\n",
    "import matplotlib.font_manager as fm\n",
    "font_name = fm.FontProperties(fname=\"C:/Windows/Fonts/malgun.ttf\").get_name()\n",
    "plt.rc(\"font\", family=font_name)\n",
    "\n",
    "import matplotlib as mpl\n",
    "mpl.rcParams[\"axes.unicode_minus\"] = False\n",
    "\n",
    "\n",
    "import urllib.request as req\n",
    "from urllib.request import urlopen\n",
    "from urllib.error import HTTPError,URLError\n",
    "import urllib.parse\n",
    "from bs4 import BeautifulSoup\n",
    "import requests\n",
    "\n",
    "from sklearn import linear_model\n",
    "from scipy import stats\n",
    "import statsmodels\n",
    "import statsmodels.api as sm\n",
    "import statsmodels.formula.api as smf\n",
    "import statsmodels.stats.api as sms\n",
    "from statsmodels.compat import lzip\n",
    "\n",
    "import seaborn as sns\n",
    "import matplotlib.pyplot as plt\n",
    "from mpl_toolkits.mplot3d import Axes3D\n",
    "\n",
    "plt.rcParams['figure.figsize'] = (7, 7)\n",
    "plt.style.use('ggplot')\n",
    "from patsy import dmatrix, dmatrices\n",
    "from statsmodels.stats.outliers_influence import variance_inflation_factor\n",
    "\n",
    "from konlpy.tag import Okt\n",
    "from konlpy.corpus import kolaw\n",
    "import nltk\n",
    "from wordcloud import WordCloud, STOPWORDS\n",
    "import json\n",
    "import os\n",
    "from pprint import pprint"
   ]
  },
  {
   "cell_type": "code",
   "execution_count": 2,
   "id": "88ae507b",
   "metadata": {},
   "outputs": [],
   "source": [
    "df = pd.read_csv(\"data/Byeonghap_final5.csv\", index_col=0)"
   ]
  },
  {
   "cell_type": "code",
   "execution_count": 3,
   "id": "1762ecd8",
   "metadata": {},
   "outputs": [
    {
     "data": {
      "text/html": [
       "<div>\n",
       "<style scoped>\n",
       "    .dataframe tbody tr th:only-of-type {\n",
       "        vertical-align: middle;\n",
       "    }\n",
       "\n",
       "    .dataframe tbody tr th {\n",
       "        vertical-align: top;\n",
       "    }\n",
       "\n",
       "    .dataframe thead th {\n",
       "        text-align: right;\n",
       "    }\n",
       "</style>\n",
       "<table border=\"1\" class=\"dataframe\">\n",
       "  <thead>\n",
       "    <tr style=\"text-align: right;\">\n",
       "      <th></th>\n",
       "      <th>title</th>\n",
       "      <th>category</th>\n",
       "      <th>current_funding_amount</th>\n",
       "      <th>percentage</th>\n",
       "      <th>target_funding_amount</th>\n",
       "      <th>supporter</th>\n",
       "      <th>description</th>\n",
       "    </tr>\n",
       "  </thead>\n",
       "  <tbody>\n",
       "    <tr>\n",
       "      <th>0</th>\n",
       "      <td>짐볼로 만든 인형, '돌리볼리'</td>\n",
       "      <td>캐릭터 · 굿즈</td>\n",
       "      <td>329000</td>\n",
       "      <td>8</td>\n",
       "      <td>4112500</td>\n",
       "      <td>6명</td>\n",
       "      <td>0</td>\n",
       "    </tr>\n",
       "    <tr>\n",
       "      <th>1</th>\n",
       "      <td>함께 만드는 악기 전문 웹진, &lt;The Strings&gt;</td>\n",
       "      <td>출판</td>\n",
       "      <td>701000</td>\n",
       "      <td>14</td>\n",
       "      <td>5007100</td>\n",
       "      <td>27명</td>\n",
       "      <td>0</td>\n",
       "    </tr>\n",
       "    <tr>\n",
       "      <th>2</th>\n",
       "      <td>감사한 분들께 드리는 마음을 담을 고급 가죽 봉투</td>\n",
       "      <td>디자인 문구</td>\n",
       "      <td>0</td>\n",
       "      <td>0</td>\n",
       "      <td>0</td>\n",
       "      <td>0명</td>\n",
       "      <td>0</td>\n",
       "    </tr>\n",
       "    <tr>\n",
       "      <th>3</th>\n",
       "      <td>마다가스카르 사진전</td>\n",
       "      <td>사진</td>\n",
       "      <td>2322000</td>\n",
       "      <td>38</td>\n",
       "      <td>6110500</td>\n",
       "      <td>54명</td>\n",
       "      <td>0</td>\n",
       "    </tr>\n",
       "    <tr>\n",
       "      <th>4</th>\n",
       "      <td>인형의 시간들</td>\n",
       "      <td>출판</td>\n",
       "      <td>727000</td>\n",
       "      <td>36</td>\n",
       "      <td>2019400</td>\n",
       "      <td>29명</td>\n",
       "      <td>0</td>\n",
       "    </tr>\n",
       "    <tr>\n",
       "      <th>...</th>\n",
       "      <td>...</td>\n",
       "      <td>...</td>\n",
       "      <td>...</td>\n",
       "      <td>...</td>\n",
       "      <td>...</td>\n",
       "      <td>...</td>\n",
       "      <td>...</td>\n",
       "    </tr>\n",
       "    <tr>\n",
       "      <th>9590</th>\n",
       "      <td>메카피아의 한국 전통 자개 문양 피젯 스피너</td>\n",
       "      <td>홈 · 리빙</td>\n",
       "      <td>1730000</td>\n",
       "      <td>173</td>\n",
       "      <td>10000</td>\n",
       "      <td>27</td>\n",
       "      <td>전세계에 하나밖에 없는 한국적인 디자인의 자개 문양 메탈 피젯 스피너 프로젝트</td>\n",
       "    </tr>\n",
       "    <tr>\n",
       "      <th>9591</th>\n",
       "      <td>카프카 &lt;변신&gt; 초판본과 독서카드</td>\n",
       "      <td>출판</td>\n",
       "      <td>1730000</td>\n",
       "      <td>173</td>\n",
       "      <td>10000</td>\n",
       "      <td>114</td>\n",
       "      <td>읽고 쓰는 기쁨을 위해 책방 카프카의밤이 마련한 굿즈</td>\n",
       "    </tr>\n",
       "    <tr>\n",
       "      <th>9592</th>\n",
       "      <td>낯선 첫발을 내딛는 이방인을 위한 &lt;연남동 작은 방&gt;</td>\n",
       "      <td>출판</td>\n",
       "      <td>1730000</td>\n",
       "      <td>173</td>\n",
       "      <td>10000</td>\n",
       "      <td>54</td>\n",
       "      <td>낯선 첫발을 내딛는 이들을 위한 에세이. 쓸쓸한 안식의, 1인분의 방 &lt;연남동 작은 방&gt;</td>\n",
       "    </tr>\n",
       "    <tr>\n",
       "      <th>9593</th>\n",
       "      <td>함께 행복하개! 유기견 팔찌</td>\n",
       "      <td>캐릭터 · 굿즈</td>\n",
       "      <td>865000</td>\n",
       "      <td>173</td>\n",
       "      <td>5000</td>\n",
       "      <td>45</td>\n",
       "      <td>사람과 동물이 함께 행복한 세상을 만들어요~ 수익금은 동물자유연대에 기부할 예정입니다.</td>\n",
       "    </tr>\n",
       "    <tr>\n",
       "      <th>9594</th>\n",
       "      <td>어버이날선물 한번에 준비하기</td>\n",
       "      <td>홈 · 리빙</td>\n",
       "      <td>1730000</td>\n",
       "      <td>173</td>\n",
       "      <td>1000000</td>\n",
       "      <td>77</td>\n",
       "      <td>감사할 수 있는 기회&lt;5월의 그날, 어버이날&gt; 종합선물세트를 만들고 싶어서 준비했습니다.</td>\n",
       "    </tr>\n",
       "  </tbody>\n",
       "</table>\n",
       "<p>9710 rows × 7 columns</p>\n",
       "</div>"
      ],
      "text/plain": [
       "                               title  category  current_funding_amount  \\\n",
       "0                  짐볼로 만든 인형, '돌리볼리'  캐릭터 · 굿즈                  329000   \n",
       "1     함께 만드는 악기 전문 웹진, <The Strings>        출판                  701000   \n",
       "2        감사한 분들께 드리는 마음을 담을 고급 가죽 봉투    디자인 문구                       0   \n",
       "3                         마다가스카르 사진전        사진                 2322000   \n",
       "4                            인형의 시간들        출판                  727000   \n",
       "...                              ...       ...                     ...   \n",
       "9590        메카피아의 한국 전통 자개 문양 피젯 스피너    홈 · 리빙                 1730000   \n",
       "9591              카프카 <변신> 초판본과 독서카드        출판                 1730000   \n",
       "9592   낯선 첫발을 내딛는 이방인을 위한 <연남동 작은 방>        출판                 1730000   \n",
       "9593                 함께 행복하개! 유기견 팔찌  캐릭터 · 굿즈                  865000   \n",
       "9594                 어버이날선물 한번에 준비하기    홈 · 리빙                 1730000   \n",
       "\n",
       "      percentage  target_funding_amount supporter  \\\n",
       "0              8                4112500        6명   \n",
       "1             14                5007100       27명   \n",
       "2              0                      0        0명   \n",
       "3             38                6110500       54명   \n",
       "4             36                2019400       29명   \n",
       "...          ...                    ...       ...   \n",
       "9590         173                  10000        27   \n",
       "9591         173                  10000       114   \n",
       "9592         173                  10000        54   \n",
       "9593         173                   5000        45   \n",
       "9594         173                1000000        77   \n",
       "\n",
       "                                            description  \n",
       "0                                                     0  \n",
       "1                                                     0  \n",
       "2                                                     0  \n",
       "3                                                     0  \n",
       "4                                                     0  \n",
       "...                                                 ...  \n",
       "9590        전세계에 하나밖에 없는 한국적인 디자인의 자개 문양 메탈 피젯 스피너 프로젝트  \n",
       "9591                      읽고 쓰는 기쁨을 위해 책방 카프카의밤이 마련한 굿즈  \n",
       "9592  낯선 첫발을 내딛는 이들을 위한 에세이. 쓸쓸한 안식의, 1인분의 방 <연남동 작은 방>  \n",
       "9593   사람과 동물이 함께 행복한 세상을 만들어요~ 수익금은 동물자유연대에 기부할 예정입니다.  \n",
       "9594  감사할 수 있는 기회<5월의 그날, 어버이날> 종합선물세트를 만들고 싶어서 준비했습니다.  \n",
       "\n",
       "[9710 rows x 7 columns]"
      ]
     },
     "execution_count": 3,
     "metadata": {},
     "output_type": "execute_result"
    }
   ],
   "source": [
    "df"
   ]
  },
  {
   "cell_type": "code",
   "execution_count": 4,
   "id": "563e177a",
   "metadata": {},
   "outputs": [],
   "source": [
    "# 인덱스 순서대로 다시 설정\n",
    "\n",
    "index = [i for i in range(len(df))]\n",
    "index\n",
    "\n",
    "df[\"index\"] = index"
   ]
  },
  {
   "cell_type": "code",
   "execution_count": 5,
   "id": "c333cfcc",
   "metadata": {},
   "outputs": [
    {
     "data": {
      "text/html": [
       "<div>\n",
       "<style scoped>\n",
       "    .dataframe tbody tr th:only-of-type {\n",
       "        vertical-align: middle;\n",
       "    }\n",
       "\n",
       "    .dataframe tbody tr th {\n",
       "        vertical-align: top;\n",
       "    }\n",
       "\n",
       "    .dataframe thead th {\n",
       "        text-align: right;\n",
       "    }\n",
       "</style>\n",
       "<table border=\"1\" class=\"dataframe\">\n",
       "  <thead>\n",
       "    <tr style=\"text-align: right;\">\n",
       "      <th></th>\n",
       "      <th>title</th>\n",
       "      <th>category</th>\n",
       "      <th>current_funding_amount</th>\n",
       "      <th>percentage</th>\n",
       "      <th>target_funding_amount</th>\n",
       "      <th>supporter</th>\n",
       "      <th>description</th>\n",
       "    </tr>\n",
       "    <tr>\n",
       "      <th>index</th>\n",
       "      <th></th>\n",
       "      <th></th>\n",
       "      <th></th>\n",
       "      <th></th>\n",
       "      <th></th>\n",
       "      <th></th>\n",
       "      <th></th>\n",
       "    </tr>\n",
       "  </thead>\n",
       "  <tbody>\n",
       "    <tr>\n",
       "      <th>0</th>\n",
       "      <td>짐볼로 만든 인형, '돌리볼리'</td>\n",
       "      <td>캐릭터 · 굿즈</td>\n",
       "      <td>329000</td>\n",
       "      <td>8</td>\n",
       "      <td>4112500</td>\n",
       "      <td>6명</td>\n",
       "      <td>0</td>\n",
       "    </tr>\n",
       "    <tr>\n",
       "      <th>1</th>\n",
       "      <td>함께 만드는 악기 전문 웹진, &lt;The Strings&gt;</td>\n",
       "      <td>출판</td>\n",
       "      <td>701000</td>\n",
       "      <td>14</td>\n",
       "      <td>5007100</td>\n",
       "      <td>27명</td>\n",
       "      <td>0</td>\n",
       "    </tr>\n",
       "    <tr>\n",
       "      <th>2</th>\n",
       "      <td>감사한 분들께 드리는 마음을 담을 고급 가죽 봉투</td>\n",
       "      <td>디자인 문구</td>\n",
       "      <td>0</td>\n",
       "      <td>0</td>\n",
       "      <td>0</td>\n",
       "      <td>0명</td>\n",
       "      <td>0</td>\n",
       "    </tr>\n",
       "    <tr>\n",
       "      <th>3</th>\n",
       "      <td>마다가스카르 사진전</td>\n",
       "      <td>사진</td>\n",
       "      <td>2322000</td>\n",
       "      <td>38</td>\n",
       "      <td>6110500</td>\n",
       "      <td>54명</td>\n",
       "      <td>0</td>\n",
       "    </tr>\n",
       "    <tr>\n",
       "      <th>4</th>\n",
       "      <td>인형의 시간들</td>\n",
       "      <td>출판</td>\n",
       "      <td>727000</td>\n",
       "      <td>36</td>\n",
       "      <td>2019400</td>\n",
       "      <td>29명</td>\n",
       "      <td>0</td>\n",
       "    </tr>\n",
       "    <tr>\n",
       "      <th>...</th>\n",
       "      <td>...</td>\n",
       "      <td>...</td>\n",
       "      <td>...</td>\n",
       "      <td>...</td>\n",
       "      <td>...</td>\n",
       "      <td>...</td>\n",
       "      <td>...</td>\n",
       "    </tr>\n",
       "    <tr>\n",
       "      <th>9705</th>\n",
       "      <td>메카피아의 한국 전통 자개 문양 피젯 스피너</td>\n",
       "      <td>홈 · 리빙</td>\n",
       "      <td>1730000</td>\n",
       "      <td>173</td>\n",
       "      <td>10000</td>\n",
       "      <td>27</td>\n",
       "      <td>전세계에 하나밖에 없는 한국적인 디자인의 자개 문양 메탈 피젯 스피너 프로젝트</td>\n",
       "    </tr>\n",
       "    <tr>\n",
       "      <th>9706</th>\n",
       "      <td>카프카 &lt;변신&gt; 초판본과 독서카드</td>\n",
       "      <td>출판</td>\n",
       "      <td>1730000</td>\n",
       "      <td>173</td>\n",
       "      <td>10000</td>\n",
       "      <td>114</td>\n",
       "      <td>읽고 쓰는 기쁨을 위해 책방 카프카의밤이 마련한 굿즈</td>\n",
       "    </tr>\n",
       "    <tr>\n",
       "      <th>9707</th>\n",
       "      <td>낯선 첫발을 내딛는 이방인을 위한 &lt;연남동 작은 방&gt;</td>\n",
       "      <td>출판</td>\n",
       "      <td>1730000</td>\n",
       "      <td>173</td>\n",
       "      <td>10000</td>\n",
       "      <td>54</td>\n",
       "      <td>낯선 첫발을 내딛는 이들을 위한 에세이. 쓸쓸한 안식의, 1인분의 방 &lt;연남동 작은 방&gt;</td>\n",
       "    </tr>\n",
       "    <tr>\n",
       "      <th>9708</th>\n",
       "      <td>함께 행복하개! 유기견 팔찌</td>\n",
       "      <td>캐릭터 · 굿즈</td>\n",
       "      <td>865000</td>\n",
       "      <td>173</td>\n",
       "      <td>5000</td>\n",
       "      <td>45</td>\n",
       "      <td>사람과 동물이 함께 행복한 세상을 만들어요~ 수익금은 동물자유연대에 기부할 예정입니다.</td>\n",
       "    </tr>\n",
       "    <tr>\n",
       "      <th>9709</th>\n",
       "      <td>어버이날선물 한번에 준비하기</td>\n",
       "      <td>홈 · 리빙</td>\n",
       "      <td>1730000</td>\n",
       "      <td>173</td>\n",
       "      <td>1000000</td>\n",
       "      <td>77</td>\n",
       "      <td>감사할 수 있는 기회&lt;5월의 그날, 어버이날&gt; 종합선물세트를 만들고 싶어서 준비했습니다.</td>\n",
       "    </tr>\n",
       "  </tbody>\n",
       "</table>\n",
       "<p>9710 rows × 7 columns</p>\n",
       "</div>"
      ],
      "text/plain": [
       "                                title  category  current_funding_amount  \\\n",
       "index                                                                     \n",
       "0                   짐볼로 만든 인형, '돌리볼리'  캐릭터 · 굿즈                  329000   \n",
       "1      함께 만드는 악기 전문 웹진, <The Strings>        출판                  701000   \n",
       "2         감사한 분들께 드리는 마음을 담을 고급 가죽 봉투    디자인 문구                       0   \n",
       "3                          마다가스카르 사진전        사진                 2322000   \n",
       "4                             인형의 시간들        출판                  727000   \n",
       "...                               ...       ...                     ...   \n",
       "9705         메카피아의 한국 전통 자개 문양 피젯 스피너    홈 · 리빙                 1730000   \n",
       "9706               카프카 <변신> 초판본과 독서카드        출판                 1730000   \n",
       "9707    낯선 첫발을 내딛는 이방인을 위한 <연남동 작은 방>        출판                 1730000   \n",
       "9708                  함께 행복하개! 유기견 팔찌  캐릭터 · 굿즈                  865000   \n",
       "9709                  어버이날선물 한번에 준비하기    홈 · 리빙                 1730000   \n",
       "\n",
       "       percentage  target_funding_amount supporter  \\\n",
       "index                                                \n",
       "0               8                4112500        6명   \n",
       "1              14                5007100       27명   \n",
       "2               0                      0        0명   \n",
       "3              38                6110500       54명   \n",
       "4              36                2019400       29명   \n",
       "...           ...                    ...       ...   \n",
       "9705          173                  10000        27   \n",
       "9706          173                  10000       114   \n",
       "9707          173                  10000        54   \n",
       "9708          173                   5000        45   \n",
       "9709          173                1000000        77   \n",
       "\n",
       "                                             description  \n",
       "index                                                     \n",
       "0                                                      0  \n",
       "1                                                      0  \n",
       "2                                                      0  \n",
       "3                                                      0  \n",
       "4                                                      0  \n",
       "...                                                  ...  \n",
       "9705         전세계에 하나밖에 없는 한국적인 디자인의 자개 문양 메탈 피젯 스피너 프로젝트  \n",
       "9706                       읽고 쓰는 기쁨을 위해 책방 카프카의밤이 마련한 굿즈  \n",
       "9707   낯선 첫발을 내딛는 이들을 위한 에세이. 쓸쓸한 안식의, 1인분의 방 <연남동 작은 방>  \n",
       "9708    사람과 동물이 함께 행복한 세상을 만들어요~ 수익금은 동물자유연대에 기부할 예정입니다.  \n",
       "9709   감사할 수 있는 기회<5월의 그날, 어버이날> 종합선물세트를 만들고 싶어서 준비했습니다.  \n",
       "\n",
       "[9710 rows x 7 columns]"
      ]
     },
     "execution_count": 5,
     "metadata": {},
     "output_type": "execute_result"
    }
   ],
   "source": [
    "df = df.set_index(\"index\")\n",
    "df"
   ]
  },
  {
   "cell_type": "code",
   "execution_count": 6,
   "id": "ea3a3e9a",
   "metadata": {},
   "outputs": [],
   "source": [
    "# 결과 컬럼 추가 : 성사 - 1 , 실패 - 0\n",
    "\n",
    "df[\"result\"] = 3   # 아무값이나 해서 컬럼 생성\n",
    "\n",
    "for i in range(len(df[\"percentage\"])):\n",
    "    if df[\"percentage\"][i] >= 100:\n",
    "        df[\"result\"][i] = 1\n",
    "    else: \n",
    "        df[\"result\"][i] = 0"
   ]
  },
  {
   "cell_type": "code",
   "execution_count": 7,
   "id": "a2bb7234",
   "metadata": {},
   "outputs": [
    {
     "data": {
      "text/html": [
       "<div>\n",
       "<style scoped>\n",
       "    .dataframe tbody tr th:only-of-type {\n",
       "        vertical-align: middle;\n",
       "    }\n",
       "\n",
       "    .dataframe tbody tr th {\n",
       "        vertical-align: top;\n",
       "    }\n",
       "\n",
       "    .dataframe thead th {\n",
       "        text-align: right;\n",
       "    }\n",
       "</style>\n",
       "<table border=\"1\" class=\"dataframe\">\n",
       "  <thead>\n",
       "    <tr style=\"text-align: right;\">\n",
       "      <th></th>\n",
       "      <th>title</th>\n",
       "      <th>category</th>\n",
       "      <th>current_funding_amount</th>\n",
       "      <th>percentage</th>\n",
       "      <th>target_funding_amount</th>\n",
       "      <th>supporter</th>\n",
       "      <th>description</th>\n",
       "      <th>result</th>\n",
       "    </tr>\n",
       "    <tr>\n",
       "      <th>index</th>\n",
       "      <th></th>\n",
       "      <th></th>\n",
       "      <th></th>\n",
       "      <th></th>\n",
       "      <th></th>\n",
       "      <th></th>\n",
       "      <th></th>\n",
       "      <th></th>\n",
       "    </tr>\n",
       "  </thead>\n",
       "  <tbody>\n",
       "    <tr>\n",
       "      <th>0</th>\n",
       "      <td>짐볼로 만든 인형, '돌리볼리'</td>\n",
       "      <td>캐릭터 · 굿즈</td>\n",
       "      <td>329000</td>\n",
       "      <td>8</td>\n",
       "      <td>4112500</td>\n",
       "      <td>6명</td>\n",
       "      <td>0</td>\n",
       "      <td>0</td>\n",
       "    </tr>\n",
       "    <tr>\n",
       "      <th>1</th>\n",
       "      <td>함께 만드는 악기 전문 웹진, &lt;The Strings&gt;</td>\n",
       "      <td>출판</td>\n",
       "      <td>701000</td>\n",
       "      <td>14</td>\n",
       "      <td>5007100</td>\n",
       "      <td>27명</td>\n",
       "      <td>0</td>\n",
       "      <td>0</td>\n",
       "    </tr>\n",
       "    <tr>\n",
       "      <th>2</th>\n",
       "      <td>감사한 분들께 드리는 마음을 담을 고급 가죽 봉투</td>\n",
       "      <td>디자인 문구</td>\n",
       "      <td>0</td>\n",
       "      <td>0</td>\n",
       "      <td>0</td>\n",
       "      <td>0명</td>\n",
       "      <td>0</td>\n",
       "      <td>0</td>\n",
       "    </tr>\n",
       "    <tr>\n",
       "      <th>3</th>\n",
       "      <td>마다가스카르 사진전</td>\n",
       "      <td>사진</td>\n",
       "      <td>2322000</td>\n",
       "      <td>38</td>\n",
       "      <td>6110500</td>\n",
       "      <td>54명</td>\n",
       "      <td>0</td>\n",
       "      <td>0</td>\n",
       "    </tr>\n",
       "    <tr>\n",
       "      <th>4</th>\n",
       "      <td>인형의 시간들</td>\n",
       "      <td>출판</td>\n",
       "      <td>727000</td>\n",
       "      <td>36</td>\n",
       "      <td>2019400</td>\n",
       "      <td>29명</td>\n",
       "      <td>0</td>\n",
       "      <td>0</td>\n",
       "    </tr>\n",
       "    <tr>\n",
       "      <th>...</th>\n",
       "      <td>...</td>\n",
       "      <td>...</td>\n",
       "      <td>...</td>\n",
       "      <td>...</td>\n",
       "      <td>...</td>\n",
       "      <td>...</td>\n",
       "      <td>...</td>\n",
       "      <td>...</td>\n",
       "    </tr>\n",
       "    <tr>\n",
       "      <th>9705</th>\n",
       "      <td>메카피아의 한국 전통 자개 문양 피젯 스피너</td>\n",
       "      <td>홈 · 리빙</td>\n",
       "      <td>1730000</td>\n",
       "      <td>173</td>\n",
       "      <td>10000</td>\n",
       "      <td>27</td>\n",
       "      <td>전세계에 하나밖에 없는 한국적인 디자인의 자개 문양 메탈 피젯 스피너 프로젝트</td>\n",
       "      <td>1</td>\n",
       "    </tr>\n",
       "    <tr>\n",
       "      <th>9706</th>\n",
       "      <td>카프카 &lt;변신&gt; 초판본과 독서카드</td>\n",
       "      <td>출판</td>\n",
       "      <td>1730000</td>\n",
       "      <td>173</td>\n",
       "      <td>10000</td>\n",
       "      <td>114</td>\n",
       "      <td>읽고 쓰는 기쁨을 위해 책방 카프카의밤이 마련한 굿즈</td>\n",
       "      <td>1</td>\n",
       "    </tr>\n",
       "    <tr>\n",
       "      <th>9707</th>\n",
       "      <td>낯선 첫발을 내딛는 이방인을 위한 &lt;연남동 작은 방&gt;</td>\n",
       "      <td>출판</td>\n",
       "      <td>1730000</td>\n",
       "      <td>173</td>\n",
       "      <td>10000</td>\n",
       "      <td>54</td>\n",
       "      <td>낯선 첫발을 내딛는 이들을 위한 에세이. 쓸쓸한 안식의, 1인분의 방 &lt;연남동 작은 방&gt;</td>\n",
       "      <td>1</td>\n",
       "    </tr>\n",
       "    <tr>\n",
       "      <th>9708</th>\n",
       "      <td>함께 행복하개! 유기견 팔찌</td>\n",
       "      <td>캐릭터 · 굿즈</td>\n",
       "      <td>865000</td>\n",
       "      <td>173</td>\n",
       "      <td>5000</td>\n",
       "      <td>45</td>\n",
       "      <td>사람과 동물이 함께 행복한 세상을 만들어요~ 수익금은 동물자유연대에 기부할 예정입니다.</td>\n",
       "      <td>1</td>\n",
       "    </tr>\n",
       "    <tr>\n",
       "      <th>9709</th>\n",
       "      <td>어버이날선물 한번에 준비하기</td>\n",
       "      <td>홈 · 리빙</td>\n",
       "      <td>1730000</td>\n",
       "      <td>173</td>\n",
       "      <td>1000000</td>\n",
       "      <td>77</td>\n",
       "      <td>감사할 수 있는 기회&lt;5월의 그날, 어버이날&gt; 종합선물세트를 만들고 싶어서 준비했습니다.</td>\n",
       "      <td>1</td>\n",
       "    </tr>\n",
       "  </tbody>\n",
       "</table>\n",
       "<p>9710 rows × 8 columns</p>\n",
       "</div>"
      ],
      "text/plain": [
       "                                title  category  current_funding_amount  \\\n",
       "index                                                                     \n",
       "0                   짐볼로 만든 인형, '돌리볼리'  캐릭터 · 굿즈                  329000   \n",
       "1      함께 만드는 악기 전문 웹진, <The Strings>        출판                  701000   \n",
       "2         감사한 분들께 드리는 마음을 담을 고급 가죽 봉투    디자인 문구                       0   \n",
       "3                          마다가스카르 사진전        사진                 2322000   \n",
       "4                             인형의 시간들        출판                  727000   \n",
       "...                               ...       ...                     ...   \n",
       "9705         메카피아의 한국 전통 자개 문양 피젯 스피너    홈 · 리빙                 1730000   \n",
       "9706               카프카 <변신> 초판본과 독서카드        출판                 1730000   \n",
       "9707    낯선 첫발을 내딛는 이방인을 위한 <연남동 작은 방>        출판                 1730000   \n",
       "9708                  함께 행복하개! 유기견 팔찌  캐릭터 · 굿즈                  865000   \n",
       "9709                  어버이날선물 한번에 준비하기    홈 · 리빙                 1730000   \n",
       "\n",
       "       percentage  target_funding_amount supporter  \\\n",
       "index                                                \n",
       "0               8                4112500        6명   \n",
       "1              14                5007100       27명   \n",
       "2               0                      0        0명   \n",
       "3              38                6110500       54명   \n",
       "4              36                2019400       29명   \n",
       "...           ...                    ...       ...   \n",
       "9705          173                  10000        27   \n",
       "9706          173                  10000       114   \n",
       "9707          173                  10000        54   \n",
       "9708          173                   5000        45   \n",
       "9709          173                1000000        77   \n",
       "\n",
       "                                             description  result  \n",
       "index                                                             \n",
       "0                                                      0       0  \n",
       "1                                                      0       0  \n",
       "2                                                      0       0  \n",
       "3                                                      0       0  \n",
       "4                                                      0       0  \n",
       "...                                                  ...     ...  \n",
       "9705         전세계에 하나밖에 없는 한국적인 디자인의 자개 문양 메탈 피젯 스피너 프로젝트       1  \n",
       "9706                       읽고 쓰는 기쁨을 위해 책방 카프카의밤이 마련한 굿즈       1  \n",
       "9707   낯선 첫발을 내딛는 이들을 위한 에세이. 쓸쓸한 안식의, 1인분의 방 <연남동 작은 방>       1  \n",
       "9708    사람과 동물이 함께 행복한 세상을 만들어요~ 수익금은 동물자유연대에 기부할 예정입니다.       1  \n",
       "9709   감사할 수 있는 기회<5월의 그날, 어버이날> 종합선물세트를 만들고 싶어서 준비했습니다.       1  \n",
       "\n",
       "[9710 rows x 8 columns]"
      ]
     },
     "execution_count": 7,
     "metadata": {},
     "output_type": "execute_result"
    }
   ],
   "source": [
    "df"
   ]
  },
  {
   "cell_type": "code",
   "execution_count": 8,
   "id": "8fcb1282",
   "metadata": {},
   "outputs": [
    {
     "data": {
      "text/plain": [
       "<AxesSubplot:>"
      ]
     },
     "execution_count": 8,
     "metadata": {},
     "output_type": "execute_result"
    },
    {
     "data": {
      "image/png": "[encoded data removed]",
      "text/plain": [
       "<Figure size 504x504 with 1 Axes>"
      ]
     },
     "metadata": {},
     "output_type": "display_data"
    }
   ],
   "source": [
    "df[\"result\"].value_counts().plot(kind = \"bar\") #성공실패 갯수 차이 그래프로 확인"
   ]
  },
  {
   "cell_type": "code",
   "execution_count": 9,
   "id": "4c36b7c5",
   "metadata": {},
   "outputs": [
    {
     "name": "stdout",
     "output_type": "stream",
     "text": [
      "   result  count\n",
      "0       0    149\n",
      "1       1   9561\n"
     ]
    }
   ],
   "source": [
    "print(df.groupby('result').size().reset_index(name = 'count')) # 성공실패 갯수 숫자로 확인"
   ]
  },
  {
   "cell_type": "code",
   "execution_count": 10,
   "id": "54154f0c",
   "metadata": {},
   "outputs": [
    {
     "name": "stdout",
     "output_type": "stream",
     "text": [
      "title                     0\n",
      "category                  0\n",
      "current_funding_amount    0\n",
      "percentage                0\n",
      "target_funding_amount     0\n",
      "supporter                 0\n",
      "description               0\n",
      "result                    0\n",
      "dtype: int64\n"
     ]
    }
   ],
   "source": [
    "print(df.isnull().sum()) #결측치 확인"
   ]
  },
  {
   "cell_type": "code",
   "execution_count": 11,
   "id": "af1ef108",
   "metadata": {},
   "outputs": [],
   "source": [
    "import re"
   ]
  },
  {
   "cell_type": "code",
   "execution_count": 12,
   "id": "cd9e3320",
   "metadata": {},
   "outputs": [
    {
     "data": {
      "text/html": [
       "<div>\n",
       "<style scoped>\n",
       "    .dataframe tbody tr th:only-of-type {\n",
       "        vertical-align: middle;\n",
       "    }\n",
       "\n",
       "    .dataframe tbody tr th {\n",
       "        vertical-align: top;\n",
       "    }\n",
       "\n",
       "    .dataframe thead th {\n",
       "        text-align: right;\n",
       "    }\n",
       "</style>\n",
       "<table border=\"1\" class=\"dataframe\">\n",
       "  <thead>\n",
       "    <tr style=\"text-align: right;\">\n",
       "      <th></th>\n",
       "      <th>title</th>\n",
       "      <th>category</th>\n",
       "      <th>current_funding_amount</th>\n",
       "      <th>percentage</th>\n",
       "      <th>target_funding_amount</th>\n",
       "      <th>supporter</th>\n",
       "      <th>description</th>\n",
       "      <th>result</th>\n",
       "    </tr>\n",
       "    <tr>\n",
       "      <th>index</th>\n",
       "      <th></th>\n",
       "      <th></th>\n",
       "      <th></th>\n",
       "      <th></th>\n",
       "      <th></th>\n",
       "      <th></th>\n",
       "      <th></th>\n",
       "      <th></th>\n",
       "    </tr>\n",
       "  </thead>\n",
       "  <tbody>\n",
       "    <tr>\n",
       "      <th>0</th>\n",
       "      <td>짐볼로만든인형돌리볼리</td>\n",
       "      <td>캐릭터 · 굿즈</td>\n",
       "      <td>329000</td>\n",
       "      <td>8</td>\n",
       "      <td>4112500</td>\n",
       "      <td>6명</td>\n",
       "      <td>0</td>\n",
       "      <td>0</td>\n",
       "    </tr>\n",
       "    <tr>\n",
       "      <th>1</th>\n",
       "      <td>함께만드는악기전문웹진</td>\n",
       "      <td>출판</td>\n",
       "      <td>701000</td>\n",
       "      <td>14</td>\n",
       "      <td>5007100</td>\n",
       "      <td>27명</td>\n",
       "      <td>0</td>\n",
       "      <td>0</td>\n",
       "    </tr>\n",
       "    <tr>\n",
       "      <th>2</th>\n",
       "      <td>감사한분들께드리는마음을담을고급가죽봉투</td>\n",
       "      <td>디자인 문구</td>\n",
       "      <td>0</td>\n",
       "      <td>0</td>\n",
       "      <td>0</td>\n",
       "      <td>0명</td>\n",
       "      <td>0</td>\n",
       "      <td>0</td>\n",
       "    </tr>\n",
       "    <tr>\n",
       "      <th>3</th>\n",
       "      <td>마다가스카르사진전</td>\n",
       "      <td>사진</td>\n",
       "      <td>2322000</td>\n",
       "      <td>38</td>\n",
       "      <td>6110500</td>\n",
       "      <td>54명</td>\n",
       "      <td>0</td>\n",
       "      <td>0</td>\n",
       "    </tr>\n",
       "    <tr>\n",
       "      <th>4</th>\n",
       "      <td>인형의시간들</td>\n",
       "      <td>출판</td>\n",
       "      <td>727000</td>\n",
       "      <td>36</td>\n",
       "      <td>2019400</td>\n",
       "      <td>29명</td>\n",
       "      <td>0</td>\n",
       "      <td>0</td>\n",
       "    </tr>\n",
       "  </tbody>\n",
       "</table>\n",
       "</div>"
      ],
      "text/plain": [
       "                      title  category  current_funding_amount  percentage  \\\n",
       "index                                                                       \n",
       "0               짐볼로만든인형돌리볼리  캐릭터 · 굿즈                  329000           8   \n",
       "1               함께만드는악기전문웹진        출판                  701000          14   \n",
       "2      감사한분들께드리는마음을담을고급가죽봉투    디자인 문구                       0           0   \n",
       "3                 마다가스카르사진전        사진                 2322000          38   \n",
       "4                    인형의시간들        출판                  727000          36   \n",
       "\n",
       "       target_funding_amount supporter description  result  \n",
       "index                                                       \n",
       "0                    4112500        6명           0       0  \n",
       "1                    5007100       27명           0       0  \n",
       "2                          0        0명           0       0  \n",
       "3                    6110500       54명           0       0  \n",
       "4                    2019400       29명           0       0  "
      ]
     },
     "execution_count": 12,
     "metadata": {},
     "output_type": "execute_result"
    }
   ],
   "source": [
    "df[\"title\"] = df[\"title\"].str.replace(\"[^ㄱ-ㅎㅏ-ㅣ가-힣]\",\"\") # title에서 띄어쓰기, 특수문자, 영어 제외(한글만 선택)\n",
    "df[:5]"
   ]
  },
  {
   "cell_type": "code",
   "execution_count": 13,
   "id": "d7b2d04f",
   "metadata": {},
   "outputs": [
    {
     "data": {
      "text/html": [
       "<div>\n",
       "<style scoped>\n",
       "    .dataframe tbody tr th:only-of-type {\n",
       "        vertical-align: middle;\n",
       "    }\n",
       "\n",
       "    .dataframe tbody tr th {\n",
       "        vertical-align: top;\n",
       "    }\n",
       "\n",
       "    .dataframe thead th {\n",
       "        text-align: right;\n",
       "    }\n",
       "</style>\n",
       "<table border=\"1\" class=\"dataframe\">\n",
       "  <thead>\n",
       "    <tr style=\"text-align: right;\">\n",
       "      <th></th>\n",
       "      <th>title</th>\n",
       "      <th>result</th>\n",
       "    </tr>\n",
       "    <tr>\n",
       "      <th>index</th>\n",
       "      <th></th>\n",
       "      <th></th>\n",
       "    </tr>\n",
       "  </thead>\n",
       "  <tbody>\n",
       "    <tr>\n",
       "      <th>0</th>\n",
       "      <td>짐볼로만든인형돌리볼리</td>\n",
       "      <td>0</td>\n",
       "    </tr>\n",
       "    <tr>\n",
       "      <th>1</th>\n",
       "      <td>함께만드는악기전문웹진</td>\n",
       "      <td>0</td>\n",
       "    </tr>\n",
       "    <tr>\n",
       "      <th>2</th>\n",
       "      <td>감사한분들께드리는마음을담을고급가죽봉투</td>\n",
       "      <td>0</td>\n",
       "    </tr>\n",
       "    <tr>\n",
       "      <th>3</th>\n",
       "      <td>마다가스카르사진전</td>\n",
       "      <td>0</td>\n",
       "    </tr>\n",
       "    <tr>\n",
       "      <th>4</th>\n",
       "      <td>인형의시간들</td>\n",
       "      <td>0</td>\n",
       "    </tr>\n",
       "    <tr>\n",
       "      <th>...</th>\n",
       "      <td>...</td>\n",
       "      <td>...</td>\n",
       "    </tr>\n",
       "    <tr>\n",
       "      <th>9705</th>\n",
       "      <td>메카피아의한국전통자개문양피젯스피너</td>\n",
       "      <td>1</td>\n",
       "    </tr>\n",
       "    <tr>\n",
       "      <th>9706</th>\n",
       "      <td>카프카변신초판본과독서카드</td>\n",
       "      <td>1</td>\n",
       "    </tr>\n",
       "    <tr>\n",
       "      <th>9707</th>\n",
       "      <td>낯선첫발을내딛는이방인을위한연남동작은방</td>\n",
       "      <td>1</td>\n",
       "    </tr>\n",
       "    <tr>\n",
       "      <th>9708</th>\n",
       "      <td>함께행복하개유기견팔찌</td>\n",
       "      <td>1</td>\n",
       "    </tr>\n",
       "    <tr>\n",
       "      <th>9709</th>\n",
       "      <td>어버이날선물한번에준비하기</td>\n",
       "      <td>1</td>\n",
       "    </tr>\n",
       "  </tbody>\n",
       "</table>\n",
       "<p>9710 rows × 2 columns</p>\n",
       "</div>"
      ],
      "text/plain": [
       "                      title  result\n",
       "index                              \n",
       "0               짐볼로만든인형돌리볼리       0\n",
       "1               함께만드는악기전문웹진       0\n",
       "2      감사한분들께드리는마음을담을고급가죽봉투       0\n",
       "3                 마다가스카르사진전       0\n",
       "4                    인형의시간들       0\n",
       "...                     ...     ...\n",
       "9705     메카피아의한국전통자개문양피젯스피너       1\n",
       "9706          카프카변신초판본과독서카드       1\n",
       "9707   낯선첫발을내딛는이방인을위한연남동작은방       1\n",
       "9708            함께행복하개유기견팔찌       1\n",
       "9709          어버이날선물한번에준비하기       1\n",
       "\n",
       "[9710 rows x 2 columns]"
      ]
     },
     "execution_count": 13,
     "metadata": {},
     "output_type": "execute_result"
    }
   ],
   "source": [
    "df1 = df[[\"title\",\"result\"]] # 필요한 부분만 남김\n",
    "df1"
   ]
  },
  {
   "cell_type": "code",
   "execution_count": 14,
   "id": "63fa22b5",
   "metadata": {},
   "outputs": [
    {
     "name": "stdout",
     "output_type": "stream",
     "text": [
      "title     56\n",
      "result     0\n",
      "dtype: int64\n"
     ]
    }
   ],
   "source": [
    "df1['title'] = df1['title'].str.replace('^ +', \"\") # white space 데이터를 empty value로 변경, 한글이 없는 경우 공란이 됨\n",
    "df1['title'].replace('', np.nan, inplace=True)\n",
    "print(df1.isnull().sum())"
   ]
  },
  {
   "cell_type": "code",
   "execution_count": 15,
   "id": "41deb628",
   "metadata": {},
   "outputs": [
    {
     "data": {
      "text/html": [
       "<div>\n",
       "<style scoped>\n",
       "    .dataframe tbody tr th:only-of-type {\n",
       "        vertical-align: middle;\n",
       "    }\n",
       "\n",
       "    .dataframe tbody tr th {\n",
       "        vertical-align: top;\n",
       "    }\n",
       "\n",
       "    .dataframe thead th {\n",
       "        text-align: right;\n",
       "    }\n",
       "</style>\n",
       "<table border=\"1\" class=\"dataframe\">\n",
       "  <thead>\n",
       "    <tr style=\"text-align: right;\">\n",
       "      <th></th>\n",
       "      <th>title</th>\n",
       "      <th>result</th>\n",
       "    </tr>\n",
       "    <tr>\n",
       "      <th>index</th>\n",
       "      <th></th>\n",
       "      <th></th>\n",
       "    </tr>\n",
       "  </thead>\n",
       "  <tbody>\n",
       "    <tr>\n",
       "      <th>77</th>\n",
       "      <td>NaN</td>\n",
       "      <td>0</td>\n",
       "    </tr>\n",
       "    <tr>\n",
       "      <th>325</th>\n",
       "      <td>NaN</td>\n",
       "      <td>1</td>\n",
       "    </tr>\n",
       "    <tr>\n",
       "      <th>668</th>\n",
       "      <td>NaN</td>\n",
       "      <td>1</td>\n",
       "    </tr>\n",
       "    <tr>\n",
       "      <th>1411</th>\n",
       "      <td>NaN</td>\n",
       "      <td>1</td>\n",
       "    </tr>\n",
       "    <tr>\n",
       "      <th>1881</th>\n",
       "      <td>NaN</td>\n",
       "      <td>1</td>\n",
       "    </tr>\n",
       "  </tbody>\n",
       "</table>\n",
       "</div>"
      ],
      "text/plain": [
       "      title  result\n",
       "index              \n",
       "77      NaN       0\n",
       "325     NaN       1\n",
       "668     NaN       1\n",
       "1411    NaN       1\n",
       "1881    NaN       1"
      ]
     },
     "execution_count": 15,
     "metadata": {},
     "output_type": "execute_result"
    }
   ],
   "source": [
    "df1.loc[df1.title.isnull()][:5]"
   ]
  },
  {
   "cell_type": "code",
   "execution_count": 16,
   "id": "7e1d6ec4",
   "metadata": {},
   "outputs": [],
   "source": [
    "df1 = df1.dropna(how = 'any') #Nan title 제거"
   ]
  },
  {
   "cell_type": "code",
   "execution_count": 17,
   "id": "25b1484a",
   "metadata": {},
   "outputs": [
    {
     "data": {
      "text/html": [
       "<div>\n",
       "<style scoped>\n",
       "    .dataframe tbody tr th:only-of-type {\n",
       "        vertical-align: middle;\n",
       "    }\n",
       "\n",
       "    .dataframe tbody tr th {\n",
       "        vertical-align: top;\n",
       "    }\n",
       "\n",
       "    .dataframe thead th {\n",
       "        text-align: right;\n",
       "    }\n",
       "</style>\n",
       "<table border=\"1\" class=\"dataframe\">\n",
       "  <thead>\n",
       "    <tr style=\"text-align: right;\">\n",
       "      <th></th>\n",
       "      <th>title</th>\n",
       "      <th>result</th>\n",
       "    </tr>\n",
       "    <tr>\n",
       "      <th>index</th>\n",
       "      <th></th>\n",
       "      <th></th>\n",
       "    </tr>\n",
       "  </thead>\n",
       "  <tbody>\n",
       "    <tr>\n",
       "      <th>0</th>\n",
       "      <td>짐볼로만든인형돌리볼리</td>\n",
       "      <td>0</td>\n",
       "    </tr>\n",
       "    <tr>\n",
       "      <th>1</th>\n",
       "      <td>함께만드는악기전문웹진</td>\n",
       "      <td>0</td>\n",
       "    </tr>\n",
       "    <tr>\n",
       "      <th>2</th>\n",
       "      <td>감사한분들께드리는마음을담을고급가죽봉투</td>\n",
       "      <td>0</td>\n",
       "    </tr>\n",
       "    <tr>\n",
       "      <th>3</th>\n",
       "      <td>마다가스카르사진전</td>\n",
       "      <td>0</td>\n",
       "    </tr>\n",
       "    <tr>\n",
       "      <th>4</th>\n",
       "      <td>인형의시간들</td>\n",
       "      <td>0</td>\n",
       "    </tr>\n",
       "    <tr>\n",
       "      <th>...</th>\n",
       "      <td>...</td>\n",
       "      <td>...</td>\n",
       "    </tr>\n",
       "    <tr>\n",
       "      <th>9705</th>\n",
       "      <td>메카피아의한국전통자개문양피젯스피너</td>\n",
       "      <td>1</td>\n",
       "    </tr>\n",
       "    <tr>\n",
       "      <th>9706</th>\n",
       "      <td>카프카변신초판본과독서카드</td>\n",
       "      <td>1</td>\n",
       "    </tr>\n",
       "    <tr>\n",
       "      <th>9707</th>\n",
       "      <td>낯선첫발을내딛는이방인을위한연남동작은방</td>\n",
       "      <td>1</td>\n",
       "    </tr>\n",
       "    <tr>\n",
       "      <th>9708</th>\n",
       "      <td>함께행복하개유기견팔찌</td>\n",
       "      <td>1</td>\n",
       "    </tr>\n",
       "    <tr>\n",
       "      <th>9709</th>\n",
       "      <td>어버이날선물한번에준비하기</td>\n",
       "      <td>1</td>\n",
       "    </tr>\n",
       "  </tbody>\n",
       "</table>\n",
       "<p>9654 rows × 2 columns</p>\n",
       "</div>"
      ],
      "text/plain": [
       "                      title  result\n",
       "index                              \n",
       "0               짐볼로만든인형돌리볼리       0\n",
       "1               함께만드는악기전문웹진       0\n",
       "2      감사한분들께드리는마음을담을고급가죽봉투       0\n",
       "3                 마다가스카르사진전       0\n",
       "4                    인형의시간들       0\n",
       "...                     ...     ...\n",
       "9705     메카피아의한국전통자개문양피젯스피너       1\n",
       "9706          카프카변신초판본과독서카드       1\n",
       "9707   낯선첫발을내딛는이방인을위한연남동작은방       1\n",
       "9708            함께행복하개유기견팔찌       1\n",
       "9709          어버이날선물한번에준비하기       1\n",
       "\n",
       "[9654 rows x 2 columns]"
      ]
     },
     "execution_count": 17,
     "metadata": {},
     "output_type": "execute_result"
    }
   ],
   "source": [
    "df1"
   ]
  },
  {
   "cell_type": "code",
   "execution_count": 37,
   "id": "d9130813",
   "metadata": {},
   "outputs": [
    {
     "data": {
      "text/plain": [
       "<AxesSubplot:>"
      ]
     },
     "execution_count": 37,
     "metadata": {},
     "output_type": "execute_result"
    },
    {
     "data": {
      "image/png": "[encoded data removed]",
      "text/plain": [
       "<Figure size 504x504 with 1 Axes>"
      ]
     },
     "metadata": {},
     "output_type": "display_data"
    }
   ],
   "source": [
    "df2[\"result\"].value_counts().plot(kind = \"bar\")"
   ]
  },
  {
   "cell_type": "code",
   "execution_count": 18,
   "id": "b11a8089",
   "metadata": {},
   "outputs": [],
   "source": [
    "stopwords = ['의','가','이','은','들','는','좀','잘','걍','과','도','를','으로','자','에','와','한','하다'] #불용어 처리"
   ]
  },
  {
   "cell_type": "code",
   "execution_count": 19,
   "id": "c6c34d42",
   "metadata": {},
   "outputs": [
    {
     "name": "stderr",
     "output_type": "stream",
     "text": [
      "100%|██████████████████████████████████████████████████████████████████████████████| 9654/9654 [01:53<00:00, 85.08it/s]\n"
     ]
    }
   ],
   "source": [
    "from tqdm import tqdm\n",
    "import time\n",
    "\n",
    "okt = Okt()\n",
    "\n",
    "X_train = [] # 성공실패 차이가 많이 나서 train, test로 나눌 수 없었음. 일괄적으로 train에 넣고 진행함.\n",
    "for sentence in tqdm(df1['title']):\n",
    "    tokenized_sentence = okt.morphs(sentence, stem=True) # 토큰화\n",
    "    stopwords_removed_sentence = [word for word in tokenized_sentence if not word in stopwords] # 불용어 제거\n",
    "    X_train.append(stopwords_removed_sentence)"
   ]
  },
  {
   "cell_type": "code",
   "execution_count": 20,
   "id": "cdbbbc7c",
   "metadata": {},
   "outputs": [],
   "source": [
    "from tensorflow.keras.preprocessing.text import Tokenizer\n",
    "tokenizer = Tokenizer()\n",
    "tokenizer.fit_on_texts(X_train)"
   ]
  },
  {
   "cell_type": "code",
   "execution_count": 21,
   "id": "a75ec556",
   "metadata": {},
   "outputs": [
    {
     "name": "stdout",
     "output_type": "stream",
     "text": [
      "{'을': 1, '위': 2, '웹툰': 3, '스케치업': 4, '하': 5, '배경': 6, '담다': 7, '당신': 8, '뱃지': 9, '로': 10, '백': 11, '프로젝트': 12, '이야기': 13, '세트': 14, '나': 15, '우리': 16, '집': 17, '내': 18, '즈': 19, '인': 20, '에게': 21, '에서': 22, '고양이': 23, '만들다': 24, '되다': 25, '함께': 26, '판타지': 27, '달력': 28, '선물': 29, '그': 30, '북': 31, '여행': 32, '향기': 33, '보다': 34, '제': 35, '년': 36, '책': 37, '일상': 38, '없다': 39, '다': 40, '일러스트': 41, '지': 42, '세상': 43, '꽃': 44, '굿': 45, '일': 46, '제작': 47, '향수': 48, '브러쉬': 49, '마음': 50, '성': 51, '사랑': 52, '대': 53, '않다': 54, '속': 55, '한국': 56, '여성': 57, '첫': 58, '커피': 59, '여': 60, '적': 61, '앵콜': 62, '종': 63, '시': 64, '있다': 65, '들다': 66, '서': 67, '겨울': 68, '따뜻하다': 69, '너': 70, '이다': 71, '티': 72, '키트': 73, '시간': 74, '봄': 75, '세': 76, '사람': 77, '양': 78, '작다': 79, '달콤하다': 80, '아': 81, '개': 82, '전': 83, '기록': 84, '만': 85, '감성': 86, '디자인': 87, '만나다': 88, '엽서': 89, '장': 90, '고': 91, '가방': 92, '카드': 93, '여름': 94, '시리즈': 95, '든': 96, '기억': 97, '파우치': 98, '다이어리': 99, '매다': 100, '문': 101, '기': 102, '더': 103, '크다': 104, '모든': 105, '에코': 106, '귀걸이': 107, '초콜릿': 108, '가지': 109, '냥': 110, '새롭다': 111, '캘린더': 112, '게임': 113, '요': 114, '좋다': 115, '잡지': 116, '연': 117, '해주다': 118, '향': 119, '단행본': 120, '번째': 121, '네': 122, '아름답다': 123, '화': 124, '타다': 125, '간': 126, '컬러': 127, '만들기': 128, '특별하다': 129, '전통': 130, '오늘': 131, '만의': 132, '목걸이': 133, '그리고': 134, '하루': 135, '원': 136, '달': 137, '스티커': 138, '생활': 139, '모두': 140, '사': 141, '찾다': 142, '소재': 143, '노트': 144, '동': 145, '페미니즘': 146, '그림': 147, '작': 148, '바다': 149, '신': 150, '유기견': 151, '수': 152, '손': 153, '사진': 154, '티셔츠': 155, '영화': 156, '풍': 157, '작가': 158, '인형': 159, '시작': 160, '별': 161, '삶': 162, '오다': 163, '팔찌': 164, '먹다': 165, '쓰다': 166, '만화': 167, '즐기다': 168, '아트': 169, '포스터': 170, '권': 171, '에세이': 172, '꿈': 173, '입다': 174, '그리다': 175, '까지': 176, '알다': 177, '공': 178, '세계': 179, '밤': 180, '마법': 181, '빛': 182, '편': 183, '판': 184, '하나': 185, '크리스마스': 186, '인생': 187, '지키다': 188, '월간': 189, '브루': 190, '라': 191, '그림책': 192, '공간': 193, '두': 194, '극': 195, '날': 196, '콜드': 197, '가볍다': 198, '새': 199, '케이스': 200, '주': 201, '카페': 202, '마을': 203, '자연': 204, '한복': 205, '위해': 206, '소': 207, '가죽': 208, '진짜': 209, '동물': 210, '오': 211, '형': 212, '아이': 213, '행복하다': 214, '같다': 215, '박스': 216, '저': 217, '맛있다': 218, '떠나다': 219, '앨범': 220, '해': 221, '호': 222, '쿠키': 223, '반지': 224, '단': 225, '나르다': 226, '순간': 227, '셔츠': 228, '추다': 229, '쉬다': 230, '모음': 231, '면': 232, '서울': 233, '움': 234, '돌아오다': 235, '제주': 236, '일기': 237, '친구': 238, '게': 239, '어디': 240, '랑': 241, '디저트': 242, '하고': 243, '월': 244, '색': 245, '단편영화': 246, '패키지': 247, '방법': 248, '맛': 249, '독립': 250, '밀크': 251, '여자': 252, '지갑': 253, '예술': 254, '온': 255, '차': 256, '구': 257, '읽다': 258, '필요하다': 259, '어': 260, '가장': 261, '소중하다': 262, '아니다': 263, '보드게임': 264, '니': 265, '되어다': 266, '내다': 267, '퀴어': 268, '가이드': 269, '밉다': 270, '두번째': 271, '창작': 272, '드로잉': 273, '말': 274, '천': 275, '주년': 276, '것': 277, '출판': 278, '분': 279, '귀엽다': 280, '행복': 281, '소설': 282, '예쁘다': 283, '소녀': 284, '부터': 285, '비건': 286, '홈': 287, '미니': 288, '숲': 289, '피': 290, '빛나다': 291, '래': 292, '브릭': 293, '상': 294, '가다': 295, '모': 296, '힐링': 297, '디': 298, '일리': 299, '드리다': 300, '중': 301, '로맨스': 302, '도시': 303, '응원': 304, '초코': 305, '원피스': 306, '식': 307, '함': 308, '플': 309, '다시': 310, '준비': 311, '학교': 312, '시즌': 313, '질문': 314, '비누': 315, '조선': 316, '엄마': 317, '매일': 318, '리얼': 319, '나오다': 320, '키링': 321, '없이': 322, '당': 323, '주얼리': 324, '몸': 325, '비': 326, '간호': 327, '레시피': 328, '생각': 329, '지금': 330, '반려동물': 331, '엑스트라': 332, '담기다': 333, '소스': 334, '기념': 335, '언': 336, '한글': 337, '쿠션': 338, '자수': 339, '동화': 340, '가이드북': 341, '용': 342, '포즈': 343, '퍼퓸': 344, '디자이너': 345, '올': 346, '전하': 347, '요리': 348, '계절': 349, '폰트': 350, '캐릭터': 351, '고민': 352, '링': 353, '강아지': 354, '맨': 355, '반': 356, '브라': 357, '오브': 358, '역사': 359, '석': 360, '말다': 361, '드': 362, '추석': 363, '패션': 364, '데': 365, '뿐': 366, '포근하다': 367, '누구': 368, '페미니스트': 369, '핸드': 370, '어른': 371, '사전': 372, '귀': 373, '토끼': 374, '영어': 375, '공식': 376, '위로': 377, '채우다': 378, '트': 379, '의향': 380, '그린': 381, '패': 382, '살다': 383, '편지': 384, '처럼': 385, '스튜디오': 386, '방': 387, '션': 388, '나무': 389, '옷': 390, '소품': 391, '희망': 392, '모르다': 393, '때': 394, '편안하다': 395, '식물': 396, '패턴': 397, '센스': 398, '책갈피': 399, '행운': 400, '한번': 401, '법': 402, '시집': 403, '로만': 404, '더하다': 405, '회': 406, '실버': 407, '편하다': 408, '다양하다': 409, '선': 410, '받다': 411, '가을': 412, '가득': 413, '싶다': 414, '품다': 415, '꿈꾸다': 416, '투': 417, '유럽': 418, '끝': 419, '조': 420, '최초': 421, '대한민국': 422, '유기동물': 423, '로판': 424, '매': 425, '나다': 426, '지구': 427, '가능하다': 428, '력': 429, '클립': 430, '타로카드': 431, '영': 432, '같이': 433, '잊다': 434, '건강하다': 435, '스카프': 436, '후드': 437, '규어': 438, '버리다': 439, '환경': 440, '명': 441, '좋아하다': 442, '친환경': 443, '거리': 444, '물': 445, '단편': 446, '할머니': 447, '보석': 448, '안내서': 449, '한잔': 450, '잇다': 451, '완성': 452, '집사': 453, '스타일': 454, '어떤': 455, '가족': 456, '및': 457, '노트북': 458, '뜨다': 459, '앤': 460, '에도': 461, '텀블러': 462, '창': 463, '독도': 464, '클래식': 465, '동양': 466, '취향': 467, '에디': 468, '케이크': 469, '마시다': 470, '울': 471, '린넨': 472, '본': 473, '우주': 474, '의미': 475, '살': 476, '야': 477, '꾸다': 478, '도자기': 479, '산책': 480, '블루': 481, '내부': 482, '눈': 483, '보호': 484, '팩': 485, '으로만': 486, '문화': 487, '께': 488, '리': 489, '스': 490, '덕후': 491, '모찌': 492, '어버이날': 493, '한정판': 494, '섬유': 495, '에서가': 496, '아파트': 497, '매듭': 498, '알': 499, '괜찮다': 500, '아동': 501, '사계절': 502, '취미': 503, '프리미엄': 504, '상상': 505, '건강': 506, '인터뷰': 507, '노': 508, '멀다': 509, '길고양이': 510, '곳': 511, '복': 512, '마녀': 513, '열': 514, '몰다': 515, '추억': 516, '걱정': 517, '혼자': 518, '파다': 519, '벚꽃': 520, '처음': 521, '환상': 522, '프리': 523, '피부': 524, '스토리': 525, '쓸다': 526, '마지막': 527, '극장': 528, '라이프': 529, '메이드': 530, '국내': 531, '사용': 532, '톡': 533, '하늘': 534, '이만': 535, '블렌딩': 536, '액션': 537, '보내다': 538, '중세': 539, '아빠': 540, '과자': 541, '만남': 542, '자다': 543, '선택': 544, '공연': 545, '타': 546, '매력': 547, '복숭아': 548, '무': 549, '플라워': 550, '캠페인': 551, '피다': 552, '종이': 553, '추리': 554, '만화책': 555, '활용': 556, '닮다': 557, '지다': 558, '캔들': 559, '어떻다': 560, '드라마': 561, '저택': 562, '털': 563, '입양': 564, '장식': 565, '토닥': 566, '진주': 567, '엔': 568, '도감': 569, '어울리다': 570, '정원': 571, '스마트': 572, '필름': 573, '우': 574, '착하다': 575, '카드게임': 576, '현': 577, '안': 578, '풍경': 579, '자유': 580, '레이': 581, '안녕': 582, '포': 583, '파티': 584, '놀이': 585, '비밀': 586, '크림': 587, '기다리다': 588, '평범하다': 589, '써다': 590, '업': 591, '깊다': 592, '빨대': 593, '투닥': 594, '님': 595, '코트': 596, '팔': 597, '폰': 598, '양말': 599, '위안부': 600, '베이스': 601, '난': 602, '컵': 603, '고급': 604, '플라스틱': 605, '원하다': 606, '하우스': 607, '배우다': 608, '카네이션': 609, '경': 610, '습관': 611, '잉크': 612, '달달': 613, '널': 614, '호텔': 615, '계': 616, '설레다': 617, '트럼프': 618, '반려견': 619, '직접': 620, '끝내다': 621, '바': 622, '완벽하다': 623, '무협': 624, '상의': 625, '대학교': 626, '필수': 627, '굳다': 628, '예술가': 629, '부산': 630, '걸다': 631, '그녀': 632, '살리다': 633, '길': 634, '사랑스럽다': 635, '왕': 636, '개선': 637, '찾아오다': 638, '호랑이': 639, '따르다': 640, '로운': 641, '마법사': 642, '따다': 643, '천연': 644, '홀더': 645, '청년': 646, '각': 647, '그대로': 648, '소개': 649, '펙트': 650, '괴물': 651, '총': 652, '최고': 653, '더욱': 654, '수채화': 655, '빈티': 656, '키': 657, '씨': 658, '남다': 659, '볼': 660, '조각': 661, '기분': 662, '돕다': 663, '타임': 664, '홀로': 665, '봉제인형': 666, '바람': 667, '맞다': 668, '인쇄': 669, '노래': 670, '유리': 671, '음악': 672, '컬': 673, '청춘': 674, '발간': 675, '하트': 676, '빵': 677, '찌다': 678, '안경': 679, '장미': 680, '사이': 681, '죽음': 682, '졸업': 683, '발매': 684, '공부': 685, '뮤지컬': 686, '디지털': 687, '작품': 688, '미래': 689, '팀': 690, '틱': 691, '만에': 692, '툰': 693, '악세사리': 694, '후': 695, '테마': 696, '딸기': 697, '재': 698, '맞이': 699, '인간': 700, '실내': 701, '하나로': 702, '길냥이': 703, '이름': 704, '가득하다': 705, '부드럽다': 706, '새해': 707, '반려': 708, '다른': 709, '컬렉션': 710, '수제': 711, '상큼': 712, '늘다': 713, '우드': 714, '킹': 715, '순': 716, '프레임': 717, '구름': 718, '정규': 719, '담': 720, '전시회': 721, '이야': 722, '손안': 723, '템': 724, '부르다': 725, '연애': 726, '페이퍼': 727, '생존': 728, '달빛': 729, '치즈': 730, '치유': 731, '슬기롭다': 732, '예': 733, '모으다': 734, '캐': 735, '대로': 736, '다이아몬드': 737, '패드': 738, '간편하다': 739, '초': 740, '낭만': 741, '상생': 742, '시원하다': 743, '쉽다': 744, '향기롭다': 745, '덥다': 746, '스트랩': 747, '광고': 748, '집중': 749, '맥주': 750, '옥': 751, '글': 752, '한장': 753, '잡다': 754, '네이버웹툰': 755, '여행자': 756, '청소년': 757, '웨어': 758, '운동': 759, '그대': 760, '살아가다': 761, '어느': 762, '관리': 763, '랜덤': 764, '선인장': 765, '민화': 766, '치다': 767, '아티스트': 768, '감정': 769, '시대': 770, '억': 771, '초대': 772, '존재': 773, '머': 774, '생': 775, '메다': 776, '신화': 777, '사이클링': 778, '에는': 779, '잊혀지다': 780, '타로': 781, '움직이다': 782, '책방': 783, '오르다': 784, '반짝이다': 785, '들어주다': 786, '우산': 787, '마리': 788, '자켓': 789, '컨셉': 790, '편안함': 791, '홈웨어': 792, '펜': 793, '아이템': 794, '외부': 795, '민트': 796, '째': 797, '꼭': 798, '근': 799, '마스크': 800, '그날': 801, '사라지다': 802, '브랜드': 803, '담요': 804, '상속': 805, '캔버스': 806, '고래': 807, '퓨저': 808, '머플러': 809, '나누다': 810, '금속': 811, '하얗다': 812, '요즘': 813, '시선': 814, '보이다': 815, '에서만': 816, '연극': 817, '회화': 818, '멸종위기': 819, '핑크': 820, '시키다': 821, '글쓰기': 822, '목도리': 823, '가치': 824, '이고': 825, '나라': 826, '저고리': 827, '구독': 828, '독립운동가': 829, '모델링': 830, '프랑스': 831, '노하우': 832, '탄생': 833, '블라우스': 834, '레트로': 835, '라이트': 836, '레이스': 837, '뉴': 838, '이상': 839, '묘': 840, '한정': 841, '찌': 842, '끄다': 843, '스니커즈': 844, '자몽': 845, '베다': 846, '신발': 847, '속옷': 848, '서나': 849, '원룸': 850, '대화': 851, '전쟁': 852, '짜다': 853, '별자리': 854, '변화': 855, '클래스': 856, '우울증': 857, '잔': 858, '달다': 859, '스타': 860, '섬': 861, '정기': 862, '미술': 863, '화투': 864, '많다': 865, '디즈니': 866, '즐겁다': 867, '크로스': 868, '커버': 869, '연출': 870, '관': 871, '주인공': 872, '금은': 873, '영원하다': 874, '무기': 875, '실무': 876, '바로': 877, '인어': 878, '기획': 879, '버려진': 880, '쓰기': 881, '알리다': 882, '풀': 883, '꿀': 884, '자유롭다': 885, '장신구': 886, '점': 887, '공장': 888, '수납': 889, '기능': 890, '평화': 891, '시골': 892, '죽다': 893, '실용': 894, '워': 895, '장르': 896, '공원': 897, '못': 898, '이제': 899, '머리': 900, '과일': 901, '니트': 902, '빠지다': 903, '활자': 904, '제로': 905, '액세서리': 906, '생명': 907, '캐시미어': 908, '히어로즈': 909, '월경': 910, '플레이': 911, '맘': 912, '캣': 913, '발견': 914, '진심': 915, '테라': 916, '안전하다': 917, '얼굴': 918, '유': 919, '독서': 920, '시인': 921, '오디오': 922, '치마': 923, '해석': 924, '해결': 925, '인가': 926, '샴푸': 927, '그만': 928, '무엇': 929, '인가요': 930, '회사': 931, '돈': 932, '피우다': 933, '보통': 934, '익명': 935, '전문가': 936, '서비스': 937, '편집': 938, '감각': 939, '열두달': 940, '액자': 941, '고전': 942, '블': 943, '간호사': 944, '김': 945, '바디': 946, '자개': 947, '매트': 948, '큐': 949, '스푼': 950, '에가': 951, '키우다': 952, '카페인': 953, '바꾸다': 954, '의상': 955, '프리랜서': 956, '비혼': 957, '이루다': 958, '발': 959, '메세지': 960, '테이프': 961, '퀄리티': 962, '타투': 963, '싱글': 964, '중국': 965, '목소리': 966, '무화과': 967, '그립다': 968, '터': 969, '연말': 970, '에게도': 971, '현대': 972, '텀블벅': 973, '발렌타인데이': 974, '부탁': 975, '페미': 976, '책상': 977, '상징': 978, '클러치': 979, '그렇다': 980, '대학': 981, '이상하다': 982, '소원': 983, '축제': 984, '설화': 985, '일기장': 986, '퇴사': 987, '모던': 988, '무지개': 989, '올인원': 990, '다르다': 991, '젤리': 992, '폭': 993, '아무': 994, '식탁': 995, '다운': 996, '숨기다': 997, '빚': 998, '번': 999, '마이': 1000, '실험': 1001, '냄새': 1002, '한국어': 1003, '시럽': 1004, '쥬얼리': 1005, '전시': 1006, '상점': 1007, '틀다': 1008, '골': 1009, '인식': 1010, '실리콘': 1011, '무늬': 1012, '악세다': 1013, '드레스': 1014, '스냅': 1015, '정리': 1016, '가격': 1017, '오렌지': 1018, '가든': 1019, '브': 1020, '주택가': 1021, '파도': 1022, '블랙': 1023, '에어': 1024, '주머니': 1025, '브러시': 1026, '리스': 1027, '어드벤처': 1028, '숲속': 1029, '언제나': 1030, '학습': 1031, '봄날': 1032, '곁': 1033, '아이스': 1034, '세번': 1035, '약': 1036, '직업': 1037, '홍차': 1038, '대학생': 1039, '음식': 1040, '나비': 1041, '주택': 1042, '프로': 1043, '월드': 1044, '차갑다': 1045, '케어': 1046, '글라소': 1047, '일력': 1048, '스마트폰': 1049, '레진코믹스': 1050, '미스터리': 1051, '양갱': 1052, '요가': 1053, '팬츠': 1054, '걷다': 1055, '탈출': 1056, '신비하다': 1057, '화이트': 1058, '다크': 1059, '변신': 1060, '거치': 1061, '태어나다': 1062, '피크닉': 1063, '유리컵': 1064, '모험': 1065, '입히다': 1066, '말고': 1067, '소소하다': 1068, '들어가다': 1069, '맞춤': 1070, '동화책': 1071, '등': 1072, '마카롱': 1073, '편의점': 1074, '라이브': 1075, '사회': 1076, '며': 1077, '핸드폰': 1078, '바라보다': 1079, '출시': 1080, '주거': 1081, '표현': 1082, '높이다': 1083, '주얼': 1084, '밖': 1085, '수집': 1086, '모자': 1087, '지치다': 1088, '렛': 1089, '모습': 1090, '폐': 1091, '여정': 1092, '따스하다': 1093, '탁상': 1094, '룩': 1095, '잃어버리다': 1096, '도나': 1097, '드림캐쳐': 1098, '바지': 1099, '악마': 1100, '조선시대': 1101, '왜': 1102, '방지': 1103, '멋': 1104, '투맨': 1105, '가슴': 1106, '베리': 1107, '멀티': 1108, '양식': 1109, '야하다': 1110, '잠': 1111, '보드': 1112, '그때': 1113, '이기다': 1114, '인디자인': 1115, '신비': 1116, '바른': 1117, '메리': 1118, '문학': 1119, '우유': 1120, '보관': 1121, '스틱': 1122, '필요없다': 1123, '잼': 1124, '물들다': 1125, '곰': 1126, '문구': 1127, '해보다': 1128, '피치': 1129, '스페인': 1130, '포켓': 1131, '입': 1132, '울다': 1133, '어린왕자': 1134, '파운드': 1135, '채': 1136, '부적': 1137, '소망': 1138, '현실': 1139, '결혼': 1140, '건물': 1141, '실크': 1142, '작고': 1143, '힘': 1144, '픽셀': 1145, '레': 1146, '테이블': 1147, '청': 1148, '팅': 1149, '아프리카': 1150, '공유': 1151, '발달장애': 1152, '새기다': 1153, '전략': 1154, '이유': 1155, '앙': 1156, '장갑': 1157, '여우': 1158, '정규앨범': 1159, '이를': 1160, '모바일': 1161, '내주다': 1162, '러브': 1163, '심플': 1164, '빈': 1165, '꽃길': 1166, '핀': 1167, '초보': 1168, '머그컵': 1169, '한여름': 1170, '싱그럽다': 1171, '과의': 1172, '코로나': 1173, '줄': 1174, '밤하늘': 1175, '내일': 1176, '허리': 1177, '공포': 1178, '종류': 1179, '찾기': 1180, '웨이': 1181, '달콤': 1182, '삭스': 1183, '의정원': 1184, '색상': 1185, '오일': 1186, '에나': 1187, '리즈': 1188, '주의': 1189, '아이패드': 1190, '포토': 1191, '도우': 1192, '도서': 1193, '우울': 1194, '개인': 1195, '와인': 1196, '탈': 1197, '지니다': 1198, '검': 1199, '포토샵': 1200, '망': 1201, '지원': 1202, '업그레이드': 1203, '만원': 1204, '렌': 1205, '세기': 1206, '코딩': 1207, '애니메이션': 1208, '전용': 1209, '방구': 1210, '가게': 1211, '아침': 1212, '프릴': 1213, '주다': 1214, '문제': 1215, '깃': 1216, '다이어트': 1217, '아홉': 1218, '리다': 1219, '러': 1220, '용기': 1221, '일러스트레이터': 1222, '메이플스토리': 1223, '빌라': 1224, '요나': 1225, '지하철': 1226, '서다': 1227, '쯤': 1228, '콜라보': 1229, '언어': 1230, '미스트': 1231, '보': 1232, '파리': 1233, '싫다': 1234, '여덟': 1235, '슬프다': 1236, '멈추다': 1237, '실전': 1238, '걸': 1239, '국적': 1240, '스프레이': 1241, '장난감': 1242, '여기': 1243, '숨다': 1244, '특별': 1245, '꽃차': 1246, '고르다': 1247, '차다': 1248, '버전': 1249, '셀프': 1250, '입문': 1251, '뭐': 1252, '무료': 1253, '휴식': 1254, '노리개': 1255, '케익': 1256, '불다': 1257, '한나': 1258, '피해': 1259, '천사': 1260, '마스': 1261, '플랫폼': 1262, '수호': 1263, '조명': 1264, '복식': 1265, '루이보스': 1266, '극복': 1267, '날다': 1268, '경험': 1269, '작업': 1270, '딱': 1271, '마켓': 1272, '통': 1273, '연인': 1274, '크리스탈': 1275, '젊다': 1276, '진호': 1277, '외출': 1278, '딸': 1279, '치카': 1280, '만년': 1281, '만을': 1282, '방안': 1283, '소리': 1284, '정품': 1285, '줄이다': 1286, '투명하다': 1287, '조금': 1288, '원목': 1289, '헤드': 1290, '날개': 1291, '도움': 1292, '사건': 1293, '코스': 1294, '오로라': 1295, '재탄생': 1296, '믿다': 1297, '어스': 1298, '색다르다': 1299, '화려하다': 1300, '호러': 1301, '우리나라': 1302, '영화제': 1303, '룸': 1304, '도쿄': 1305, '앞': 1306, '캐리어': 1307, '가요': 1308, '아직도': 1309, '밴드': 1310, '변하다': 1311, '실': 1312, '긋다': 1313, '젖다': 1314, '자기': 1315, '병': 1316, '내리다': 1317, '정식': 1318, '외관': 1319, '검다': 1320, '찾아가다': 1321, '엑셀': 1322, '밥': 1323, '본격': 1324, '지옥': 1325, '한해': 1326, '슈': 1327, '아이스크림': 1328, '물의': 1329, '적다': 1330, '보틀': 1331, '넣다': 1332, '배': 1333, '겨울나기': 1334, '사인': 1335, '장애': 1336, '빠르다': 1337, '셰프': 1338, '기술': 1339, '병원': 1340, '신의': 1341, '지식': 1342, '한마음': 1343, '어둠': 1344, '일이': 1345, '자체': 1346, '운명': 1347, '각인': 1348, '트렁크': 1349, '트렌치코트': 1350, '체리': 1351, '루': 1352, '탐정': 1353, '휴대': 1354, '고소하다': 1355, '오픈': 1356, '이나': 1357, '버스': 1358, '도서관': 1359, '사이즈': 1360, '레이어': 1361, '카메라': 1362, '스며들다': 1363, '년대': 1364, '아래': 1365, '샵': 1366, '초록': 1367, '개정판': 1368, '끼': 1369, '아기': 1370, '대신': 1371, '유기농': 1372, '층': 1373, '바르다': 1374, '뿌리다': 1375, '롱': 1376, '세월호': 1377, '단지': 1378, '누가': 1379, '단어': 1380, '이불': 1381, '필': 1382, '신비롭다': 1383, '기타': 1384, '로맨틱': 1385, '쏙': 1386, '토트': 1387, '코튼': 1388, '클럽': 1389, '듣다': 1390, '감': 1391, '허니': 1392, '이지': 1393, '간식': 1394, '깨끗하다': 1395, '베이커리': 1396, '홍삼': 1397, '퇴근': 1398, '무드등': 1399, '자르다': 1400, '전자책': 1401, '술잔': 1402, '싸다': 1403, '감동': 1404, '기다': 1405, '꾸미다': 1406, '평생': 1407, '파일': 1408, '토이': 1409, '손수건': 1410, '홀로그램': 1411, '나로': 1412, '전해': 1413, '이번': 1414, '식사': 1415, '아프다': 1416, '트리': 1417, '부모님': 1418, '다가오다': 1419, '일지': 1420, '설날': 1421, '식당': 1422, '직장인': 1423, '느리다': 1424, '지속': 1425, '피아노': 1426, '연필': 1427, '코리아': 1428, '콘서트': 1429, '생리': 1430, '메모': 1431, '뛰다': 1432, '는가': 1433, '체인': 1434, '윤동주': 1435, '새다': 1436, '떡볶이': 1437, '자연스럽다': 1438, '꼬마': 1439, '깨우다': 1440, '이드': 1441, '헤어': 1442, '기묘하다': 1443, '산': 1444, '궁금하다': 1445, '사무실': 1446, '바라다': 1447, '의사': 1448, '여러분': 1449, '심리': 1450, '요괴': 1451, '전설': 1452, '넘다': 1453, '씨앗': 1454, '언제': 1455, '배다': 1456, '맞추다': 1457, '명화': 1458, '임': 1459, '쏘다': 1460, '들이다': 1461, '스타킹': 1462, '꿀잠': 1463, '휘': 1464, '조합': 1465, '신들': 1466, '던전': 1467, '잡화': 1468, '묘약': 1469, '화장품': 1470, '촌': 1471, '비법': 1472, '꽃잎': 1473, '사과': 1474, '댕댕': 1475, '달리다': 1476, '인공': 1477, '종료': 1478, '버킷': 1479, '베개': 1480, '덕질': 1481, '충전': 1482, '레더': 1483, '돌고래': 1484, '레몬': 1485, '덕': 1486, '톤': 1487, '미식': 1488, '백과사전': 1489, '푸드': 1490, '리소스': 1491, '건시': 1492, '웹툰작가': 1493, '차별': 1494, '감다': 1495, '대형': 1496, '폿': 1497, '뿐이다': 1498, '타르트': 1499, '질': 1500, '항구': 1501, '마다': 1502, '생리대': 1503, '라떼': 1504, '되찾다': 1505, '갖추다': 1506, '배우': 1507, '음식점': 1508, '귀족': 1509, '채소': 1510, '사막': 1511, '찬란하다': 1512, '리본': 1513, '봄꽃': 1514, '비단': 1515, '배지': 1516, '닉': 1517, '칼': 1518, '진실': 1519, '알리': 1520, '사방신': 1521, '영국': 1522, '사장': 1523, '행성': 1524, '허브': 1525, '잠들다': 1526, '주문': 1527, '로움': 1528, '은은하다': 1529, '가지다': 1530, '폐허': 1531, '매화': 1532, '치료': 1533, '살라미': 1534, '섹스': 1535, '머그': 1536, '교육': 1537, '츠': 1538, '지역': 1539, '이주': 1540, '머물다': 1541, '연못': 1542, '한눈': 1543, '카카오': 1544, '웨': 1545, '이스트': 1546, '투명': 1547, '크툴루': 1548, '지내다': 1549, '남성': 1550, '인테리어': 1551, '푸른': 1552, '알록달록': 1553, '티타임': 1554, '보름달': 1555, '모빌': 1556, '색감': 1557, '이의': 1558, '단편소설': 1559, '들어오다': 1560, '무궁화': 1561, '썸머': 1562, '프리즘': 1563, '농부': 1564, '몰랑이': 1565, '과학': 1566, '링크': 1567, '번역': 1568, '오얏': 1569, '서른': 1570, '감사': 1571, '코인': 1572, '말랑말랑': 1573, '로그': 1574, '남녀': 1575, '모티브': 1576, '발렌타인': 1577, '를위': 1578, '카이': 1579, '올해': 1580, '동네': 1581, '프레': 1582, '속작': 1583, '백년': 1584, '스웻': 1585, '파자마': 1586, '물결': 1587, '터지다': 1588, '고요하다': 1589, '정석': 1590, '펴다': 1591, '생일': 1592, '펭귄': 1593, '건축': 1594, '관계': 1595, '거진': 1596, '주목': 1597, '서로': 1598, '요정': 1599, '낮': 1600, '온기': 1601, '감싸다': 1602, '기쁨': 1603, '그냥': 1604, '언니': 1605, '봉투': 1606, '쓰레기': 1607, '벗': 1608, '지침': 1609, '놀다': 1610, '이태리': 1611, '제대로': 1612, '비주': 1613, '노벨': 1614, '휴가': 1615, '콩': 1616, '만세': 1617, '미드': 1618, '화가': 1619, '주제': 1620, '애': 1621, '페스티벌': 1622, '북극곰': 1623, '동물원': 1624, '펼쳐지다': 1625, '여성향': 1626, '찰나': 1627, '주식': 1628, '흑': 1629, '초판': 1630, '성폭력': 1631, '살아나다': 1632, '우린': 1633, '설탕': 1634, '햇살': 1635, '탈취': 1636, '링북': 1637, '버튼': 1638, '어쩌면': 1639, '음반': 1640, '분양': 1641, '유니크': 1642, '은반지': 1643, '오는': 1644, '다섯': 1645, '스텀': 1646, '영혼': 1647, '불안': 1648, '꼬': 1649, '재미': 1650, '걸음': 1651, '나타나다': 1652, '공예': 1653, '책임지다': 1654, '여유': 1655, '피어': 1656, '견': 1657, '왕실': 1658, '환타지': 1659, '빌리다': 1660, '메이플': 1661, '와의': 1662, '안되다': 1663, '팬티': 1664, '펜트하우스': 1665, '스럽게': 1666, '번화가': 1667, '빛깔': 1668, '에겐': 1669, '워터': 1670, '소방관': 1671, '편리하다': 1672, '센터': 1673, '그늘': 1674, '그리기': 1675, '유자': 1676, '왕궁': 1677, '흙': 1678, '참여': 1679, '재미있다': 1680, '놓치다': 1681, '롭고': 1682, '술': 1683, '문장': 1684, '더블': 1685, '굽다': 1686, '비트': 1687, '드로즈': 1688, '가깝다': 1689, '프리지아': 1690, '사이버펑크': 1691, '스탠드': 1692, '센트': 1693, '머스크': 1694, '우아하다': 1695, '데이트': 1696, '간직': 1697, '끈': 1698, '거울': 1699, '촉촉하다': 1700, '담수': 1701, '무게': 1702, '개다': 1703, '운영': 1704, '도전': 1705, '로나': 1706, '맵': 1707, '장편': 1708, '방황': 1709, '정말': 1710, '아이스티': 1711, '살구': 1712, '파우더': 1713, '메탈': 1714, '뮤직': 1715, '플랜': 1716, '피카': 1717, '감자': 1718, '위대하다': 1719, '느와르': 1720, '기전': 1721, '파': 1722, '에서도': 1723, '설': 1724, '드립': 1725, '들려주다': 1726, '쇄': 1727, '식단': 1728, '무비': 1729, '으로나': 1730, '페': 1731, '다방': 1732, '완벽': 1733, '탐구': 1734, '대의': 1735, '대표': 1736, '골드': 1737, '미소': 1738, '이미지': 1739, '공감': 1740, '땀': 1741, '왁스': 1742, '개발자': 1743, '밭': 1744, '남자': 1745, '복도': 1746, '빌딩': 1747, '끼다': 1748, '베이': 1749, '흐름': 1750, '포크': 1751, '꺼내다': 1752, '영웅': 1753, '구르다': 1754, '설선물': 1755, '여신': 1756, '좀비': 1757, '펫': 1758, '진하다': 1759, '칵테일': 1760, '유령': 1761, '메이킹': 1762, '플레잉카드': 1763, '두다': 1764, '국민': 1765, '랩': 1766, '잠옷': 1767, '한세상': 1768, '인식표': 1769, '확장': 1770, '액': 1771, '오래되다': 1772, '가하다': 1773, '인기': 1774, '토종': 1775, '대하': 1776, '문자': 1777, '몬스터': 1778, '선조': 1779, '봉봉': 1780, '드라이': 1781, '서양': 1782, '자신': 1783, '스커트': 1784, '리지': 1785, '부': 1786, '수상한': 1787, '통해': 1788, '착': 1789, '정': 1790, '정직하다': 1791, '반짝반짝': 1792, '오컬트': 1793, '소년': 1794, '택배': 1795, '코': 1796, '재료': 1797, '찍다': 1798, '축하': 1799, '창업': 1800, '아두': 1801, '흔들리다': 1802, '대한': 1803, '잼잼': 1804, '지혜': 1805, '돕기': 1806, '국화': 1807, '말로': 1808, '신년': 1809, '사이드': 1810, '화병': 1811, '북한': 1812, '이런': 1813, '사생활': 1814, '이어링': 1815, '연구': 1816, '고간': 1817, '열두': 1818, '대다': 1819, '놓다': 1820, '터치': 1821, '피스': 1822, '산호': 1823, '스물': 1824, '줄다': 1825, '블로그': 1826, '생기다': 1827, '번의': 1828, '이영화': 1829, '레터': 1830, '주간': 1831, '돼다': 1832, '식빵': 1833, '꽂다': 1834, '의첫': 1835, '셜': 1836, '고프다': 1837, '비싸다': 1838, '얼': 1839, '암': 1840, '환': 1841, '채식': 1842, '네코': 1843, '소비': 1844, '다정하다': 1845, '아티': 1846, '튜버': 1847, '헌법': 1848, '명의': 1849, '시뮬레이션': 1850, '안다': 1851, '재해': 1852, '타월': 1853, '우울하다': 1854, '산다': 1855, '보기': 1856, '투자': 1857, '소득': 1858, '코디': 1859, '평민': 1860, '장판': 1861, '업사이클': 1862, '보고서': 1863, '커스터': 1864, '징': 1865, '스케치': 1866, '패닉': 1867, '목련': 1868, '까맣다': 1869, '여섯': 1870, '어서': 1871, '아이돌': 1872, '에버': 1873, '생물': 1874, '바닐라': 1875, '귀염': 1876, '한송이': 1877, '뒤': 1878, '어딘가': 1879, '여권': 1880, '올리다': 1881, '데포': 1882, '자료': 1883, '활동': 1884, '꿀팁': 1885, '베를린': 1886, '도의': 1887, '맨투맨': 1888, '델리': 1889, '효과': 1890, '칠': 1891, '린': 1892, '아카이브': 1893, '힙': 1894, '앤솔로지': 1895, '세대': 1896, '존': 1897, '헤': 1898, '환영': 1899, '허그': 1900, '와만': 1901, '동안': 1902, '제품': 1903, '전공자': 1904, '권리': 1905, '도장': 1906, '이해': 1907, '한강': 1908, '을기': 1909, '품': 1910, '찻잔': 1911, '접시': 1912, '쓰이다': 1913, '아르': 1914, '영감': 1915, '웹소설': 1916, '연재': 1917, '방석': 1918, '가보다': 1919, '전국': 1920, '멍': 1921, '장인': 1922, '소환': 1923, '포투': 1924, '너무': 1925, '사지': 1926, '모이다': 1927, '멋지다': 1928, '줍다': 1929, '필독': 1930, '마스터': 1931, '급': 1932, '고양': 1933, '희다': 1934, '서점': 1935, '아카시아': 1936, '서도': 1937, '의방': 1938, '알파카': 1939, '가까이': 1940, '궁궐': 1941, '소금': 1942, '유니콘': 1943, '운': 1944, '이르다': 1945, '영상': 1946, '성장': 1947, '수리': 1948, '앨리스': 1949, '태극기': 1950, '구역': 1951, '데코': 1952, '글자': 1953, '숨': 1954, '상처': 1955, '보금자리': 1956, '만난': 1957, '동시': 1958, '노랗다': 1959, '그래픽': 1960, '단청': 1961, '몽': 1962, '뻔하다': 1963, '끝판': 1964, '쪽': 1965, '강하다': 1966, '놈': 1967, '리버': 1968, '창고': 1969, '젠': 1970, '럭셔리': 1971, '원샷': 1972, '케': 1973, '경찰서': 1974, '솔루션': 1975, '낫': 1976, '샘플러': 1977, '라일락': 1978, '순이': 1979, '깨다': 1980, '컬러링': 1981, '팔레트': 1982, '드디어': 1983, '달라지다': 1984, '프': 1985, '으로가': 1986, '트로피': 1987, '이안': 1988, '빼다': 1989, '게으르다': 1990, '휴대폰': 1991, '전투': 1992, '레즈비언': 1993, '여름밤': 1994, '퍼즐': 1995, '살기': 1996, '마비노기': 1997, '위스키': 1998, '플로': 1999, '호수': 2000, '히': 2001, '군': 2002, '라면': 2003, '망고': 2004, '하프': 2005, '혜윰': 2006, '중독': 2007, '스노우볼': 2008, '페이크': 2009, '미스테리': 2010, '무크': 2011, '여왕': 2012, '밝히다': 2013, '버려지다': 2014, '불편하다': 2015, '다이아': 2016, '멜론': 2017, '마블': 2018, '번은': 2019, '죽이다': 2020, '금': 2021, '웰': 2022, '레드': 2023, '물건': 2024, '순수하다': 2025, '용하다': 2026, '시각': 2027, '튤립': 2028, '코믹스': 2029, '샷': 2030, '과거': 2031, '비타민': 2032, '오후': 2033, '시각장애인': 2034, '푸르다': 2035, '에이': 2036, '라운드': 2037, '유기': 2038, '메시지': 2039, '낭시': 2040, '미술관': 2041, '마케팅': 2042, '높다': 2043, '프렌즈': 2044, '홀리데이': 2045, '종합': 2046, '버터': 2047, '캔디': 2048, '사진관': 2049, '슬립': 2050, '체스': 2051, '답': 2052, '애쉬': 2053, '느끼다': 2054, '첫걸음': 2055, '재즈': 2056, '리스트': 2057, '안심': 2058, '당당하다': 2059, '과정': 2060, '삼': 2061, '데스크': 2062, '약속': 2063, '시절': 2064, '만지다': 2065, '가나': 2066, '꽃말': 2067, '깨어나다': 2068, '낯선': 2069, '숄더': 2070, '리미티드에디션': 2071, '커플': 2072, '메모리': 2073, '기초': 2074, '카라': 2075, '새벽': 2076, '딩': 2077, '포장': 2078, '타고': 2079, '대회': 2080, '오랫동안': 2081, '척': 2082, '딱좋다': 2083, '캠핑': 2084, '즐거움': 2085, '계간': 2086, '포스트': 2087, '잘살다': 2088, '태블릿': 2089, '디자인학': 2090, '서든': 2091, '오브젝트': 2092, '분위기': 2093, '스윗': 2094, '레인보우': 2095, '멸종위기종': 2096, '잃다': 2097, '로우': 2098, '그래서': 2099, '춘천': 2100, '지만': 2101, '코팅': 2102, '열리다': 2103, '겉': 2104, '서체': 2105, '바보': 2106, '출근': 2107, '우모': 2108, '개념': 2109, '선생님': 2110, '모집': 2111, '슬픔': 2112, '집단': 2113, '탐색': 2114, '시민': 2115, '로부터': 2116, '라고': 2117, '뿔': 2118, '사서': 2119, '단순하다': 2120, '카툰': 2121, '소셜': 2122, '마그넷': 2123, '자리': 2124, '집다': 2125, '짓다': 2126, '다니다': 2127, '자의': 2128, '네일': 2129, '악기': 2130, '없애다': 2131, '버블': 2132, '소비자': 2133, '이크': 2134, '파크': 2135, '비치': 2136, '페어': 2137, '리움': 2138, '아들': 2139, '마술': 2140, '유관순': 2141, '우리말': 2142, '짧다': 2143, '외롭다': 2144, '메리크리스마스': 2145, '국가': 2146, '두루마기': 2147, '캘리그라피': 2148, '꾼': 2149, '뿜뿜': 2150, '스페이스': 2151, '이함': 2152, '샤워': 2153, '열정': 2154, '모리': 2155, '도심': 2156, '스콘': 2157, '해치': 2158, '복원': 2159, '피해자': 2160, '만큼': 2161, '믹': 2162, '마인드': 2163, '영롱하다': 2164, '후광': 2165, '막다': 2166, '누군가': 2167, '다루다': 2168, '여운': 2169, '녹차': 2170, '아몬드': 2171, '서울대': 2172, '돌보다': 2173, '석고': 2174, '아로마': 2175, '갓': 2176, '데려가다': 2177, '초기': 2178, '상상력': 2179, '학': 2180, '트이다': 2181, '크리에이터': 2182, '채다': 2183, '일본': 2184, '축구': 2185, '조절': 2186, '산타': 2187, '보이스': 2188, '유니버스': 2189, '가꾸다': 2190, '쟈': 2191, '일곱': 2192, '마련': 2193, '프린트': 2194, '웹': 2195, '버핏': 2196, '물다': 2197, '손쉽다': 2198, '데미안': 2199, '럼': 2200, '부다': 2201, '의성': 2202, '만능': 2203, '고생': 2204, '독': 2205, '보라': 2206, '연말정산': 2207, '붓': 2208, '유혹': 2209, '왕국': 2210, '탈것': 2211, '세탁': 2212, '데이': 2213, '뱅쇼': 2214, '블루투스': 2215, '질감': 2216, '제일': 2217, '적용': 2218, '오가다': 2219, '트럴': 2220, '모꼬지': 2221, '학과': 2222, '유목민': 2223, '자취': 2224, '퐁당': 2225, '별빛': 2226, '손글씨': 2227, '장례식': 2228, '아르누보': 2229, '풀다': 2230, '맛보다': 2231, '꼭알': 2232, '일드': 2233, '자년': 2234, '매혹': 2235, '록': 2236, '셋': 2237, '침실': 2238, '감독': 2239, '보들보들': 2240, '차오르다': 2241, '치약': 2242, '누': 2243, '책자': 2244, '퍼스': 2245, '기행': 2246, '자세': 2247, '스트레스': 2248, '오리진': 2249, '생초콜릿': 2250, '윈': 2251, '수트': 2252, '필요': 2253, '경복궁': 2254, '성용': 2255, '항균': 2256, '버선': 2257, '홍콩': 2258, '가의': 2259, '거품': 2260, '처': 2261, '워머': 2262, '자석': 2263, '소나무': 2264, '넌': 2265, '명품': 2266, '나쁘다': 2267, '우디': 2268, '느낌': 2269, '제철': 2270, '아롱': 2271, '롤': 2272, '리틀': 2273, '수익': 2274, '투잡': 2275, '계속': 2276, '라이프스타일': 2277, '괴이': 2278, '배송': 2279, '완전하다': 2280, '괴담': 2281, '오드': 2282, '체크': 2283, '손목': 2284, '기준': 2285, '월홈': 2286, '레이아웃': 2287, '품격': 2288, '방탈출게임': 2289, '방콕': 2290, '설정': 2291, '뜨겁다': 2292, '외전': 2293, '편견': 2294, '에너지': 2295, '레깅스': 2296, '참사': 2297, '년차': 2298, '서기': 2299, '가정': 2300, '모히또': 2301, '매뉴얼': 2302, '증상': 2303, '시장': 2304, '베이컨': 2305, '용량': 2306, '도둑': 2307, '골목': 2308, '쇼콜라': 2309, '챙기다': 2310, '빵빵': 2311, '깃털': 2312, '형님': 2313, '노르': 2314, '웃음': 2315, '양념치킨': 2316, '제작자': 2317, '만년필': 2318, '바리스타': 2319, '너와나': 2320, '위기': 2321, '스트라이프': 2322, '간편': 2323, '펼치다': 2324, '드샤': 2325, '믹스': 2326, '코코': 2327, '넘치다': 2328, '바이러스': 2329, '네모': 2330, '트래블': 2331, '기르다': 2332, '브로치': 2333, '프렌치': 2334, '아동학대': 2335, '때리다': 2336, '지도': 2337, '귤': 2338, '덱': 2339, '실링': 2340, '콕': 2341, '초상화': 2342, '비행': 2343, '봉': 2344, '손거울': 2345, '스릴러': 2346, '직장': 2347, '핫': 2348, '곱다': 2349, '이여': 2350, '선사': 2351, '라임': 2352, '아날로그': 2353, '제주도': 2354, '어리다': 2355, '의류': 2356, '데뷔': 2357, '가면': 2358, '파인애플': 2359, '남기다': 2360, '세다': 2361, '경계': 2362, '열다': 2363, '수건': 2364, '슬리퍼': 2365, '식스': 2366, '열매': 2367, '접다': 2368, '레인': 2369, '득': 2370, '숙성': 2371, '스테이크': 2372, '스승의날': 2373, '목': 2374, '홀': 2375, '이프': 2376, '노인': 2377, '홀릭': 2378, '독립운동': 2379, '우주해적': 2380, '도구': 2381, '에서의': 2382, '청량하다': 2383, '픽션': 2384, '여행지': 2385, '티켓': 2386, '인사': 2387, '든든하다': 2388, '확행': 2389, '결국': 2390, '돼지': 2391, '특수': 2392, '퍼': 2393, '지르다': 2394, '할로윈': 2395, '그룹': 2396, '은하': 2397, '세종대왕': 2398, '나날': 2399, '공주': 2400, '스몰': 2401, '수정': 2402, '농장': 2403, '벨': 2404, '북스': 2405, '커피한잔': 2406, '내내': 2407, '마우스패드': 2408, '마주': 2409, '드림': 2410, '스페셜': 2411, '티백': 2412, '혈액': 2413, '폭력': 2414, '자투리': 2415, '쿠': 2416, '플러스': 2417, '텃밭': 2418, '엮': 2419, '불법': 2420, '촬영': 2421, '프라이드': 2422, '근절': 2423, '잠자다': 2424, '교회': 2425, '발찌': 2426, '다람쥐': 2427, '성향': 2428, '포토북': 2429, '동아리': 2430, '토스트': 2431, '나가다': 2432, '레코드': 2433, '내면': 2434, '논': 2435, '체험': 2436, '띠': 2437, '에의': 2438, '상자': 2439, '닝': 2440, '텍스트': 2441, '글꼴': 2442, '쫀득': 2443, '연결하다': 2444, '소장': 2445, '주기': 2446, '생강': 2447, '깔끔하다': 2448, '막': 2449, '결식': 2450, '보따리': 2451, '미리': 2452, '하자': 2453, '화이트데이': 2454, '다큐멘터리': 2455, '해피': 2456, '데이지': 2457, '잘나다': 2458, '눈물': 2459, '팡': 2460, '브라우니': 2461, '콘텐츠': 2462, '앞치마': 2463, '재다': 2464, '정의': 2465, '여행기': 2466, '부서지다': 2467, '셋업': 2468, '발랄': 2469, '의자': 2470, '학생': 2471, '선율': 2472, '기획전': 2473, '시들다': 2474, '옛날': 2475, '명상': 2476, '해양': 2477, '골든': 2478, '파스텔': 2479, '녹색': 2480, '스키': 2481, '메이커': 2482, '로컬': 2483, '그림자': 2484, '켜다': 2485, '알콜': 2486, '미치다': 2487, '장기': 2488, '묻다': 2489, '호호': 2490, '그림엽서': 2491, '인도': 2492, '노을': 2493, '진': 2494, '이웃': 2495, '씩': 2496, '사소하다': 2497, '문예지': 2498, '한동화': 2499, '핀란드': 2500, '사적': 2501, '지리': 2502, '오랜': 2503, '토파즈': 2504, '이라는': 2505, '정치': 2506, '도와주다': 2507, '사다': 2508, '살인': 2509, '만들어지다': 2510, '방향': 2511, '갑': 2512, '빨갛다': 2513, '타이': 2514, '착용': 2515, '월호': 2516, '올여름': 2517, '자녀': 2518, '젤': 2519, '스타트업': 2520, '그래도': 2521, '자매': 2522, '고시원': 2523, '히어로': 2524, '크래프트': 2525, '살롱': 2526, '고등학생': 2527, '항해': 2528, '탄생석': 2529, '시부': 2530, '작품집': 2531, '아웃': 2532, '레이싱': 2533, '일요': 2534, '동인': 2535, '모임': 2536, 'ㅣ': 2537, '감사하다': 2538, '마다가스카르': 2539, '냐': 2540, '베지터블': 2541, '눈꽃': 2542, '플로우': 2543, '이슈': 2544, '단독주택': 2545, '인류': 2546, '절반': 2547, '터키': 2548, '에어팟': 2549, '인권영화제': 2550, '강사': 2551, '춤': 2552, '배달': 2553, '씻다': 2554, '비닐': 2555, '쌀쌀하다': 2556, '스터디': 2557, '앱': 2558, '가기': 2559, '필사': 2560, '먼저': 2561, '모델': 2562, '수고': 2563, '건설': 2564, '녹다': 2565, '나리': 2566, '연습': 2567, '인의': 2568, '왕자': 2569, '변호사': 2570, '고요': 2571, '과제': 2572, '대체': 2573, '좀더': 2574, '사의': 2575, '맡다': 2576, '탐험': 2577, '생태': 2578, '미세먼지': 2579, '기차': 2580, '로비': 2581, '틴': 2582, '건너': 2583, '작곡': 2584, '코코넛': 2585, '의선': 2586, '집무': 2587, '멍멍': 2588, '코끼리': 2589, '상영': 2590, '펙': 2591, '린지': 2592, '타입': 2593, '펜던트': 2594, '브릿지': 2595, '조화': 2596, '택': 2597, '샤인': 2598, '쇼': 2599, '불안하다': 2600, '상이': 2601, '길위': 2602, '놀라다': 2603, '범': 2604, '영화사': 2605, '공허하다': 2606, '스킨': 2607, '즙': 2608, '점퍼': 2609, '뽀': 2610, '응급실': 2611, '자두': 2612, '터널': 2613, '스노우': 2614, '양면': 2615, '누비': 2616, '미토': 2617, '분리': 2618, '세척': 2619, '궁': 2620, '보물': 2621, '유저': 2622, '램프': 2623, '싸우다': 2624, '전세계': 2625, '고통': 2626, '선비': 2627, '최적화': 2628, '스트로우': 2629, '연장': 2630, '일회용': 2631, '짓': 2632, '물리다': 2633, '떨어지다': 2634, '카세트': 2635, '물든': 2636, '비결': 2637, '오리': 2638, '자재': 2639, '시크': 2640, '필터': 2641, '그리스신화': 2642, '후추': 2643, '두근두근': 2644, '숨쉬다': 2645, '사각팬티': 2646, '솜': 2647, '벙거지': 2648, '르': 2649, '방기': 2650, '인데': 2651, '우리동네': 2652, '주병': 2653, '시르다': 2654, '보고': 2655, '멜로디': 2656, '걸치다': 2657, '신입': 2658, '얻다': 2659, '대통령': 2660, '파란': 2661, '억해': 2662, '심리상담': 2663, '자동차': 2664, '담배': 2665, '키친': 2666, '쌍둥이': 2667, '민초': 2668, '복의': 2669, '모험가': 2670, '복합': 2671, '쇼핑몰': 2672, '별로': 2673, '런던': 2674, '광장': 2675, '귀찮다': 2676, '놀이터': 2677, '강의': 2678, '점술': 2679, '전기': 2680, '자기계발': 2681, '쓸모': 2682, '거나': 2683, '마차': 2684, '신규': 2685, '또': 2686, '심장': 2687, '모래': 2688, '제거': 2689, '찬': 2690, '학원': 2691, '공작': 2692, '코디얼': 2693, '칼로리': 2694, '극단': 2695, '컴발리': 2696, '안기다': 2697, '조아하다': 2698, '아이콘': 2699, '베스트': 2700, '수박': 2701, '햇': 2702, '특허': 2703, '롭': 2704, '무더위': 2705, '날리다': 2706, '도검': 2707, '한가위': 2708, '성하다': 2709, '교과서': 2710, '로브': 2711, '쇼퍼': 2712, '업종': 2713, '완결': 2714, '헌': 2715, '쿨': 2716, '침대': 2717, '분들': 2718, '틀리다': 2719, '평등': 2720, '떡': 2721, '베이비': 2722, '대백': 2723, '울트라': 2724, '안나': 2725, '버터쿠키': 2726, '스케': 2727, '허다': 2728, '슈톨렌': 2729, '방탄': 2730, '왕초보': 2731, '기념품': 2732, '구현': 2733, '용다': 2734, '프린팅': 2735, '월렛': 2736, '북디자인': 2737, '패밀리': 2738, '아케': 2739, '국문': 2740, '나와라': 2741, '염색': 2742, '스톤': 2743, '혁명': 2744, '말차': 2745, '바이': 2746, '다용': 2747, '움직임': 2748, '두피': 2749, '서브': 2750, '한지': 2751, '정장': 2752, '지나가다': 2753, '입사': 2754, '인검': 2755, '밍': 2756, '애프터눈티': 2757, '아메리칸': 2758, '교실': 2759, '보이차': 2760, '루나': 2761, '에브리': 2762, '세금': 2763, '맞춤법': 2764, '청포도': 2765, '소울': 2766, '글로브': 2767, '컷': 2768, '닷': 2769, '대도시': 2770, '미가': 2771, '동거': 2772, '스토리텔링': 2773, '스케일': 2774, '울림': 2775, '실종': 2776, '청자': 2777, '참다': 2778, '예방': 2779, '증후군': 2780, '토너': 2781, '태양': 2782, '맞서다': 2783, '혼술': 2784, '으로도': 2785, '정신과': 2786, '탬프': 2787, '위작': 2788, '디컬': 2789, '주의보': 2790, '유흥': 2791, '브드': 2792, '승무원': 2793, '머스': 2794, '뚫다': 2795, '커프': 2796, '듬뿍': 2797, '함수': 2798, '방한': 2799, '콜': 2800, '필드': 2801, '커다랗다': 2802, '스크래치': 2803, '오피스': 2804, '스크린': 2805, '쿨쿨': 2806, '도밍': 2807, '가사': 2808, '랑은': 2809, '베': 2810, '남': 2811, '얼그레이': 2812, '본적': 2813, '몽환': 2814, '일러스트레이션': 2815, '생선': 2816, '달인': 2817, '셜록홈즈': 2818, '창덕궁': 2819, '기담': 2820, '토록': 2821, '썸': 2822, '상담': 2823, '조립': 2824, '계란': 2825, '서적': 2826, '커먼': 2827, '스퀘어': 2828, '헬': 2829, '엔딩크레딧': 2830, '쏟아지다': 2831, '매직': 2832, '문화유산': 2833, '행': 2834, '플랫': 2835, '친해지다': 2836, '종결': 2837, '강치': 2838, '달토끼': 2839, '밀착': 2840, '핏': 2841, '에게나': 2842, '베이직': 2843, '이렇게': 2844, '스페인어': 2845, '유산': 2846, '공개': 2847, '곰털': 2848, '배색': 2849, '레노먼드': 2850, '일월오봉도': 2851, '러버': 2852, '그것': 2853, '정성': 2854, '팬': 2855, '니스': 2856, '클리': 2857, '참전용사': 2858, '천상열차분야지도': 2859, '원단': 2860, '미사': 2861, '사진책': 2862, '엘': 2863, '미스': 2864, '인권': 2865, '기회': 2866, '코지': 2867, '와사비': 2868, '동전': 2869, '향로': 2870, '단단하다': 2871, '페일': 2872, '언젠가': 2873, '팡팡': 2874, '내려오다': 2875, '잎': 2876, '롯': 2877, '년도': 2878, '무선': 2879, '강원도': 2880, '반고흐': 2881, '똑똑하다': 2882, '네이버': 2883, '비추다': 2884, '리듬': 2885, '한편': 2886, '베스트셀러': 2887, '공룡': 2888, '찰떡': 2889, '리뷰': 2890, '봄맞이': 2891, '광복': 2892, '삶다': 2893, '망하다': 2894, '스러운': 2895, '계단': 2896, '미미': 2897, '러블': 2898, '여름날': 2899, '소믈리에': 2900, '페인': 2901, '순환': 2902, '스킬': 2903, '두운': 2904, '야옹야옹': 2905, '성소수자': 2906, '주인': 2907, '애니멀': 2908, '아크릴': 2909, '아가씨': 2910, '마들렌': 2911, '레나': 2912, '마음대로': 2913, '지능': 2914, '차단': 2915, '연하': 2916, '효': 2917, '땅콩': 2918, '조용하다': 2919, '대물': 2920, '무릎': 2921, '릴리': 2922, '샘플': 2923, '주술': 2924, '당장': 2925, '합격': 2926, '미니멀리즘': 2927, '문답': 2928, '티크': 2929, '용키': 2930, '고기': 2931, '웨이브': 2932, '네가지': 2933, '푸다': 2934, '늑대': 2935, '점자': 2936, '친절하다': 2937, '들리다': 2938, '우표': 2939, '톡톡': 2940, '스스로': 2941, '툰툰': 2942, '콜렉션': 2943, '슬': 2944, '테스트': 2945, '오버': 2946, '걸이': 2947, '디디': 2948, '트렌드': 2949, '끼리': 2950, '시크릿': 2951, '여고생': 2952, '댕기': 2953, '위빙': 2954, '컬러풀': 2955, '상품': 2956, '기법': 2957, '화양연화': 2958, '산티아고': 2959, '매달': 2960, '선반': 2961, '법원': 2962, '모텔': 2963, '저격': 2964, '제청': 2965, '백종': 2966, '소도시': 2967, '실패': 2968, '폴라': 2969, '형태': 2970, '담백하다': 2971, '스팀펑크': 2972, '메': 2973, '취업': 2974, '항': 2975, '많이': 2976, '소멸': 2977, '트렌디': 2978, '통한': 2979, '리코': 2980, '아보카도': 2981, '수국': 2982, '분홍': 2983, '까치': 2984, '템플릿': 2985, '공존': 2986, '로프트': 2987, '스웨터': 2988, '벌': 2989, '윷놀이': 2990, '금지': 2991, '마테': 2992, '시계': 2993, '뚝딱': 2994, '벽': 2995, '연꽃': 2996, '오색': 2997, '마나': 2998, '견본': 2999, '닿다': 3000, '돌': 3001, '빼빼로데이': 3002, '곤지곤지': 3003, '단독': 3004, '충분하다': 3005, '기모': 3006, '음': 3007, '아직': 3008, '쉬': 3009, '대해': 3010, '오름': 3011, '연세대학교': 3012, '부채': 3013, '혐오': 3014, '해방': 3015, '온라인': 3016, '이쁘다': 3017, '탐방': 3018, '의무': 3019, '인전': 3020, '설명': 3021, '흔적': 3022, '껍질': 3023, '동백꽃': 3024, '치킨': 3025, '육': 3026, '테일즈위버': 3027, '벌집': 3028, '샌드위치': 3029, '마르다': 3030, '천천히': 3031, '플리': 3032, '외로움': 3033, '탕': 3034, '작약': 3035, '정령': 3036, '인물': 3037, '가장귀': 3038, '쌀': 3039, '카인': 3040, '워터볼': 3041, '선언': 3042, '다육': 3043, '형제': 3044, '표류': 3045, '홈파티': 3046, '단백질': 3047, '유기묘': 3048, '흐르다': 3049, '이라': 3050, '애뽈': 3051, '한식': 3052, '넷': 3053, '캡': 3054, '황제펭귄': 3055, '필로': 3056, '위인': 3057, '젠더': 3058, '싱어송라이터': 3059, '간다': 3060, '풍문': 3061, '가가': 3062, '키스': 3063, '열차': 3064, '이마': 3065, '묶음': 3066, '손가락': 3067, '항아리': 3068, '레시': 3069, '술집': 3070, '수첩': 3071, '제본': 3072, '나눔': 3073, '오아시스': 3074, '국제': 3075, '코칭': 3076, '크런치': 3077, '농담': 3078, '일링': 3079, '갤러리': 3080, '모먼트': 3081, '실천': 3082, '항공': 3083, '우르': 3084, '드바': 3085, '두뇌': 3086, '버섯': 3087, '붉다': 3088, '여러': 3089, '붙이다': 3090, '거': 3091, '비평': 3092, '작심': 3093, '라이더': 3094, '안녕하다': 3095, '칫솔': 3096, '휴': 3097, '십': 3098, '발자국': 3099, '데님': 3100, '마': 3101, '스트': 3102, '용한': 3103, '으로의': 3104, '가구': 3105, '진창': 3106, '가능': 3107, '리미': 3108, '라라': 3109, '남겨지다': 3110, '트레이닝': 3111, '황제': 3112, '지우다': 3113, '또다른': 3114, '주름': 3115, '구두': 3116, '이탈': 3117, '한길': 3118, '버찌': 3119, '쇼케이스': 3120, '향상': 3121, '투쟁': 3122, '그렇게': 3123, '출발': 3124, '평등하다': 3125, '빙': 3126, '뮤직비디오': 3127, '창간': 3128, '머더': 3129, '몽골': 3130, '온리전': 3131, '독립영화': 3132, '솔로': 3133, '미루다': 3134, '컴': 3135, '구해': 3136, '이니': 3137, '기도': 3138, '광': 3139, '이어폰': 3140, '칭찬': 3141, '디펜스': 3142, '림': 3143, '이끼': 3144, '금기': 3145, '주화': 3146, '재생': 3147, '막내': 3148, '만두': 3149, '쉼표': 3150, '브레드': 3151, '별하나': 3152, '방백': 3153, '커뮤니티': 3154, '땐': 3155, '그릇': 3156, '별거': 3157, '눕다': 3158, '결정': 3159, '리트': 3160, '지지': 3161, '꽃처럼': 3162, '후회': 3163, '효도': 3164, '분과': 3165, '이발': 3166, '고온': 3167, '생각나다': 3168, '릴레이': 3169, '효율': 3170, '교토': 3171, '은혼': 3172, '석탄': 3173, '쿵': 3174, '해마': 3175, '성의': 3176, '만화가': 3177, '금융': 3178, '자산': 3179, '영물': 3180, '메롱': 3181, '합작': 3182, '라인': 3183, '햇빛': 3184, '판타지소설': 3185, '복잡하다': 3186, '로스': 3187, '멸망': 3188, '의조': 3189, '내년': 3190, '강원': 3191, '뉴스레터': 3192, '레테': 3193, '침묵': 3194, '균': 3195, '크레용': 3196, '보람': 3197, '아트워크': 3198, '향연': 3199, '곰돌이': 3200, '절기': 3201, '운집': 3202, '발효': 3203, '털다': 3204, '어린시절': 3205, '도깨비': 3206, '시스템': 3207, '젤맛': 3208, '티탄': 3209, '개론': 3210, '타이포그래피': 3211, '상실': 3212, '희귀': 3213, '너리': 3214, '하찮다': 3215, '찹쌀': 3216, '홍익대학교': 3217, '꾹꾹': 3218, '두렵다': 3219, '전달': 3220, '어렵다': 3221, '멀어지다': 3222, '심다': 3223, '입체': 3224, '성영': 3225, '계승': 3226, '퍼스트': 3227, '악보': 3228, '색깔': 3229, '드론': 3230, '고리': 3231, '골덴': 3232, '작정': 3233, '북마크': 3234, '리더': 3235, '르메손': 3236, '시온': 3237, '유리잔': 3238, '달빛천사': 3239, '방종': 3240, '콜라보레이션': 3241, '소매치기': 3242, '싫어하다': 3243, '출구': 3244, '아내': 3245, '천재': 3246, '고대': 3247, '그리스': 3248, '신전': 3249, '프로그램': 3250, '목욕탕': 3251, '집합': 3252, '부티크': 3253, '성과': 3254, '토마': 3255, '명장': 3256, '르메': 3257, '유랑': 3258, '트위치': 3259, '스트리머': 3260, '영화리뷰': 3261, '고흐': 3262, '정확하다': 3263, '비다': 3264, '지겹다': 3265, '마저': 3266, '리아': 3267, '옷장': 3268, '퀄': 3269, '고려청자': 3270, '사극': 3271, '아카데미': 3272, '양산': 3273, '튜': 3274, '공항': 3275, '스파이': 3276, '훔치다': 3277, '루비': 3278, '격일': 3279, '통째': 3280, '바로크': 3281, '자동': 3282, '조개': 3283, '웨딩': 3284, '가주': 3285, '뒷골목': 3286, '한텐': 3287, '초월': 3288, '테헤란로': 3289, '앤티크': 3290, '건조': 3291, '에센스': 3292, '편집디자인': 3293, '아늑하다': 3294, '야망': 3295, '은빛': 3296, '수입': 3297, '리리': 3298, '국산': 3299, '귀차니즘': 3300, '연금술': 3301, '원더': 3302, '게일': 3303, '야생': 3304, '소프트': 3305, '인내': 3306, '사용설명서': 3307, '발끝': 3308, '확': 3309, '싱': 3310, '환하다': 3311, '달동네': 3312, '뱁새': 3313, '다양': 3314, '계급': 3315, '절망': 3316, '잡학': 3317, '자서전': 3318, '현장': 3319, '정조': 3320, '초보자': 3321, '시티': 3322, '트럭': 3323, '의대': 3324, '죽': 3325, '노래방': 3326, '붕괴': 3327, '이지만': 3328, '레진': 3329, '속눈썹': 3330, '상황': 3331, '감옥': 3332, '선배': 3333, '자이언트': 3334, '수의': 3335, '페루': 3336, '날아오다': 3337, '특별판': 3338, '만점': 3339, '글라스': 3340, '풍요': 3341, '종지': 3342, '캐치': 3343, '보송보송': 3344, '속이다': 3345, '실록': 3346, '궁전': 3347, '시더우드': 3348, '바름': 3349, '길잡이': 3350, '프랑스인': 3351, '돌아보다': 3352, '라마': 3353, '뱀파이어': 3354, '핫초코': 3355, '괴': 3356, '포함': 3357, '스칼라': 3358, '두르다': 3359, '명작': 3360, '얼음': 3361, '사하다': 3362, '도르다': 3363, '두께': 3364, '야외': 3365, '가벼워지다': 3366, '한파': 3367, '두부': 3368, '제조': 3369, '칩': 3370, '년월': 3371, '성분': 3372, '패치': 3373, '나무숲': 3374, '진액': 3375, '렌징': 3376, '과장': 3377, '시적': 3378, '인분': 3379, '사로자다': 3380, '사고': 3381, '순수': 3382, '세우다': 3383, '절벽': 3384, '시네마': 3385, '사실': 3386, '괭이': 3387, '붙이': 3388, '오직': 3389, '강력하다': 3390, '굿바이': 3391, '와도': 3392, '프로포즈': 3393, '인문': 3394, '스프레드': 3395, '코끝': 3396, '황동': 3397, '개발': 3398, '매너': 3399, '파출소': 3400, '이미': 3401, '사색': 3402, '필수품': 3403, '붙잡다': 3404, '짜릿하다': 3405, '집콕러': 3406, '토리': 3407, '화사하다': 3408, '베른': 3409, '합': 3410, '완료': 3411, '시스': 3412, '오페라': 3413, '특집': 3414, '메이크업': 3415, '합리': 3416, '화제': 3417, '전격': 3418, '아일랜드': 3419, '사탕': 3420, '모네': 3421, '무섭다': 3422, '스모': 3423, '무스': 3424, '질풍': 3425, '기차역': 3426, '안전': 3427, '카': 3428, '물개': 3429, '실속': 3430, '손끝': 3431, '직관': 3432, '키오': 3433, '쥬': 3434, '일간': 3435, '시간여행': 3436, '키퍼': 3437, '화상': 3438, '비즈': 3439, '윌리': 3440, '쓴다': 3441, '의문': 3442, '이든': 3443, '세계관': 3444, '어디서': 3445, '복조리': 3446, '한마디': 3447, '자립': 3448, '전래': 3449, '벨벳': 3450, '웬': 3451, '스페셜에디션': 3452, '빠져들다': 3453, '딥': 3454, '학교폭력': 3455, '신나다': 3456, '박후': 3457, '가공': 3458, '포일': 3459, '완': 3460, '플랫포머': 3461, '인스타그램': 3462, '나보이': 3463, '불어오다': 3464, '의심': 3465, '로얄': 3466, '근사하다': 3467, '링스': 3468, '펑': 3469, '리수': 3470, '콜렉토': 3471, '동반': 3472, '프리저': 3473, '스탬프': 3474, '평균': 3475, '완전': 3476, '립스틱': 3477, '폼폼': 3478, '호밀': 3479, '파수': 3480, '홀든': 3481, '티타늄': 3482, '까투리': 3483, '고독': 3484, '은발': 3485, '긁다': 3486, '버킷리스트': 3487, '수량': 3488, '제안': 3489, '고집': 3490, '에브리데이': 3491, '물감': 3492, '롤플레잉': 3493, '구수하다': 3494, '알약': 3495, '군함도': 3496, '공기': 3497, '공기청정기': 3498, '해적': 3499, '마피아': 3500, '마음속': 3501, '화장': 3502, '한그림': 3503, '십장생': 3504, '성폭행': 3505, '방비': 3506, '희미하다': 3507, '춤추다': 3508, '폭발': 3509, '앙코르': 3510, '일레븐': 3511, '악의': 3512, '슈크림': 3513, '인간관계': 3514, '다발': 3515, '라텍스': 3516, '숨결': 3517, '그러나': 3518, '학대': 3519, '사자': 3520, '하나요': 3521, '신촌': 3522, '핑케': 3523, '치업': 3524, '피로': 3525, '이온': 3526, '콤달콤': 3527, '블럭': 3528, '별처럼': 3529, '이모티콘': 3530, '이런저런': 3531, '섬세하다': 3532, '플루': 3533, '차로': 3534, '성우': 3535, '의인': 3536, '사냥': 3537, '나전칠기': 3538, '상식': 3539, '공구': 3540, '누르다': 3541, '솝피': 3542, '신선하다': 3543, '되돌아보다': 3544, '리딩': 3545, '사랑받다': 3546, '범죄': 3547, '먼지': 3548, '타지': 3549, '힘드다': 3550, '사군자': 3551, '유니폼': 3552, '지하철역': 3553, '수영': 3554, '독학': 3555, '메르': 3556, '여행가': 3557, '무염': 3558, '핸': 3559, '시나리오': 3560, '루틴': 3561, '한코': 3562, '크림티': 3563, '세레': 3564, '민족': 3565, '쏙쏙': 3566, '풍선': 3567, '아포칼립스': 3568, '골목길': 3569, '대나무': 3570, '낮잠': 3571, '태권도': 3572, '일제강점기': 3573, '총알': 3574, '포장마차': 3575, '크리': 3576, '사이퍼즈': 3577, '사이클': 3578, '애호가': 3579, '위드': 3580, '차트': 3581, '둘': 3582, '취': 3583, '여전하다': 3584, '드루': 3585, '부위': 3586, '삼겹': 3587, '희생': 3588, '버': 3589, '자극': 3590, '이탈리아': 3591, '럭키백': 3592, '선크림': 3593, '한순간': 3594, '화장실': 3595, '유연제': 3596, '스테인드글라스': 3597, '락': 3598, '일도': 3599, '풀꽃': 3600, '책장': 3601, '한계': 3602, '마시멜로우': 3603, '여의도': 3604, '실습': 3605, '연주': 3606, '멸종': 3607, '옹': 3608, '야매': 3609, '에스프레소': 3610, '고택': 3611, '편집디자이너': 3612, '피시': 3613, '빈공간': 3614, '여백': 3615, '요일': 3616, '한다는': 3617, '연남동': 3618, '땅': 3619, '마일': 3620, '위트': 3621, '에피': 3622, '스토어': 3623, '물리': 3624, '화분': 3625, '엉덩이': 3626, '각종': 3627, '야생화': 3628, '브래지어': 3629, '현직': 3630, '난로': 3631, '고백': 3632, '칼날': 3633, '조합형': 3634, '온실': 3635, '보태': 3636, '그란': 3637, '미연시': 3638, '쉘': 3639, '스웨이드': 3640, '소지품': 3641, '족': 3642, '유용하다': 3643, '몰카': 3644, '양편': 3645, '일체': 3646, '펀치': 3647, '불꽃': 3648, '상업': 3649, '범인': 3650, '한글날': 3651, '끝나다': 3652, '폭포': 3653, '처방': 3654, '간절': 3655, '스탄': 3656, '색소': 3657, '리사': 3658, '사각': 3659, '일주일': 3660, '핵심': 3661, '에녹': 3662, '페르세포네': 3663, '석류': 3664, '디카': 3665, '애도': 3666, '녀석': 3667, '고딕': 3668, '최종': 3669, '호박': 3670, '기이하다': 3671, '신호': 3672, '꿈속': 3673, '플랩': 3674, '는단': 3675, '위시': 3676, '올리브': 3677, '찾아보다': 3678, '일본군': 3679, '손톱': 3680, '봉인': 3681, '양조장': 3682, '기와': 3683, '두고두고': 3684, '어깨': 3685, '배트맨': 3686, '아치': 3687, '길드': 3688, '성서': 3689, '경량': 3690, '샤브레': 3691, '자락': 3692, '달님': 3693, '쁘띠': 3694, '박': 3695, '편백': 3696, '틀': 3697, '모란': 3698, '성공하다': 3699, '익숙하다': 3700, '재밌다': 3701, '소반': 3702, '자반': 3703, '나들이': 3704, '목금': 3705, '토': 3706, '로그라이크': 3707, '강': 3708, '탱': 3709, '세제': 3710, '신다': 3711, '폼': 3712, '빨강': 3713, '국회': 3714, '달라': 3715, '셋트': 3716, '기출': 3717, '아이디어': 3718, '로버트': 3719, '헌터': 3720, '서사': 3721, '피고': 3722, '틈': 3723, '안동': 3724, '전통예술': 3725, '그리팅': 3726, '압': 3727, '툇마루': 3728, '기본': 3729, '도시괴담': 3730, '밀': 3731, '부동산': 3732, '초면': 3733, '자스민': 3734, '무대': 3735, '학년': 3736, '포트폴리오': 3737, '물류': 3738, '에요': 3739, '나나': 3740, '우산도': 3741, '킬': 3742, '상편': 3743, '자전': 3744, '크리스': 3745, '첫사랑': 3746, '어린이': 3747, '묘시': 3748, '자주': 3749, '취하': 3750, '그레이': 3751, '흉배': 3752, '한개': 3753, '흡수': 3754, '캐다': 3755, '레바': 3756, '의순': 3757, '때문': 3758, '은행': 3759, '업데이트': 3760, '에디터': 3761, '케이블': 3762, '인스타': 3763, '캉스': 3764, '단상': 3765, '직물': 3766, '장소': 3767, '늙다': 3768, '무지': 3769, '포이': 3770, '타인': 3771, '민수': 3772, '바삭': 3773, '영향력': 3774, '낭': 3775, '게이샤': 3776, '생존자': 3777, '한국사': 3778, '예비': 3779, '탐험가': 3780, '맑음': 3781, '기타리스트': 3782, '추적': 3783, '러시아': 3784, '독거': 3785, '비즈니스': 3786, '산문': 3787, '복간': 3788, '진정하다': 3789, '시바': 3790, '야기': 3791, '깊이': 3792, '따로': 3793, '전문': 3794, '수도권': 3795, '캐롤': 3796, '스트릿': 3797, '화로': 3798, '세계사': 3799, '스트로베리': 3800, '회차': 3801, '해변': 3802, '흘러가다': 3803, '가택': 3804, '브로': 3805, '미니어처': 3806, '동지': 3807, '독특하다': 3808, '광기': 3809, '지독': 3810, '조향사': 3811, '한반도': 3812, '캠프': 3813, '달래다': 3814, '경매': 3815, '도록': 3816, '그런': 3817, '무법자': 3818, '쥐': 3819, '치': 3820, '루이스': 3821, '식기': 3822, '우먼': 3823, '손발': 3824, '유형': 3825, '유통': 3826, '한국인': 3827, '오락실': 3828, '배포': 3829, '봉제': 3830, '바람막이': 3831, '묘생': 3832, '후손': 3833, '벗겨지다': 3834, '뽑다': 3835, '가죽공예': 3836, '핥다': 3837, '청화백자': 3838, '레오': 3839, '담그다': 3840, '이진주': 3841, '투바': 3842, '수능': 3843, '진로': 3844, '미로': 3845, '본집': 3846, '가끔': 3847, '커리어': 3848, '페페': 3849, '늇': 3850, '을사': 3851, '밀다': 3852, '댄스': 3853, '슬릿': 3854, '한빛': 3855, '명함': 3856, '토크': 3857, '버티다': 3858, '출판사': 3859, '도리': 3860, '페르소나': 3861, '경찰': 3862, '자선': 3863, '미안하다': 3864, 'ㅡ': 3865, '프린세스': 3866, '추가': 3867, '평화롭다': 3868, '남해': 3869, '경기장': 3870, '구슬': 3871, '여성혐오': 3872, '바이올렛': 3873, '건': 3874, '양고기': 3875, '빌런': 3876, '민간인': 3877, '학살': 3878, '의소': 3879, '로다': 3880, '색채': 3881, '통일': 3882, '최선': 3883, '대상': 3884, '다이스': 3885, '관찰': 3886, '갖다': 3887, '디스토피아': 3888, '노동자': 3889, '시로': 3890, '웅크리다': 3891, '낭낭': 3892, '도로': 3893, '마커펜': 3894, '글리터': 3895, '스치다': 3896, '부자': 3897, '민': 3898, '은하수': 3899, '광선': 3900, '열한': 3901, '딜레마': 3902, '박물관': 3903, '회복': 3904, '이별': 3905, '체': 3906, '승호': 3907, '착취': 3908, '뽀짝': 3909, '애용': 3910, '반대': 3911, '위치': 3912, '올레': 3913, '디아': 3914, '발걸음': 3915, '꾸러미': 3916, '러프': 3917, '기공': 3918, '독자': 3919, '아미': 3920, '워크샵': 3921, '먹고살다': 3922, '늦': 3923, '보석같다': 3924, '분해': 3925, '물음표': 3926, '논픽션': 3927, '사워도': 3928, '청각장애': 3929, '목욕': 3930, '소식지': 3931, '블랜딩': 3932, '앓다': 3933, '솔직하다': 3934, '리조트': 3935, '무슨': 3936, '포레스트': 3937, '덮다': 3938, '옷깃': 3939, '웃다': 3940, '믿음': 3941, '캐슬': 3942, '능력': 3943, '에게선': 3944, '가드닝': 3945, '온도': 3946, '균형': 3947, '볼캡': 3948, '이론': 3949, '벌칙': 3950, '겨울왕국': 3951, '가져오다': 3952, '부산여행': 3953, '까지나': 3954, '스탑': 3955, '주민': 3956, '호구': 3957, '무명': 3958, '하와이': 3959, '용품': 3960, '빌다': 3961, '녹': 3962, '티드': 3963, '잔잔하다': 3964, '알바생': 3965, '짝사랑': 3966, '복지': 3967, '선의': 3968, '뭘': 3969, '보자기': 3970, '야광': 3971, '세균': 3972, '소복소복': 3973, '이전': 3974, '속편': 3975, '정체': 3976, '째다': 3977, '폴보': 3978, '전공': 3979, '팔다': 3980, '니까': 3981, '트랜스젠더': 3982, '목화': 3983, '한판': 3984, '심': 3985, '꿀벌': 3986, '에피소드': 3987, '뒷': 3988, '솔': 3989, '손바닥': 3990, '중년': 3991, '사람과': 3992, '바뀌다': 3993, '현대인': 3994, '오래': 3995, '그리움': 3996, '글리프': 3997, '파선': 3998, '포트': 3999, '내려가다': 4000, '어제': 4001, '이즘': 4002, '기적': 4003, '으로부터': 4004, '건네다': 4005, '랜드': 4006, '라이': 4007, '영문법': 4008, '금사': 4009, '아버지': 4010, '포포': 4011, '상어': 4012, '이어지다': 4013, '모양': 4014, '그래픽디자이너': 4015, '순례': 4016, '프로야구': 4017, '아저씨': 4018, '밀가루': 4019, '퍼지다': 4020, '소설가': 4021, '문집': 4022, '관심': 4023, '대가': 4024, '마키': 4025, '작은아씨': 4026, '자존감': 4027, '성공': 4028, '사업': 4029, '쥐다': 4030, '기념일': 4031, '우울함': 4032, '매실': 4033, '고추': 4034, '전환': 4035, '필꽃': 4036, '세종': 4037, '로사': 4038, '예배': 4039, '동물보호': 4040, '트랜스포머': 4041, '호우': 4042, '슈퍼': 4043, '워크숍': 4044, '감상': 4045, '심야': 4046, '구조': 4047, '봄봄': 4048, '남미': 4049, '말씀': 4050, '던지다': 4051, '회정': 4052, '청바지': 4053, '스무살': 4054, '도담': 4055, '미니앨범': 4056, '일어나다': 4057, '기사': 4058, '밥상': 4059, '산뜻하다': 4060, '더위': 4061, '소통': 4062, '분자': 4063, '불어': 4064, '굿나잇': 4065, '의창': 4066, '살이': 4067, '나이': 4068, '오목눈이': 4069, '라는': 4070, '교양': 4071, '머신': 4072, '코미디': 4073, '성교육': 4074, '장애인': 4075, '블루문': 4076, '이자': 4077, '라니': 4078, '농약': 4079, '제작비': 4080, '인장': 4081, '뭉글': 4082, '소아': 4083, '애니': 4084, '당근': 4085, '해자': 4086, '오케스트라': 4087, '집고양이': 4088, '실현': 4089, '표정': 4090, '변형': 4091, '미스터': 4092, '테러': 4093, '멕시코': 4094, '어머니': 4095, '펑크': 4096, '파트너': 4097, '수인': 4098, '비용': 4099, '서하': 4100, '종일': 4101, '늘': 4102, '부활': 4103, '우기': 4104, '커플링': 4105, '보아': 4106, '게코': 4107, '듀': 4108, '리하': 4109, '초딩': 4110, '멋있다': 4111, '어시스트': 4112, '대선': 4113, '킷': 4114, '꼬옥': 4115, '프렌': 4116, '사르르': 4117, '구성': 4118, '시리다': 4119, '메멘토': 4120, '쨍': 4121, '서서': 4122, '원칙': 4123, '댕': 4124, '시험': 4125, '법률': 4126, '큐브': 4127, '편애': 4128, '이드를': 4129, '투하': 4130, '진술': 4131, '옥토': 4132, '입욕': 4133, '혹시': 4134, '탈모': 4135, '안티': 4136, '앞두다': 4137, '비인간': 4138, '독보': 4139, '프롬': 4140, '평안하다': 4141, '추얼': 4142, '짙다': 4143, '윌리엄': 4144, '공백': 4145, '유쾌하다': 4146, '할아버지': 4147, '핀꽃': 4148, '책편': 4149, '물위': 4150, '헤매다': 4151, '한낮': 4152, '이입': 4153, '콘서트홀': 4154, '블루스': 4155, '앙리': 4156, '마티스': 4157, '촛불': 4158, '팥죽': 4159, '해체': 4160, '파주': 4161, '동식물': 4162, '호롱': 4163, '광주': 4164, '리브': 4165, '보내오다': 4166, '아스라이': 4167, '홈페이지': 4168, '지난': 4169, '페트병': 4170, '클로버': 4171, '스팅': 4172, '홍익대': 4173, '환경보호': 4174, '리버시': 4175, '아끼다': 4176, '탈코': 4177, '캥거루': 4178, '하고만': 4179, '빗자루': 4180, '딥슬립': 4181, '무사': 4182, '노랑': 4183, '노력': 4184, '야경': 4185, '털복숭이': 4186, '갓집': 4187, '배자': 4188, '뽀글이': 4189, '도도': 4190, '난방': 4191, '지방': 4192, '성범죄': 4193, '어루만지다': 4194, '보스': 4195, '루피': 4196, '번호': 4197, '호랑': 4198, '조그만': 4199, '마리앙투아네트': 4200, '풀잎': 4201, '전망': 4202, '클레오파트라': 4203, '테': 4204, '제복': 4205, '취준': 4206, '로써': 4207, '엘릭서': 4208, '반영구': 4209, '부기': 4210, '륜': 4211, '압생트': 4212, '구김': 4213, '은제': 4214, '시나몬': 4215, '샹': 4216, '마로니에': 4217, '일당백': 4218, '진화': 4219, '겨우살이': 4220, '황': 4221, '나노입자': 4222, '엑소': 4223, '드랍': 4224, '포션': 4225, '겸비': 4226, '신축': 4227, '낮추다': 4228, '정복': 4229, '호담': 4230, '새로운시작': 4231, '남북정상회담': 4232, '고수': 4233, '멜로': 4234, '잘알다': 4235, '조견': 4236, '소매': 4237, '이모': 4238, '내보내다': 4239, '두루': 4240, '로데오거리': 4241, '교정': 4242, '글씨': 4243, '연옥': 4244, '차밤': 4245, '마고자': 4246, '돌이': 4247, '배낭': 4248, '진정': 4249, '취한': 4250, '줄리': 4251, '숙면': 4252, '박다': 4253, '소박하다': 4254, '빅토리아': 4255, '금단': 4256, '의술': 4257, '귀신고래': 4258, '꼬냑': 4259, '숨통': 4260, '열사': 4261, '발포': 4262, '홍대': 4263, '낙엽': 4264, '외제차': 4265, '떠오르다': 4266, '테잎': 4267, '리베': 4268, '반지하': 4269, '클리셰': 4270, '루프': 4271, '점프수트': 4272, '사주': 4273, '개인맞춤': 4274, '러스트': 4275, '나답': 4276, '백장미': 4277, '지세': 4278, '가문': 4279, '포로': 4280, '투유': 4281, '투디': 4282, '꼬부기': 4283, '쵸': 4284, '핵': 4285, '구미호': 4286, '기존': 4287, '그랑프리': 4288, '공략': 4289, '짝': 4290, '애착': 4291, '복종': 4292, '적성': 4293, '카라멜': 4294, '한가지': 4295, '매년': 4296, '한암': 4297, '방송국': 4298, '백합': 4299, '직하다': 4300, '오즈의마법사': 4301, '코파': 4302, '최대': 4303, '임원경제지': 4304, '메뉴얼': 4305, '비밀의화원': 4306, '근정전': 4307, '팝': 4308, '근데': 4309, '미달': 4310, '트러스': 4311, '실루엣': 4312, '기숙': 4313, '약방': 4314, '양로': 4315, '티룸': 4316, '반바지': 4317, '눈썹': 4318, '어성초': 4319, '부스터': 4320, '영양': 4321, '벡터': 4322, '제발': 4323, '포만': 4324, '관청': 4325, '룬': 4326, '윈터': 4327, '진열': 4328, '몽실몽실': 4329, '필레': 4330, '대북': 4331, '파렛트': 4332, '사계': 4333, '꾸준하다': 4334, '모나': 4335, '미모': 4336, '대자연': 4337, '발각': 4338, '거기': 4339, '풍장': 4340, '케릭': 4341, '옥탑방': 4342, '옥상': 4343, '컵라면': 4344, '후후': 4345, '루리': 4346, '꽉차다': 4347, '찾아내다': 4348, '킹덤': 4349, '피자': 4350, '못난이': 4351, '미트': 4352, '맘껏': 4353, '기관': 4354, '정수기': 4355, '마타로': 4356, '샴페인': 4357, '대리': 4358, '철릭': 4359, '카일': 4360, '만담': 4361, '포징': 4362, '원화': 4363, '아보': 4364, '얀': 4365, '교사': 4366, '뻘짓': 4367, '컬쳐': 4368, '라이터': 4369, '칩북': 4370, '비운': 4371, '와스': 4372, '재벌': 4373, '셜록': 4374, '민주주의': 4375, '세련되다': 4376, '중소': 4377, '통조림': 4378, '망붕': 4379, '외한': 4380, '오디': 4381, '불': 4382, '솜씨': 4383, '한국판': 4384, '아메리카노': 4385, '의도': 4386, '던': 4387, '테리어': 4388, '환생': 4389, '물종': 4390, '일만': 4391, '마사지': 4392, '벌써': 4393, '청소': 4394, '타이틀': 4395, '촉': 4396, '우습다': 4397, '입자': 4398, '마담': 4399, '해오다': 4400, '월동': 4401, '롤리': 4402, '적재': 4403, '나의': 4404, '페가콘': 4405, '식용': 4406, '똘망똘': 4407, '람': 4408, '납작': 4409, '똥': 4410, '해나': 4411, '고구마': 4412, '알자스': 4413, '마스카라': 4414, '주말': 4415, '깜찍하다': 4416, '위생': 4417, '방금': 4418, '바나나': 4419, '크리미': 4420, '첨가': 4421, '대강': 4422, '세명': 4423, '모의': 4424, '치즈케이크': 4425, '티어': 4426, '키바': 4427, '데일': 4428, '리필': 4429, '태양계': 4430, '띵': 4431, '이풍': 4432, '성해': 4433, '지는': 4434, '생기': 4435, '의견': 4436, '다스리다': 4437, '매진': 4438, '플루메리': 4439, '호출': 4440, '매장': 4441, '수다': 4442, '퀘스천': 4443, '고요한': 4444, '열쇠': 4445, '가운': 4446, '응급': 4447, '반디': 4448, '경호': 4449, '영화관': 4450, '주유소': 4451, '다리': 4452, '수작': 4453, '청계천': 4454, '퍼센트': 4455, '은혜': 4456, '갚다': 4457, '물꼬': 4458, '최강': 4459, '기독': 4460, '집콕': 4461, '뉴욕': 4462, '자위': 4463, '향료': 4464, '예의': 4465, '유일하다': 4466, '그래픽노블': 4467, '왓치맨': 4468, '잔디': 4469, '최신': 4470, '프라이어': 4471, '가려진': 4472, '거제': 4473, '초상': 4474, '묵돌': 4475, '레이저': 4476, '철거': 4477, '놓이다': 4478, '성별': 4479, '임무': 4480, '가디건': 4481, '음료': 4482, '장의': 4483, '클로드': 4484, '수련': 4485, '멀리': 4486, '콜라': 4487, '밝다': 4488, '보여주다': 4489, '인절미': 4490, '레모네이드': 4491, '대사': 4492, '오뚝이': 4493, '스캣': 4494, '주점': 4495, '따끈따끈': 4496, '어둡다': 4497, '알디': 4498, '대왕': 4499, '자전거': 4500, '용이': 4501, '런': 4502, '다년': 4503, '꼬집다': 4504, '뤼': 4505, '파이프': 4506, '내지': 4507, '아주': 4508, '씨드': 4509, '지팩': 4510, '아르테미스': 4511, '입지': 4512, '조거': 4513, '리오': 4514, '리플': 4515, '비욘드': 4516, '손해': 4517, '자원': 4518, '똑': 4519, '실화': 4520, '보조': 4521, '배터리': 4522, '다오': 4523, '황도': 4524, '회원': 4525, '책쇄': 4526, '돌입': 4527, '국문학': 4528, '침': 4529, '플레': 4530, '마부': 4531, '덕바': 4532, '마감': 4533, '용달': 4534, '피렌체': 4535, '톡굿': 4536, '파베': 4537, '원데이': 4538, '기하학': 4539, '피하': 4540, '마약': 4541, '가라앉다': 4542, '범선': 4543, '황금': 4544, '이은재': 4545, '저작권': 4546, '불황': 4547, '팁': 4548, '해도': 4549, '오늘밤': 4550, '지배': 4551, '안경시': 4552, '북패': 4553, '시리': 4554, '입안': 4555, '라벤더': 4556, '초콜릿공장': 4557, '다다': 4558, '대만': 4559, '거북이': 4560, '트집': 4561, '이브닝': 4562, '낮다': 4563, '다나': 4564, '떼': 4565, '노마드': 4566, '후디': 4567, '배신': 4568, '난무': 4569, '초밥': 4570, '모낭충': 4571, '웜': 4572, '포인트': 4573, '마우스': 4574, '초심자': 4575, '내기': 4576, '예랑': 4577, '함량': 4578, '연수': 4579, '리셋': 4580, '엘리': 4581, '이음': 4582, '빵집': 4583, '사유': 4584, '월일': 4585, '르몽드': 4586, '에르드': 4587, '부아르': 4588, '보약': 4589, '여름방학': 4590, '도넛': 4591, '매칭': 4592, '시기': 4593, '등대': 4594, '고별전': 4595, '풍류': 4596, '복백': 4597, '다음': 4598, '재질': 4599, '중화': 4600, '레스토랑': 4601, '추모': 4602, '무릉도원': 4603, '만날': 4604, '아깝다': 4605, '피리': 4606, '훈': 4607, '제한': 4608, '메이저': 4609, '깨물다': 4610, '의꽃': 4611, '칠보': 4612, '매가': 4613, '인견': 4614, '미상': 4615, '택트': 4616, '기요틴': 4617, '문화재단': 4618, '날자': 4619, '크래커': 4620, '우스': 4621, '버드': 4622, '샌들': 4623, '덧': 4624, '배웅': 4625, '말풍선': 4626, '철학': 4627, '정성껏': 4628, '과즙': 4629, '은퇴': 4630, '시간관리': 4631, '적어도': 4632, '게이머': 4633, '끼우다': 4634, '라이머': 4635, '뒤지다': 4636, '바질': 4637, '머리장식': 4638, '식혜': 4639, '청정': 4640, '자라다': 4641, '마왕': 4642, '노무현': 4643, '포롱': 4644, '마법진': 4645, '샤퀴': 4646, '한비': 4647, '그려지다': 4648, '사파이어': 4649, '쥬스': 4650, '저가': 4651, '안내': 4652, '해초': 4653, '용인': 4654, '뉴트': 4655, '변치않다': 4656, '군사기지': 4657, '전당포': 4658, '산딸기': 4659, '쓰리다': 4660, '제갈량': 4661, '꽃풀': 4662, '가져다주다': 4663, '뚜': 4664, '뉴스': 4665, '고슴도치': 4666, '슈야': 4667, '초가': 4668, '좌충우돌': 4669, '집업': 4670, '심청': 4671, '전경': 4672, '옻칠': 4673, '헨': 4674, '딸아': 4675, '여든아홉': 4676, '김마리아': 4677, '보르': 4678, '필통': 4679, '애국': 4680, '사이버': 4681, '유지': 4682, '일착': 4683, '화하다': 4684, '네트': 4685, '연탄': 4686, '후르': 4687, '잉글리시': 4688, '레트': 4689, '매달다': 4690, '해골': 4691, '하츠네미쿠': 4692, '손길': 4693, '바리움': 4694, '핸드백': 4695, '철': 4696, '조물': 4697, '신기루': 4698, '드롭퍼': 4699, '작전': 4700, '교도소': 4701, '감기': 4702, '슈가': 4703, '클레': 4704, '쓱쓱': 4705, '무쌍': 4706, '제법': 4707, '포테이토': 4708, '옹호': 4709, '영영': 4710, '필지': 4711, '빗물': 4712, '환절기': 4713, '은상': 4714, '불한당': 4715, '수사물': 4716, '브리': 4717, '시트': 4718, '청양고추': 4719, '다시다': 4720, '광택': 4721, '호일': 4722, '훈련': 4723, '플립': 4724, '다반향초': 4725, '레벨': 4726, '수십': 4727, '그다음': 4728, '곤': 4729, '럽': 4730, '수많다': 4731, '바스': 4732, '수분크림': 4733, '라이트백': 4734, '클락': 4735, '바캉스': 4736, '국립': 4737, '연구소': 4738, '스포츠': 4739, '뮤직페스티벌': 4740, '미세': 4741, '수세미': 4742, '유언': 4743, '백두대간': 4744, '등급': 4745, '이오': 4746, '도난': 4747, '이빛나': 4748, '서클': 4749, '바이블': 4750, '일식': 4751, '스웨': 4752, '지하도': 4753, '위고': 4754, '의비': 4755, '시멘트': 4756, '폐공': 4757, '미니미니': 4758, '렐라': 4759, '한나라': 4760, '삼국지': 4761, '뭉게구름': 4762, '갯강구': 4763, '다이빙': 4764, '다과': 4765, '블랙다이아몬드': 4766, '평전': 4767, '표지': 4768, '꼬리': 4769, '방식': 4770, '쿡북': 4771, '결제': 4772, '해녀': 4773, '항일': 4774, '땅꿈': 4775, '다라': 4776, '햄': 4777, '형식': 4778, '조각상': 4779, '프루스트': 4780, '애플': 4781, '용도': 4782, '트램': 4783, '웨이즈': 4784, '심리치료': 4785, '홈리스': 4786, '빅이슈': 4787, '슥': 4788, '삭': 4789, '이스': 4790, '가위': 4791, '나이트런': 4792, '바일': 4793, '표본': 4794, '퍼플': 4795, '슬로우': 4796, '한시': 4797, '미학': 4798, '유배': 4799, '러브크래프트': 4800, '나이프': 4801, '진돌': 4802, '분만': 4803, '시원': 4804, '삼겹살': 4805, '성격': 4806, '예스': 4807, '단축키': 4808, '렐름': 4809, '쟈근쥬인님': 4810, '액션게임': 4811, '고맙다': 4812, '푸딩': 4813, '멤버': 4814, '청룡': 4815, '조광': 4816, '말총': 4817, '실험실': 4818, '홋카이도': 4819, '와나': 4820, '뿌에블': 4821, '측정': 4822, '멀티미터': 4823, '동행': 4824, '들꽃': 4825, '실과': 4826, '툴킷': 4827, '악': 4828, '글리': 4829, '들고양이': 4830, '바늘': 4831, '인터넷': 4832, '흡연': 4833, '초코쿠키': 4834, '권수': 4835, '고개': 4836, '백색': 4837, '이용': 4838, '밟다': 4839, '브레이': 4840, '건빵': 4841, '반포': 4842, '기념우표': 4843, '몰디브': 4844, '제의': 4845, '숲길': 4846, '재활용': 4847, '실하다': 4848, '먼트': 4849, '도토리': 4850, '뮤즈': 4851, '기미': 4852, '기운': 4853, '라플레르': 4854, '축복': 4855, '배기': 4856, '루스': 4857, '팔도': 4858, '트레블': 4859, '과는': 4860, '무성애': 4861, '고려대학교': 4862, '소프': 4863, '지루하다': 4864, '랭': 4865, '블러드': 4866, '충격': 4867, '태극': 4868, '르네상스': 4869, '전적': 4870, '성당': 4871, '기소': 4872, '큐빅': 4873, '효모': 4874, '프라하': 4875, '유튜브': 4876, '페퍼': 4877, '보더콜리': 4878, '일편': 4879, '엠마': 4880, '겸': 4881, '방수': 4882, '당호': 4883, '배부르다': 4884, '후의': 4885, '말랑하다': 4886, '함유': 4887, '한영': 4888, '케장콘': 4889, '뭔가': 4890, '그거': 4891, '원작': 4892, '디어': 4893, '뽀송하다': 4894, '지구인': 4895, '건전하다': 4896, '평온하다': 4897, '인과': 4898, '문래동': 4899, '경주': 4900, '사브': 4901, '보이지': 4902, '만듭': 4903, '호강': 4904, '택틱스': 4905, '집밥': 4906, '외침': 4907, '복신': 4908, '셔': 4909, '만하': 4910, '자시다': 4911, '에게만': 4912, '나뭇잎': 4913, '다모': 4914, '리프': 4915, '레쉬': 4916, '안녕하십니까': 4917, '라도': 4918, '자소': 4919, '공채': 4920, '까지가': 4921, '왕관': 4922, '살인자': 4923, '위상': 4924, '파랑': 4925, '안식처': 4926, '텍스쳐': 4927, '앉다': 4928, '정통': 4929, '산불': 4930, '복구': 4931, '벨트': 4932, '주역': 4933, '남다르다': 4934, '데스티네이션': 4935, '월끝': 4936, '민주': 4937, '내려앉다': 4938, '상사': 4939, '우화': 4940, '새알': 4941, '조직': 4942, '스무': 4943, '케냐': 4944, '워드': 4945, '마타': 4946, '초코렛': 4947, '유당불내증': 4948, '텍': 4949, '말목': 4950, '단추': 4951, '글꽃': 4952, '간장게장': 4953, '보랏빛': 4954, '방위': 4955, '길이': 4956, '월화': 4957, '일요일': 4958, '경영': 4959, '제목': 4960, '성적': 4961, '유부녀': 4962, '문스톤': 4963, '파괴': 4964, '돌잡이': 4965, '스텔라': 4966, '협업': 4967, '인편': 4968, '불문': 4969, '속셈': 4970, '합성': 4971, '첨': 4972, '가물': 4973, '따오다': 4974, '작문': 4975, '신라': 4976, '초등학생': 4977, '넥': 4978, '가림': 4979, '심해': 4980, '카레': 4981, '확실하다': 4982, '루루': 4983, '리드': 4984, '닥터': 4985, '우리땅': 4986, '조각보': 4987, '짤': 4988, '난민': 4989, '연대': 4990, '만족스럽다': 4991, '풍자': 4992, '존맛': 4993, '비치다': 4994, '복용': 4995, '아가': 4996, '조항': 4997, '스케줄러': 4998, '동향': 4999, '느껴지다': 5000, '의하다': 5001, '수요시위': 5002, '자기애': 5003, '사골': 5004, '브라가': 5005, '탄수화물': 5006, '장작': 5007, '인원': 5008, '프래': 5009, '쿡': 5010, '나뉘다': 5011, '에두': 5012, '도예': 5013, '애견': 5014, '초여름': 5015, '파이다': 5016, '청포': 5017, '도어': 5018, '심하다': 5019, '숍': 5020, '동백': 5021, '딜리': 5022, '먼동': 5023, '기대하다': 5024, '로켓': 5025, '창조': 5026, '게임제작': 5027, '서늘하다': 5028, '투표': 5029, '간평': 5030, '월광': 5031, '주사위': 5032, '계획': 5033, '프린터': 5034, '창의': 5035, '요리사': 5036, '발상': 5037, '방이': 5038, '이툰': 5039, '계약': 5040, '건너오다': 5041, '동성애': 5042, '키홀': 5043, '무너지다': 5044, '간나': 5045, '툰읭읭': 5046, '이복': 5047, '장치': 5048, '누룽지': 5049, '현관': 5050, '차곡차곡': 5051, '오조': 5052, '에만': 5053, '연속': 5054, '객잔': 5055, '라서': 5056, '정이': 5057, '페어리': 5058, '해드리다': 5059, '브랜딩': 5060, '서리': 5061, '이랑': 5062, '에어비앤비': 5063, '키치': 5064, '툴': 5065, '발도장': 5066, '구경': 5067, '틴트': 5068, '들추다': 5069, '팝업': 5070, '개국': 5071, '일본어': 5072, '눈사람': 5073, '포니': 5074, '운동화': 5075, '찬란': 5076, '롤랑': 5077, '컴퍼니': 5078, '정판': 5079, '이브': 5080, '스미다': 5081, '포지션': 5082, '덩이': 5083, '부로': 5084, '디초콜릿': 5085, '주지': 5086, '캐러멜': 5087, '선하다': 5088, '한테': 5089, '에스메랄다': 5090, '컴퓨터': 5091, '까지의': 5092, '산책길': 5093, '포도': 5094, '옮기다': 5095, '리자': 5096, 'ㅇㅇ': 5097, '애뉴얼': 5098, '찢다': 5099, '사사': 5100, '봄바람': 5101, '죠': 5102, '별명': 5103, '정서': 5104, '연석': 5105, '어회': 5106, '스트립': 5107, '개복치': 5108, '앵무새': 5109, '설움': 5110, '유서': 5111, '충실하다': 5112, '장석': 5113, '쉐': 5114, '여름내': 5115, '이본': 5116, '헤링': 5117, '방울': 5118, '벼랑': 5119, '원료': 5120, '낯설다': 5121, '맺다': 5122, '다쿠아즈': 5123, '할리우드': 5124, '뚠뚠': 5125, '성균관대': 5126, '기지역': 5127, '수축': 5128, '임팩트': 5129, '미국': 5130, '기용': 5131, '불구': 5132, '얕다': 5133, '심리학': 5134, '신기하다': 5135, '와썹': 5136, '본질': 5137, '줌': 5138, '돌아가다': 5139, '까칠하다': 5140, '과도': 5141, '리포트': 5142, '노멀': 5143, '극장판': 5144, '블루레이': 5145, '멘탈': 5146, '세월': 5147, '고스': 5148, '란': 5149, '편집자': 5150, '하리': 5151, '돋다': 5152, '볕': 5153, '재테크': 5154, '터킷': 5155, '시아': 5156, '고등어': 5157, '네오': 5158, '간판': 5159, '호프': 5160, '활': 5161, '대기업': 5162, '플래그': 5163, '아이돌마스터': 5164, '가책': 5165, '출판물': 5166, '콤': 5167, '슬리브': 5168, '심지': 5169, '와당': 5170, '북더텍': 5171, '필욘': 5172, '도사': 5173, '작별': 5174, '멸': 5175, '해외': 5176, '저승': 5177, '전화': 5178, '옥션': 5179, '엄지': 5180, '검지': 5181, '벨기에': 5182, '고급스럽다': 5183, '구구': 5184, '오래오래': 5185, '비서': 5186, '값': 5187, '옛': 5188, '가도': 5189, '부농': 5190, '저장': 5191, '핵인': 5192, '네덜란드': 5193, '헨리': 5194, '도망치다': 5195, '속마음': 5196, '종시': 5197, '대처': 5198, '뭉치다': 5199, '코케': 5200, '인사이트': 5201, '시저': 5202, '블라썸': 5203, '알파벳': 5204, '런칭': 5205, '여자아이': 5206, '진영': 5207, '달리기': 5208, '희망이': 5209, '에티오피아': 5210, '보이': 5211, '은밀': 5212, '우연': 5213, '순애': 5214, '미션': 5215, '용의': 5216, '이혼': 5217, '스시': 5218, '본문': 5219, '흩날리다': 5220, '동참': 5221, '요트': 5222, '통합': 5223, '포터': 5224, '옷감': 5225, '빈칸': 5226, '노블': 5227, '프라이팬': 5228, '베이비박스': 5229, '남편': 5230, '대박': 5231, '후무스': 5232, '프시케': 5233, '미신': 5234, '퓨어': 5235, '더빙': 5236, '전통주': 5237, '엄빠': 5238, '공용': 5239, '용돈': 5240, '브레이크': 5241, '지게': 5242, '아만': 5243, '한량': 5244, '파퓸': 5245, '드블': 5246, '바트': 5247, '피넛': 5248, '레퍼런스': 5249, '비노': 5250, '이분법': 5251, '항하': 5252, '천상도': 5253, '탱고': 5254, '누렁': 5255, '누보': 5256, '의화': 5257, '스틸': 5258, '등단': 5259, '연주회': 5260, '엽': 5261, '몰타': 5262, '포착': 5263, '공포영화': 5264, '윌벤져스': 5265, '풋': 5266, '휴일': 5267, '한의사': 5268, '방송': 5269, '간단': 5270, '듭니': 5271, '든지': 5272, '츄': 5273, '아르카': 5274, '아기자기하다': 5275, '피카타': 5276, '치앙마이': 5277, '나혜석': 5278, '구문': 5279, '오지': 5280, '맑은': 5281, '캣치': 5282, '캣츠': 5283, '미생': 5284, '몇번': 5285, '엿보다': 5286, '토의': 5287, '영차': 5288, '소로': 5289, '빅': 5290, '이무기': 5291, '에스': 5292, '낳다': 5293, '쌓다': 5294, '초점': 5295, '라벨': 5296, '자전거여행': 5297, '제인': 5298, '오스틴': 5299, '기여': 5300, '성주': 5301, '여기다': 5302, '섹시하다': 5303, '엔딩': 5304, '대충': 5305, '길거리': 5306, '라카': 5307, '컨테이너': 5308, '맛집': 5309, '티팟': 5310, '이영싫': 5311, '랜딩': 5312, '피곤하다': 5313, '고향': 5314, '체형': 5315, '하고도': 5316, '은유': 5317, '슬링': 5318, '존중': 5319, '미백': 5320, '베트남': 5321, '양하다': 5322, '유니섹스': 5323, '캡슐': 5324, '타워': 5325, '뱉다': 5326, '숨비': 5327, '드리우다': 5328, '기특하다': 5329, '타이머': 5330, '회고록': 5331, '사슴': 5332, '잉': 5333, '로랑': 5334, '낡다': 5335, '인체': 5336, '유해': 5337, '디노': 5338, '카렌': 5339, '자랑스럽다': 5340, '루돌프': 5341, '북년': 5342, '덕쫀득': 5343, '의집': 5344, '포기': 5345, '말캉말캉': 5346, '미러': 5347, '나래': 5348, '프리즈': 5349, '청결': 5350, '레이지': 5351, '다해': 5352, '최소': 5353, '트러블': 5354, '피라미드': 5355, '암흑': 5356, '병아리': 5357, '지도책': 5358, '이태원': 5359, '악몽': 5360, '전이': 5361, '걸어가다': 5362, '봉지': 5363, '머랭': 5364, '눈동자': 5365, '갱스터': 5366, '국현': 5367, '흑단': 5368, '법정': 5369, '피부관리': 5370, '미혼모': 5371, '장어': 5372, '실태': 5373, '크리스마스트리': 5374, '갈피': 5375, '싫어지다': 5376, '벌다': 5377, '패딩': 5378, '모어': 5379, '에바': 5380, '방앗간': 5381, '흔들다': 5382, '커터': 5383, '일인': 5384, '수이': 5385, '수학': 5386, '호시탐탐': 5387, '브런치': 5388, '로드': 5389, '케이': 5390, '고우리': 5391, '기대다': 5392, '호감': 5393, '우지': 5394, '차근차근': 5395, '창업가': 5396, '세밀화': 5397, '지고': 5398, '해내다': 5399, '실리콘밸리': 5400, '켄': 5401, '삼각': 5402, '장면': 5403, '어우러지다': 5404, '버디': 5405, '살살': 5406, '마음껏': 5407, '로세': 5408, '정신': 5409, '지킴': 5410, '원형': 5411, '분노': 5412, '뺏다': 5413, '예민하다': 5414, '에세': 5415, '주스': 5416, '빠리': 5417, '모드': 5418, '폴라로이드': 5419, '단축': 5420, '파티스리': 5421, '창작물': 5422, '메일': 5423, '일시': 5424, '에그': 5425, '호흡': 5426, '가족사진': 5427, '능지': 5428, '한푸': 5429, '언론': 5430, '즘': 5431, '점주': 5432, '잉여': 5433, '콘테스트': 5434, '허전하다': 5435, '투영': 5436, '편곡': 5437, '케스트': 5438, '속삭임': 5439, '유영': 5440, '당하다': 5441, '아그네스': 5442, '오카자키': 5443, '교코': 5444, '현상': 5445, '이색': 5446, '인터': 5447, '유년기': 5448, '블렛': 5449, '병조림': 5450, '이방인': 5451, '송': 5452, '광양': 5453, '전령': 5454, '워커': 5455, '문라이트': 5456, '라운지': 5457, '오마주': 5458, '논리': 5459, '전자': 5460, '유연하다': 5461, '곡물': 5462, '토마토': 5463, '의리': 5464, '유칼립투스': 5465, '가평': 5466, '주방': 5467, '매매': 5468, '검색': 5469, '셋팅': 5470, '초등': 5471, '장쉬': 5472, '지향': 5473, '승리': 5474, '사가': 5475, '귀환': 5476, '한호': 5477, '피아': 5478, '소감': 5479, '넓다': 5480, '부천': 5481, '비비': 5482, '삐': 5483, '산복도로': 5484, '역시': 5485, '땡큐': 5486, '기안': 5487, '탈북': 5488, '뜻밖': 5489, '만사': 5490, '테디': 5491, '복허리': 5492, '발리': 5493, '회전': 5494, '퀴즈': 5495, '우파루파': 5496, '헤세': 5497, '빈센트': 5498, '유물': 5499, '가락지': 5500, '광복절': 5501, '괴기': 5502, '일상생활': 5503, '차지': 5504, '달이': 5505, '가담': 5506, '항설': 5507, '샤': 5508, '잠깐': 5509, '뇌': 5510, '물새': 5511, '환담': 5512, '견과류': 5513, '얇다': 5514, '음악극': 5515, '어드벤쳐': 5516, '의왕': 5517, '스와로브스키': 5518, '절판': 5519, '십자군': 5520, '유로': 5521, '좌': 5522, '숟가락': 5523, '화기': 5524, '서바이벌': 5525, '성생활': 5526, '누적': 5527, '심신': 5528, '워시': 5529, '저녁': 5530, '미대': 5531, '강릉': 5532, '애오': 5533, '룰렛': 5534, '도굴': 5535, '부족': 5536, '낙지': 5537, '뷰티': 5538, '블랭킷': 5539, '신문': 5540, '디테일': 5541, '당연하다': 5542, '간절하다': 5543, '인스턴트': 5544, '현재': 5545, '이종': 5546, '경첩': 5547, '샐러드': 5548, '금박': 5549, '슬럼가': 5550, '신작': 5551, '티비': 5552, '천국': 5553, '거북목': 5554, '일본여행': 5555, '성비': 5556, '명사': 5557, '피노키오': 5558, '누빔': 5559, '재킷': 5560, '학도': 5561, '세인': 5562, '펭': 5563, '타격': 5564, '돈드': 5565, '우월': 5566, '새로이': 5567, '데칼': 5568, '자본주의': 5569, '한의원': 5570, '오디션': 5571, '넉넉하다': 5572, '파워': 5573, '아무튼': 5574, '인색': 5575, '관능': 5576, '안감': 5577, '철학자': 5578, '해달': 5579, '작곡가': 5580, '겸용': 5581, '운동장': 5582, '네버랜드': 5583, '입국': 5584, '보컬': 5585, '에릭': 5586, '상회': 5587, '마오': 5588, '가우리': 5589, '쫓다': 5590, '목표': 5591, '손실': 5592, '제공': 5593, '는고': 5594, '주변': 5595, '비상': 5596, '지로': 5597, '선집': 5598, '바닥': 5599, '껌': 5600, '횡': 5601, '자금': 5602, '공성': 5603, '샤베트': 5604, '욤뽀': 5605, '리빙': 5606, '마리아': 5607, '월급': 5608, '해지': 5609, '원년': 5610, '미지': 5611, '론리': 5612, '안중근': 5613, '아이폰': 5614, '명암': 5615, '그리드': 5616, '깎다': 5617, '키드': 5618, '울산': 5619, '걷기': 5620, '비정규직': 5621, '폴짝': 5622, '모시다': 5623, '벨라': 5624, '글루텐': 5625, '니나': 5626, '달밤': 5627, '첫인상': 5628, '퍼티': 5629, '캔': 5630, '편이': 5631, '서부': 5632, '라비': 5633, '약자': 5634, '품안': 5635, '사직서': 5636, '일제': 5637, '주청': 5638, '최애': 5639, '대롱': 5640, '스낵': 5641, '한무': 5642, '씨리얼': 5643, '나이트': 5644, '연결고리': 5645, '몽실': 5646, '뚱': 5647, '작성': 5648, '라스트': 5649, '클린': 5650, '공박': 5651, '개봉': 5652, '다정': 5653, '염원': 5654, '나인': 5655, '티스': 5656, '쉬폰': 5657, '모카': 5658, '바치': 5659, '흑백': 5660, '카바레': 5661, '양장': 5662, '유유': 5663, '보험': 5664, '행주': 5665, '연금술사': 5666, '쇼젠': 5667, '해설': 5668, '한인': 5669, '무거워': 5670, '메이트': 5671, '이화문': 5672, '플라잉': 5673, '힙합': 5674, '청과': 5675, '가습기': 5676, '딘': 5677, '개성': 5678, '미드나잇': 5679, '소책자': 5680, '편식': 5681, '더봄': 5682, '휴게실': 5683, '이징': 5684, '안정': 5685, '해소': 5686, '컨트롤': 5687, '이직': 5688, '솔직': 5689, '참기름': 5690, '들기름': 5691, '열기': 5692, '기계': 5693, '고등학교': 5694, '로마': 5695, '병동': 5696, '와이': 5697, '지상': 5698, '리스본': 5699, '고려': 5700, '보도': 5701, '나침반': 5702, '닦다': 5703, '발굴': 5704, '자신감': 5705, '페이지': 5706, '바치다': 5707, '똥꼬': 5708, '답답하다': 5709, '아코': 5710, '팔리다': 5711, '전구': 5712, '바크': 5713, '힘내다': 5714, '헬로': 5715, '부부': 5716, '부족하다': 5717, '투게더': 5718, '오닉스': 5719, '암호': 5720, '화폐': 5721, '투자자': 5722, '소외': 5723, '홍보': 5724, '공동체': 5725, '단체': 5726, '루시': 5727, '메카': 5728, '일일': 5729, '마흔': 5730, '스팀': 5731, '유아': 5732, '주식회사': 5733, '쿠바': 5734, '영도': 5735, '받침': 5736, '폐지': 5737, '해부': 5738, '과만': 5739, '이화': 5740, '여관': 5741, '포스': 5742, '티워머': 5743, '컵케익': 5744, '종이학': 5745, '로쏘': 5746, '사심': 5747, '마영전': 5748, '독도강치': 5749, '무트': 5750, '마인': 5751, '연연': 5752, '부착': 5753, '부정': 5754, '써클': 5755, '강정': 5756, '따지다': 5757, '스즈끼': 5758, '테라포밍': 5759, '타일': 5760, '나우': 5761, '에마': 5762, '산성': 5763, '감금': 5764, '헬스': 5765, '장점': 5766, '주피터': 5767, '큐어': 5768, '기반': 5769, '한일': 5770, '고찰': 5771, '스쿨': 5772, '미투': 5773, '찬송': 5774, '사라': 5775, '사진작가': 5776, '유채': 5777, '알아주다': 5778, '손맛': 5779, '초록빛': 5780, '기만': 5781, '윰': 5782, '아이슬란드': 5783, '바퀴': 5784, '운세': 5785, '원고지': 5786, '조율': 5787, '나른하다': 5788, '서핑': 5789, '이국': 5790, '대리석': 5791, '은실': 5792, '교환일기': 5793, '해산물': 5794, '회봄': 5795, '절': 5796, '평창올림픽': 5797, '서태지': 5798, '있': 5799, '부심': 5800, '마이크로': 5801, '묵상': 5802, '잘쓰다': 5803, '신이보고': 5804, '파베초콜릿': 5805, '조미료': 5806, '임신': 5807, '사비': 5808, '본과': 5809, '문화재': 5810, '단골': 5811, '노포': 5812, '찜질방': 5813, '선뚜리빼': 5814, '시공간': 5815, '악어': 5816, '경로': 5817, '벗어나다': 5818, '구멍': 5819, '굴': 5820, '공산주의': 5821, '캠퍼스': 5822, '대고려': 5823, '집요': 5824, '노회찬': 5825, '추': 5826, '응답': 5827, '대안': 5828, '남쪽': 5829, '숭실대': 5830, '회빛': 5831, '누리': 5832, '곡': 5833, '서출': 5834, '엔터테인먼트': 5835, '서브컬처': 5836, '로봇': 5837, '강박': 5838, '꽁꽁': 5839, '깨': 5840, '과학소설': 5841, '담론': 5842, '혜': 5843, '바인더': 5844, '날로': 5845, '날씨': 5846, '아리랑': 5847, '신소재': 5848, '출산': 5849, '의기': 5850, '노루': 5851, '궁뎅': 5852, '정착': 5853, '고유': 5854, '건지다': 5855, '기연': 5856, '킹콩': 5857, '루티': 5858, '포르투갈': 5859, '잔잔': 5860, '실패하다': 5861, '집회': 5862, '넘어지다': 5863, '이집트': 5864, '홍': 5865, '천방지축': 5866, '회회': 5867, '오프': 5868, '네팔': 5869, '다큐': 5870, '투어': 5871, '캡처': 5872, '부모': 5873, '싸이월드': 5874, '종말': 5875, '숑': 5876, '금속활자': 5877, '유일': 5878, '헤나': 5879, '꾸꾸': 5880, '어쩌다': 5881, '부엌': 5882, '오이디푸스': 5883, '코알라': 5884, '시화': 5885, '밖에': 5886, '대응': 5887, '떼쟁이': 5888, '고궁': 5889, '개혁': 5890, '김복동': 5891, '허들': 5892, '빙북': 5893, '반닫이': 5894, '가미': 5895, '화창': 5896, '한과': 5897, '강제': 5898, '징용': 5899, '무용': 5900, '힘들다': 5901, '파랑새': 5902, '라이카': 5903, '복수': 5904, '메이데이': 5905, '도보': 5906, '긍정': 5907, '소규모': 5908, '사업가': 5909, '무위': 5910, '출항': 5911, '자작나무': 5912, '스피커': 5913, '조선공': 5914, '배변': 5915, '토닥토닥': 5916, '카롱': 5917, '편지지': 5918, '키즈': 5919, '길다': 5920, '무니': 5921, '비거니즘': 5922, '이공': 5923, '와일드': 5924, '그래퍼': 5925, '재활': 5926, '열등감': 5927, '속담': 5928, '부담': 5929, '발행': 5930, '삼색': 5931, '군산': 5932, '짐볼': 5933, '돌리다': 5934, '웹진': 5935, '사진전': 5936, '달파란': 5937, '마마마': 5938, '자폐': 5939, '크리스챤': 5940, '월행잉': 5941, '광고주': 5942, '렛폼': 5943, '계시다': 5944, '겨울새': 5945, '더빛': 5946, '한평생': 5947, '아토': 5948, '숭복숭': 5949, '박현종': 5950, '자색': 5951, '양파': 5952, '즙즙즙': 5953, '다그': 5954, '배뱅이굿': 5955, '인정이': 5956, '누지': 5957, '캐릭': 5958, '목포': 5959, '새로고침': 5960, '변변찮': 5961, '교전': 5962, '종영': 5963, '챠': 5964, '뽑기': 5965, '에어캡': 5966, '왕따': 5967, '저희': 5968, '아더': 5969, '졸라맨': 5970, '창살': 5971, '한필수': 5972, '녹음': 5973, '윤리': 5974, '공정무역': 5975, '라인강': 5976, '비밀일기': 5977, '자막': 5978, '토이스토리': 5979, '데노': 5980, '메단': 5981, '팬더': 5982, '키링노': 5983, '매리': 5984, '어벤져스': 5985, '고귀하다': 5986, '괴로움': 5987, '사이트': 5988, '국밥': 5989, '별일': 5990, '공양미': 5991, '실시간': 5992, '라인업': 5993, '알림': 5994, '남성향': 5995, '순위': 5996, '똑똑': 5997, '대장': 5998, '와글': 5999, '향초': 6000, '칵토': 6001, '지자': 6002, '아오': 6003, '울타리': 6004, '다리다': 6005, '커넥티드': 6006, '쿼카': 6007, '자세하다': 6008, '앵무': 6009, '정글': 6010, '임비': 6011, '덜': 6012, '먀옹': 6013, '냉정': 6014, '한새': 6015, '숙제': 6016, '조약돌': 6017, '페블': 6018, '을해': 6019, '삽화': 6020, '조동우': 6021, '옆집': 6022, '간첩': 6023, '만해': 6024, '르미와꼬': 6025, '산골': 6026, '조끼': 6027, '백화점': 6028, '인어공주': 6029, '레미': 6030, '파댕': 6031, '우파': 6032, '담력': 6033, '오스카와일드': 6034, '송장': 6035, '일분': 6036, '목격자': 6037, '미제': 6038, '타이페이': 6039, '식물원': 6040, '길몽': 6041, '펄': 6042, '한적': 6043, '헤막': 6044, '소방차': 6045, '이삿짐': 6046, '상괭이': 6047, '맥베스': 6048, '넵튠': 6049, '아포리아': 6050, '헤일로': 6051, '불가하다': 6052, '향리': 6053, '세미': 6054, '산산': 6055, '북퍼품': 6056, '모리스': 6057, '형성': 6058, '판토킹': 6059, '서른즈음에': 6060, '년패': 6061, '거두다': 6062, '스트플래닛': 6063, '용적': 6064, '잔영': 6065, '진리': 6066, '가르치다': 6067, '가원': 6068, '팅포션': 6069, '허물': 6070, '가산디지털단지역': 6071, '예술의전당': 6072, '실황': 6073, '코넛': 6074, '송용창집': 6075, '후반작업': 6076, '닳다': 6077, '이노': 6078, '큐티': 6079, '반죽': 6080, '땡글': 6081, '돋보이다': 6082, '강점': 6083, '디스크': 6084, '삼키다': 6085, '보아뱀': 6086, '명탐정코난': 6087, '꽃물': 6088, '신령': 6089, '아틀라스': 6090, '판출': 6091, '비비안': 6092, '마이어': 6093, '손편지': 6094, '답장': 6095, '킹스우드': 6096, '론델': 6097, '치열하다': 6098, '싸움': 6099, '큐앤': 6100, '점선': 6101, '북키링': 6102, '컨템포러리': 6103, '페이스': 6104, '쇼룸': 6105, '운지': 6106, '꼴라주': 6107, '산업': 6108, '책봄': 6109, '미래세': 6110, '이건': 6111, '사이다': 6112, '권하다': 6113, '텐트': 6114, '마다의': 6115, '북너': 6116, '데드': 6117, '눈썹달': 6118, '중생대': 6119, '러시아문학': 6120, '지바고': 6121, '깜짝': 6122, '살멈머포카': 6123, '뽀짝무빙': 6124, '지대': 6125, '테이': 6126, '판화': 6127, '즙택': 6128, '청약': 6129, '대추': 6130, '엉': 6131, '킴': 6132, '이적': 6133, '유니': 6134, '코르셋': 6135, '뽀글뽀글': 6136, '금목서': 6137, '정산소종': 6138, '압박': 6139, '스노': 6140, '트의널핏': 6141, '선생': 6142, '버드스': 6143, '응급의학': 6144, '사들이다': 6145, '커지다': 6146, '빈빈': 6147, '명인': 6148, '겔리': 6149, '슈퍼모델': 6150, '비율': 6151, '드루이드': 6152, '덕기': 6153, '에게는': 6154, '늘향': 6155, '일몰': 6156, '졸이다': 6157, '팔상': 6158, '반신': 6159, '풀문': 6160, '조선대': 6161, '흑요석': 6162, '이그리': 6163, '옷털': 6164, '황실': 6165, '비글': 6166, '몰약': 6167, '향목': 6168, '투약': 6169, '북부': 6170, '룩앳': 6171, '박제가': 6172, '상시인': 6173, '광역': 6174, '속성': 6175, '방검': 6176, '이귀': 6177, '마물': 6178, '에게서': 6179, '수르': 6180, '취뽀': 6181, '드래곤즈': 6182, '대공': 6183, '수도원': 6184, '로코코': 6185, '상혼': 6186, '창피하다': 6187, '혼밥': 6188, '킨토': 6189, '이스터': 6190, '오베론': 6191, '플러그인': 6192, '무하': 6193, '꽃장식': 6194, '티폰': 6195, '헌혈': 6196, '방방곡곡': 6197, '환디': 6198, '포크레인': 6199, '헬기': 6200, '배등': 6201, '마무리': 6202, '구도': 6203, '가뿐하다': 6204, '온수': 6205, '외주': 6206, '쓰라리다': 6207, '이기술': 6208, '오염': 6209, '슬랙스': 6210, '품관': 6211, '마트': 6212, '접수': 6213, '션딸초': 6214, '라디오': 6215, '티종': 6216, '머글': 6217, '선보이다': 6218, '부촌': 6219, '문턱': 6220, '항공기': 6221, '포르노': 6222, '보정': 6223, '연비': 6224, '명기': 6225, '유즈': 6226, '물담배': 6227, '양귀비': 6228, '후카': 6229, '붉은빛': 6230, '복점': 6231, '버블티': 6232, '별장': 6233, '탄생화': 6234, '쇼핑': 6235, '코어': 6236, '전문점': 6237, '관측': 6238, '움혼': 6239, '껍데기': 6240, '녹슬다': 6241, '개명': 6242, '조이다': 6243, '고려시대': 6244, '금귤': 6245, '부합': 6246, '조연': 6247, '안개꽃': 6248, '고체': 6249, '니요': 6250, '뚜껑': 6251, '마르지': 6252, '리멤버': 6253, '수백': 6254, '세계지도': 6255, '세무': 6256, '상점가': 6257, '소복이': 6258, '쌓이다': 6259, '홀더설': 6260, '취생': 6261, '몽사': 6262, '듯': 6263, '아차': 6264, '한경제': 6265, '비코': 6266, '노미': 6267, '장만': 6268, '디지몬': 6269, '버터플라이': 6270, '브레이브하트': 6271, '직하': 6272, '서산': 6273, '오른': 6274, '영생': 6275, '퓨': 6276, '학교종': 6277, '모퉁이': 6278, '개방': 6279, '날때': 6280, '극대': 6281, '로션': 6282, '당선': 6283, '여성민': 6284, '로판섬': 6285, '식도': 6286, '크리스토퍼놀란': 6287, '오팔': 6288, '인롱': 6289, '슈퍼카': 6290, '앤트': 6291, '불규칙하다': 6292, '단모': 6293, '경차': 6294, '잡가': 6295, '아현동': 6296, '친정': 6297, '초가집': 6298, '주막': 6299, '저잣거리': 6300, '돌풀': 6301, '메신저': 6302, '소재효': 6303, '대역': 6304, '브랜딩툴킷': 6305, '석양': 6306, '발루': 6307, '무중력': 6308, '제조업체': 6309, '극한': 6310, '산지': 6311, '트러플': 6312, '갸또': 6313, '읍성': 6314, '가품': 6315, '이해공': 6316, '트라팔가': 6317, '시내': 6318, '한약': 6319, '구급함': 6320, '알렉스': 6321, '걸작': 6322, '구글': 6323, '스프레드시트': 6324, '스테이': 6325, '마스코트': 6326, '싱숭': 6327, '단짝': 6328, '민간': 6329, '누군지': 6330, '더기': 6331, '우편': 6332, '대여': 6333, '문학가': 6334, '이반': 6335, '정지용': 6336, '꿀광': 6337, '크게': 6338, '춥다': 6339, '수족': 6340, '냉증': 6341, '한수면': 6342, '과세': 6343, '하부': 6344, '탄연': 6345, '텐셀패딩': 6346, '경이': 6347, '뭉': 6348, '루아': 6349, '탐정뎐': 6350, '지핀': 6351, '슬림핏': 6352, '포정': 6353, '끌': 6354, '아몬드초콜릿': 6355, '양철': 6356, '나무꾼': 6357, '스트몬': 6358, '빨다': 6359, '노폐물': 6360, '사해': 6361, '솔트': 6362, '재시': 6363, '허난설헌': 6364, '초이스': 6365, '곁들이다': 6366, '원래': 6367, '픽': 6368, '엘리베이터': 6369, '니미': 6370, '한림': 6371, '수직': 6372, '묘사': 6373, '단번': 6374, '광음': 6375, '로럴': 6376, '독서실': 6377, '개화': 6378, '예전': 6379, '무당': 6380, '대장간': 6381, '산채': 6382, '툰로웹제': 6383, '슈뢰딩거': 6384, '착안': 6385, '쌩얼': 6386, '꽃차꽃': 6387, '브리티시': 6388, '헤리티지': 6389, '첼': 6390, '잉아': 6391, '카시': 6392, '추국': 6393, '실조': 6394, '산미': 6395, '메리노': 6396, '무과': 6397, '소장품': 6398, '부띠': 6399, '스테인레스': 6400, '전유어': 6401, '마나과': 6402, '한컴': 6403, '처엠보': 6404, '카배': 6405, '비행선': 6406, '김소월': 6407, '강남대로': 6408, '미혼': 6409, '도달': 6410, '여종': 6411, '렛폼빙봉': 6412, '쌉싸름하다': 6413, '니아': 6414, '팝아이돌': 6415, '흡입': 6416, '전동': 6417, '한로': 6418, '조선집': 6419, '온난화': 6420, '피쿠범비': 6421, '빙구': 6422, '학회': 6423, '설전': 6424, '곤룡포': 6425, '나위': 6426, '석기시대': 6427, '대한제국': 6428, '헤스페리데스': 6429, '님프': 6430, '그레이스': 6431, '삼나무': 6432, '만족하다': 6433, '유람선': 6434, '히치하이커': 6435, '더욱더': 6436, '진지하다': 6437, '교각': 6438, '애욕': 6439, '까다롭다': 6440, '퍼워머': 6441, '버번': 6442, '재래시장': 6443, '칼퇴': 6444, '혹': 6445, '기울이다': 6446, '초코우유': 6447, '기호': 6448, '브라더': 6449, '핑미핑미핑': 6450, '성안': 6451, '에밀': 6452, '싱클레어': 6453, '형상': 6454, '싯업로퍼': 6455, '츠지': 6456, '라미': 6457, '텐레스': 6458, '치키다': 6459, '영양식': 6460, '왓슨': 6461, '홈즈': 6462, '오남매': 6463, '되새기다': 6464, '다이나믹': 6465, '박자': 6466, '탐독': 6467, '만알': 6468, '망상': 6469, '릭': 6470, '거북왕': 6471, '옥풀셋트종': 6472, '로스트': 6473, '경성': 6474, '한양': 6475, '아티초크': 6476, '솝': 6477, '다사': 6478, '실러': 6479, '증강': 6480, '툰초빛툰': 6481, '몬스터헌터': 6482, '스크립트': 6483, '엑소더스': 6484, '면학': 6485, '희생양': 6486, '연애담': 6487, '태준': 6488, '원영': 6489, '간작': 6490, '불개미': 6491, '북리뉴얼': 6492, '매니페스토': 6493, '다태': 6494, '복장': 6495, '합치다': 6496, '이여성': 6497, '황궁': 6498, '맑다': 6499, '밤새다': 6500, '깔창': 6501, '계보': 6502, '날림': 6503, '기금': 6504, '전체': 6505, '눈감다': 6506, '고촉': 6507, '아기자기': 6508, '허용': 6509, '종학': 6510, '버지니아': 6511, '울프': 6512, '세비': 6513, '가전': 6514, '가정식': 6515, '문명인': 6516, '관광': 6517, '전대통령': 6518, '크로미': 6519, '모순': 6520, '게임개발': 6521, '비품': 6522, '션굿': 6523, '테두리': 6524, '비보': 6525, '오솔길': 6526, '질병': 6527, '살피다': 6528, '이지혜': 6529, '해안': 6530, '오션': 6531, '뷰복층': 6532, '폭로': 6533, '영광': 6534, '월계수': 6535, '시반': 6536, '뜯다': 6537, '불금': 6538, '체포': 6539, '클래시': 6540, '투톤젤': 6541, '세럼': 6542, '스캐너': 6543, '할기다': 6544, '템투': 6545, '타운하우스': 6546, '천혜향': 6547, '이딴': 6548, '발명': 6549, '사롱': 6550, '구로': 6551, '수영장': 6552, '전해지다': 6553, '자크': 6554, '페팽': 6555, '잠재우다': 6556, '숲향': 6557, '그린우드': 6558, '상가': 6559, '옥종': 6560, '레저': 6561, '바스크': 6562, '일다': 6563, '리키': 6564, '담당': 6565, '무케': 6566, '궤도': 6567, '가바': 6568, '꽃집': 6569, '까지는': 6570, '옆': 6571, '코숏': 6572, '세바': 6573, '극치': 6574, '항식': 6575, '양반': 6576, '떨기': 6577, '스콜라': 6578, '아낌없다': 6579, '성곽도시': 6580, '보화': 6581, '팬톤': 6582, '삶의질': 6583, '묵향': 6584, '해외여행': 6585, '노방': 6586, '에테르': 6587, '풍부하다': 6588, '요원': 6589, '애솔': 6590, '하운즈': 6591, '시내버스': 6592, '뚝방': 6593, '의용군': 6594, '철제': 6595, '애완': 6596, '요리법': 6597, '대공황': 6598, '빙판': 6599, '국가대표': 6600, '초콜릿케이크': 6601, '레드와인': 6602, '빛봄': 6603, '블룸': 6604, '한결': 6605, '얼라이언스': 6606, '요나단': 6607, '곰털후': 6608, '젤젤': 6609, '백호': 6610, '싸이코패스': 6611, '재능': 6612, '투스': 6613, '지붕': 6614, '위삐롱': 6615, '래시': 6616, '대항': 6617, '납량': 6618, '원장': 6619, '영상편집': 6620, '므른': 6621, '던전앤파이터': 6622, '넉': 6623, '예절': 6624, '새끼': 6625, '왕비': 6626, '리턴': 6627, '임지선': 6628, '정영문': 6629, '편리': 6630, '집착': 6631, '의수': 6632, '제반': 6633, '해빈': 6634, '짱': 6635, '초인': 6636, '여성인권': 6637, '연구개발': 6638, '캘러스': 6639, '론칭': 6640, '한라산': 6641, '해봤다': 6642, '선시': 6643, '체리봄': 6644, '팩케': 6645, '렉': 6646, '산해경': 6647, '분에이': 6648, '눈병': 6649, '빙수': 6650, '증기기관차': 6651, '식자': 6652, '연두빛': 6653, '요물': 6654, '의제': 6655, '주향기': 6656, '알차다': 6657, '초겨울': 6658, '말종': 6659, '식이': 6660, '포근포근': 6661, '달무지개': 6662, '덴버': 6663, '거대하다': 6664, '룸메이트': 6665, '오토바이': 6666, '비스킷': 6667, '베르사이유': 6668, '웨이백': 6669, '입그': 6670, '아이디얼': 6671, '신뢰': 6672, '물쏙': 6673, '남성혐오': 6674, '오만': 6675, '노란색': 6676, '한선화': 6677, '흉악하다': 6678, '영국사람': 6679, '톰': 6680, '팽글': 6681, '오트쿠튀르': 6682, '나그네': 6683, '도원경': 6684, '사군': 6685, '자트': 6686, '행로': 6687, '집무실': 6688, '으름': 6689, '벽장': 6690, '면시': 6691, '간관': 6692, '앤파': 6693, '화의': 6694, '개발도상국': 6695, '의빈': 6696, '샌드': 6697, '향소': 6698, '과소': 6699, '박진': 6700, '전투씬': 6701, '로맨스코미디': 6702, '풍호': 6703, '선풍기': 6704, '패물': 6705, '오거': 6706, '맛털': 6707, '신선': 6708, '금액': 6709, '지하감옥': 6710, '보단': 6711, '무속인': 6712, '짐꾼': 6713, '백주년': 6714, '경력': 6715, '도합': 6716, '오마이': 6717, '데드라인': 6718, '선녀': 6719, '에델바이스': 6720, '로즈': 6721, '멈멈': 6722, '멈뭄': 6723, '틴티드': 6724, '리뉴얼': 6725, '오그리다': 6726, '가정사': 6727, '최상급': 6728, '레스타': 6729, '신성': 6730, '아폴론': 6731, '미소년': 6732, '신스': 6733, '워터파크': 6734, '유난히': 6735, '봄타다': 6736, '화순': 6737, '구절초': 6738, '동방': 6739, '동쪽': 6740, '서쪽': 6741, '상과': 6742, '사슬': 6743, '임산': 6744, '스완': 6745, '시문학': 6746, '아라비아': 6747, '술탄': 6748, '때우다': 6749, '뻑뻑': 6750, '판타스틱': 6751, '무의미하다': 6752, '봄여름가을겨울': 6753, '스무디': 6754, '인위': 6755, '교감': 6756, '고소': 6757, '한밤': 6758, '슬랙': 6759, '스반': 6760, '유행': 6761, '망원동': 6762, '겉바': 6763, '다과상': 6764, '은종이': 6765, '체리쉬': 6766, '수업': 6767, '라바': 6768, '샌프란시스코': 6769, '코바': 6770, '먼치킨': 6771, '미만': 6772, '당류': 6773, '저당': 6774, '자꾸만': 6775, '쓰러지다': 6776, '신암행어사': 6777, '판권': 6778, '지루': 6779, '스케일링': 6780, '부공': 6781, '쉐르': 6782, '파털': 6783, '손소': 6784, '재선': 6785, '방유': 6786, '쇄비하인드': 6787, '까': 6788, '줄기': 6789, '라이닝': 6790, '허리우드': 6791, '전편': 6792, '은쥐': 6793, '가드': 6794, '때아닌': 6795, '강의실': 6796, '마유': 6797, '죽여주다': 6798, '옥수동': 6799, '컬릿': 6800, '견습': 6801, '늘리다': 6802, '이한열': 6803, '아타카마': 6804, '서치': 6805, '부종': 6806, '늑대인간': 6807, '내집마련': 6808, '딥펜': 6809, '전원주택': 6810, '쿨하다': 6811, '오래도록': 6812, '한수채': 6813, '렁임': 6814, '티바': 6815, '다즐링': 6816, '수채': 6817, '단잠': 6818, '허락': 6819, '한유일': 6820, 'ㅁ': 6821, '학교괴담': 6822, '야간': 6823, '용패': 6824, '아리': 6825, '불경': 6826, '불소': 6827, '대조선': 6828, '판이': 6829, '흉악': 6830, '범과': 6831, '면담': 6832, '폭신': 6833, '보드랍다': 6834, '다린': 6835, '비교': 6836, '불가': 6837, '어울림': 6838, '킬리': 6839, '보헤미안': 6840, '티노': 6841, '삼베': 6842, '흑장미': 6843, '납골당': 6844, '학위': 6845, '사회생활': 6846, '에기': 6847, '이민경': 6848, '참나무': 6849, '스페어': 6850, '립집': 6851, '육아': 6852, '훈장': 6853, '그라드': 6854, '범의': 6855, '혀': 6856, '무죄': 6857, '유죄': 6858, '어여쁘다': 6859, '급제': 6860, '꿰뚫다': 6861, '카시트': 6862, '검찰청': 6863, '묶다': 6864, '스르륵': 6865, '나룻배': 6866, '연기': 6867, '사관학교': 6868, '사악하다': 6869, '뽐내다': 6870, '과감': 6871, '통역사': 6872, '어학': 6873, '랭이떡아붕': 6874, '현수막': 6875, '스토': 6876, '돈화문': 6877, '인정전': 6878, '종합병원': 6879, '업무': 6880, '만가': 6881, '악인': 6882, '마패': 6883, '지협': 6884, '상법': 6885, '포근포근하다': 6886, '베이글': 6887, '툰하': 6888, '락다운': 6889, '베가': 6890, '프로그래밍': 6891, '하퇴': 6892, '신도': 6893, '야근': 6894, '셀레네': 6895, '헤카테': 6896, '역삼': 6897, '스캔들': 6898, '구석': 6899, '약사': 6900, '회복하다': 6901, '아이오': 6902, '해피니스': 6903, '의료': 6904, '리치': 6905, '불꽃심장': 6906, '유익하다': 6907, '디바': 6908, '협회': 6909, '곱창': 6910, '올라가다': 6911, '리즘': 6912, '라우스': 6913, '풍년': 6914, '샤를': 6915, '보들레르': 6916, '패킹': 6917, '밋밋하다': 6918, '얹다': 6919, '화관': 6920, '식대': 6921, '무집': 6922, '유섬': 6923, '유닛': 6924, '동네오빠': 6925, '삿': 6926, '지하차도': 6927, '구동': 6928, '꽃전': 6929, '화집': 6930, '규수': 6931, '방아': 6932, '우레': 6933, '모닝': 6934, '테스토스테론': 6935, '혈누': 6936, '유네스코': 6937, '치트': 6938, '결혼반지': 6939, '혼반': 6940, '월지': 6941, '해중': 6942, '가운데': 6943, '위글위글': 6944, '스마': 6945, '일위': 6946, '테리': 6947, '오싹하다': 6948, '아포': 6949, '카토': 6950, '도술': 6951, '육질': 6952, '결의': 6953, '머리카락': 6954, '퀸즈': 6955, '주원': 6956, '의수면': 6957, '단계': 6958, '곰손': 6959, '관전': 6960, '코드': 6961, '회지': 6962, '사기꾼': 6963, '우성': 6964, '투룸': 6965, '발향': 6966, '볼브': 6967, '칼라': 6968, '업체': 6969, '번만': 6970, '흥신소': 6971, '리듬게임': 6972, '빅토리': 6973, '군중': 6974, '강화도': 6975, '가마': 6976, '후끈하다': 6977, '캬라멜': 6978, '프루': 6979, '알레': 6980, '명확하다': 6981, '백자': 6982, '먹기': 6983, '양배추': 6984, '캐처': 6985, '템립': 6986, '리립': 6987, '실용음악': 6988, '둥실둥실': 6989, '국어': 6990, '이탈리아어': 6991, '협력게임': 6992, '그릴': 6993, '맜살맨투맨': 6994, '답사': 6995, '패션디자이너': 6996, '대담하다': 6997, '혼색': 6998, '캐리': 6999, '컷용': 7000, '사권': 7001, '장이': 7002, '풀산': 7003, '푸른빛': 7004, '자씨': 7005, '일행': 7006, '스케쥴': 7007, '매번': 7008, '귤나무': 7009, '디저': 7010, '랑그': 7011, '부드러움': 7012, '링컷': 7013, '퍼폼': 7014, '게임판타지': 7015, '니알라토텝': 7016, '테라스': 7017, '톨게이트': 7018, '췌장': 7019, '아놀드': 7020, '베넷': 7021, '그랜드': 7022, '바빌론': 7023, '볾': 7024, '로버': 7025, '라이어': 7026, '불꽃놀이': 7027, '불완전': 7028, '과격': 7029, '백배': 7030, '스컬': 7031, '새한': 7032, '디럭스': 7033, '명예': 7034, '모닥불': 7035, '닥': 7036, '생화': 7037, '수면': 7038, '차옷향': 7039, '병속': 7040, '구달': 7041, '돌위': 7042, '석판': 7043, '모히토': 7044, '참호': 7045, '인하다': 7046, '년작': 7047, '돛배': 7048, '애쓰다': 7049, '발도': 7050, '매트리스': 7051, '엣지': 7052, '스케치북': 7053, '세로토닌': 7054, '라즈베리': 7055, '학원물': 7056, '검도': 7057, '천문': 7058, '리얼리': 7059, '평의': 7060, '불야성': 7061, '신식': 7062, '벌어지다': 7063, '시유': 7064, '십장생도': 7065, '신념': 7066, '브이포벤데타': 7067, '설치다': 7068, '인현동': 7069, '찍어내다': 7070, '끌함': 7071, '쇼츠셋업': 7072, '분식점': 7073, '김밥': 7074, '지씨': 7075, '책보': 7076, '첩': 7077, '점성술': 7078, '씌우다': 7079, '비담': 7080, '콤해': 7081, '안수': 7082, '증표': 7083, '절묘하다': 7084, '패션계': 7085, '신비학': 7086, '펜듈럼': 7087, '다우': 7088, '외': 7089, '기내': 7090, '유디티': 7091, '유출': 7092, '추락': 7093, '랍': 7094, '만으로도': 7095, '피플': 7096, '살랑이다': 7097, '가향': 7098, '사르': 7099, '권학봉': 7100, '스트로': 7101, '비스트': 7102, '식구': 7103, '트라우마': 7104, '꿀잼': 7105, '새싹삼': 7106, '콜라겐': 7107, '서재': 7108, '리츠': 7109, '며느': 7110, '라기': 7111, '결점': 7112, '네스트': 7113, '장하다': 7114, '차이다': 7115, '마야문명': 7116, '베이어': 7117, '똥손': 7118, '와퍼': 7119, '본연': 7120, '향틸던': 7121, '이섬': 7122, 'ㄱ': 7123, '풍선껌': 7124, '켓': 7125, '무리다': 7126, '화성학': 7127, '둠스데이': 7128, '의전': 7129, '필수요소': 7130, '양물': 7131, '유투': 7132, '펀': 7133, '다이아반지': 7134, '듯살': 7135, '스머지': 7136, '신사임당': 7137, '손맛불릿': 7138, '피에로': 7139, '공연장': 7140, '스펀지': 7141, '충전기': 7142, '포홈': 7143, '마더': 7144, '해발': 7145, '채취': 7146, '진짜꿀': 7147, '흔': 7148, '초순': 7149, '차등': 7150, '옥탑': 7151, '용서': 7152, '드래곤': 7153, '사나': 7154, '아이스와인': 7155, '넥타': 7156, '우주정거장': 7157, '플루토': 7158, '게이': 7159, '색출': 7160, '리임': 7161, '우토로': 7162, '뮤': 7163, '바펍종': 7164, '플리니우스': 7165, '박물': 7166, '이자카야': 7167, '항문': 7168, '원류': 7169, '로도스': 7170, '전철': 7171, '모레': 7172, '회색도시': 7173, '이월': 7174, '향멍': 7175, '불멍': 7176, '혜화역': 7177, '아르코': 7178, '교통': 7179, '아쿠아': 7180, '털털': 7181, '츠노': 7182, '덴큣큣': 7183, '외경': 7184, '치즈떡볶이': 7185, '친자연': 7186, '텀브': 7187, '포켓북': 7188, '오피스텔': 7189, '오디세이': 7190, '네거리': 7191, '에세이스트': 7192, '집대성': 7193, '메로': 7194, '다짐': 7195, '겁': 7196, '가탐': 7197, '차세대': 7198, '콜렉터': 7199, '절대': 7200, '적히다': 7201, '문지': 7202, '박하': 7203, '한층': 7204, '고속버스': 7205, '터미널': 7206, '앗': 7207, '블랭': 7208, '싱북': 7209, '으아아': 7210, '곧쇄': 7211, '심폐소생술': 7212, '북채': 7213, '꺾다': 7214, '무궁화호': 7215, '훈제': 7216, '천체관측': 7217, '대요': 7218, '약국': 7219, '뒤편': 7220, '혹은': 7221, '어썸': 7222, '키크': 7223, '쁘렝': 7224, '거니': 7225, '전무': 7226, '진의': 7227, '색동': 7228, '달콤달콤': 7229, '떡국': 7230, '누나': 7231, '판다': 7232, '착펜': 7233, '프리미어': 7234, '헤모글로빈': 7235, '타란티노': 7236, '속선': 7237, '바이브': 7238, '정모': 7239, '레콘키스타': 7240, '판타지오': 7241, '물고기': 7242, '골격': 7243, '방지법': 7244, '통과': 7245, '블루베리': 7246, '돼지고기': 7247, '양념': 7248, '젓갈': 7249, '능숙하다': 7250, '로판및': 7251, '속어': 7252, '절제': 7253, '르드': 7254, '갖': 7255, '볼끼': 7256, '재창': 7257, '라디오헤드': 7258, '믹트': 7259, '내용증명': 7260, '묘차봄첫물': 7261, '불멍향멍': 7262, '방과': 7263, '로이': 7264, '백통': 7265, '사파리': 7266, '멍투': 7267, '태도': 7268, '청량생': 7269, '메론': 7270, '쯔꾸르': 7271, '강무드': 7272, '무성애자': 7273, '모아이': 7274, '공과': 7275, '태평성대': 7276, '더독': 7277, '마로': 7278, '테일러': 7279, '릭차': 7280, '수묵화': 7281, '언어의정원': 7282, '셰익스피어': 7283, '스펠': 7284, '시대극': 7285, '보유': 7286, '리카': 7287, '입쏙똥배': 7288, '의봉': 7289, '씰스탬프': 7290, '강가': 7291, '논밭': 7292, '산책로': 7293, '앵글': 7294, '제스쳐': 7295, '파탄잘리': 7296, '고행': 7297, '찻잎': 7298, '최고급': 7299, '팬티라이너': 7300, '레볼루션': 7301, '맹': 7302, '응원단': 7303, '버자이너': 7304, '발땀': 7305, '항균뿔테': 7306, '카지노': 7307, '부두': 7308, '여가': 7309, '은세계': 7310, '게임화': 7311, '번역기': 7312, '디스': 7313, '블드': 7314, '애련': 7315, '정연경': 7316, '데이터': 7317, '석준': 7318, '자격증': 7319, '숲숲캣': 7320, '쿠드': 7321, '고객': 7322, '고령': 7323, '콕콕': 7324, '우롱차': 7325, '에버랜드': 7326, '이물': 7327, '발레': 7328, '나아': 7329, '점화': 7330, '거실': 7331, '나뭇가지': 7332, '기탄': 7333, '주석': 7334, '꿀향': 7335, '개나리': 7336, '가루': 7337, '라피': 7338, '놀': 7339, '따따': 7340, '집엄': 7341, '유정': 7342, '언덕': 7343, '경기': 7344, '찻길': 7345, '스퀘어에닉스': 7346, '블리': 7347, '한가운데': 7348, '세렌디피티': 7349, '모비': 7350, '성수동': 7351, '잔재': 7352, '창씨개명': 7353, '해안가': 7354, '갈대': 7355, '페트': 7356, '오프라인': 7357, '대절': 7358, '카미유': 7359, '아로딘': 7360, '중세시대': 7361, '단풍': 7362, '복담': 7363, '언더웨어': 7364, '와스디': 7365, '히든': 7366, '조명하': 7367, '생물재해': 7368, '기생': 7369, '잡티': 7370, '침착': 7371, '낫또': 7372, '나마': 7373, '손컵': 7374, '티슈': 7375, '앞날': 7376, '라보': 7377, '보라카이': 7378, '부역': 7379, '부외': 7380, '알짜': 7381, '맵다': 7382, '해킹': 7383, '각의': 7384, '각각': 7385, '판형': 7386, '양이온': 7387, '캣팥': 7388, '찜질': 7389, '비밀스럽다': 7390, '비술': 7391, '극적': 7392, '향애': 7393, '프라': 7394, '러스': 7395, '요약': 7396, '소울메이트': 7397, '엑사': 7398, '몸부림': 7399, '헬리콥터': 7400, '현관문': 7401, '에서나': 7402, '털집': 7403, '이백': 7404, '클레이애니메이션': 7405, '하이스쿨': 7406, '서두르다': 7407, '달그락달그락': 7408, '엄청': 7409, '빌트': 7410, '참치': 7411, '유명': 7412, '성차별': 7413, '불합격': 7414, '영화포스터': 7415, '쌍피': 7416, '둥이': 7417, '붙다': 7418, '로티': 7419, '프트': 7420, '코데즈': 7421, '멘톨': 7422, '집널': 7423, '기획서': 7424, '알고리즘': 7425, '종이가방': 7426, '편주': 7427, '지각': 7428, '생명체': 7429, '자포': 7430, '나트륨': 7431, '킬러': 7432, '퓨레': 7433, '작사': 7434, '사무소': 7435, '오버액션': 7436, '오이': 7437, '팩꿀': 7438, '추출': 7439, '김케': 7440, '랩그': 7441, '레즈': 7442, '호화유람선': 7443, '실외': 7444, '주황': 7445, '콧로': 7446, '데니': 7447, '래빗': 7448, '직코': 7449, '트렌스포머': 7450, '전통미': 7451, '연동': 7452, '고화질': 7453, '오카야마': 7454, '빗꽃': 7455, '집뭐': 7456, '해먹': 7457, '고살': 7458, '림일': 7459, '판히': 7460, '서바이버': 7461, '확장팩': 7462, '비닐봉투': 7463, '쓰레기통': 7464, '바르게': 7465, '육류': 7466, '동래': 7467, '마블코믹스': 7468, '한자리': 7469, '철공': 7470, '전동성당': 7471, '스판덱스': 7472, '팬딩': 7473, '성채도시': 7474, '올바르다': 7475, '손씻기': 7476, '마침표': 7477, '바이너리': 7478, '큐티클': 7479, '야무지다': 7480, '대성': 7481, '매수': 7482, '서해안': 7483, '즌': 7484, '홍천': 7485, '술빚': 7486, '중학교': 7487, '투과': 7488, '앙금': 7489, '흘러내리다': 7490, '착착': 7491, '밍센츠': 7492, '열흘': 7493, '기획사': 7494, '악한': 7495, '향유고래': 7496, '브레인': 7497, '봄빛': 7498, '이미테이션': 7499, '넣기': 7500, '한서': 7501, '팸플릿': 7502, '호칭': 7503, '어소': 7504, '점점': 7505, '초대장': 7506, '렌디': 7507, '양품': 7508, '점패': 7509, '혼밥티': 7510, '해결사': 7511, '금빛': 7512, '보육': 7513, '시설': 7514, '문위우표': 7515, '구석구석': 7516, '댓글': 7517, '영험': 7518, '하반기': 7519, '면접': 7520, '일어서다': 7521, '아첨': 7522, '토론': 7523, '판결': 7524, '솔로몬': 7525, '재배': 7526, '새싹': 7527, '유래': 7528, '열광하다': 7529, '롤렉스': 7530, '리핑': 7531, '말랑말랑하다': 7532, '낫다': 7533, '레디': 7534, '떼굴떼굴': 7535, '아이보리': 7536, '오월': 7537, '술자리': 7538, '한게임': 7539, '주님': 7540, '쫄깃쫄': 7541, '깃햄': 7542, '비훈': 7543, '펜시': 7544, '파이썬': 7545, '어웨이크': 7546, '정독': 7547, '요망': 7548, '독서치료': 7549, '코펠': 7550, '요미': 7551, '포션포션': 7552, '산전수전': 7553, '겪다': 7554, '버즈': 7555, '태창': 7556, '샤이닝': 7557, '룸쓰리룸': 7558, '메트로': 7559, '블로썸': 7560, '조디악': 7561, '여성할례': 7562, '마사이': 7563, '곳주': 7564, '토피아': 7565, '터전': 7566, '문살': 7567, '얼론': 7568, '큣큣': 7569, '낄낄': 7570, '디테': 7571, '알아보다': 7572, '블랙백': 7573, '피에르': 7574, '이브생로랑': 7575, '은우': 7576, '주행': 7577, '클라스': 7578, '초고': 7579, '남매': 7580, '깨달음': 7581, '벼룩': 7582, '노몬': 7583, '끝내기': 7584, '재판': 7585, '성함': 7586, '룸종': 7587, '낙': 7588, '선장': 7589, '꽃게': 7590, '체제': 7591, '작일': 7592, '라이크라': 7593, '일락': 7594, '면책': 7595, '토요일': 7596, '숨덕': 7597, '고단': 7598, '젠꽃길': 7599, '럭비': 7600, '명절': 7601, '벤트': 7602, '붕': 7603, '도망가다': 7604, '영문': 7605, '시스루': 7606, '퀸스갬빗': 7607, '부도': 7608, '아름': 7609, '평형': 7610, '고별': 7611, '일식집': 7612, '툰망': 7613, '미': 7614, '노바': 7615, '멈하퐁실퐁': 7616, '쟁이': 7617, '멈': 7618, '돈버': 7619, '정글북': 7620, '울퉁불퉁': 7621, '범피': 7622, '조구만': 7623, '이끌다': 7624, '세븐': 7625, '대담': 7626, '김경태': 7627, '구장': 7628, '이니까': 7629, '핸디북': 7630, '인쇄물': 7631, '미리보기': 7632, '쉬팀': 7633, '카롱가': 7634, '아누': 7635, '계동': 7636, '북당': 7637, '색칠': 7638, '굿데이': 7639, '한아름': 7640, '반달': 7641, '베어스': 7642, '야생동물': 7643, '반달곰': 7644, '읍': 7645, '단위': 7646, '갈아': 7647, '석반': 7648, '댓': 7649, '성숙하다': 7650, '성희롱': 7651, '고발': 7652, '고위': 7653, '관료': 7654, '활판인쇄': 7655, '되살리다': 7656, '세이프': 7657, '이세': 7658, '다완': 7659, '인물사진': 7660, '도하': 7661, '미히로': 7662, '존잘': 7663, '레오나르도': 7664, '다빈치': 7665, '독도쿠키': 7666, '의주': 7667, '프레젠트': 7668, '쫀득꾸': 7669, '키티': 7670, '우루스': 7671, '냠냠': 7672, '광란': 7673, '펜귄': 7674, '한신': 7675, '박하다': 7676, '밤비': 7677, '텍사스': 7678, '스킷': 7679, '부채살': 7680, '방책': 7681, '택시': 7682, '룩스': 7683, '대학원생': 7684, '부서': 7685, '적자생존': 7686, '리릭': 7687, '프루프': 7688, '오묘하다': 7689, '북코': 7690, '터리북': 7691, '끝장': 7692, '책손': 7693, '거즈': 7694, '부의': 7695, '위훈': 7696, '하품': 7697, '리운': 7698, '스주': 7699, '화포': 7700, '초콜릿선물': 7701, '약물': 7702, '코디법': 7703, '충족': 7704, '늦봄': 7705, '문익환': 7706, '옥중': 7707, '서신': 7708, '미처': 7709, '청춘극장': 7710, '다이얼': 7711, '렉트': 7712, '야채': 7713, '장마철': 7714, '항의': 7715, '싹': 7716, '망라': 7717, '게재': 7718, '코코아': 7719, '섬위': 7720, '세워지다': 7721, '마르첼': 7722, '이탈리아요리': 7723, '캠': 7724, '패인': 7725, '광화문': 7726, '일대': 7727, '세모': 7728, '과채': 7729, '강화': 7730, '가집': 7731, '탈무드': 7732, '복층': 7733, '건더': 7734, '아리다': 7735, '슬로베니아': 7736, '성채': 7737, '질소': 7738, '통가': 7739, '오도': 7740, '범죄예방': 7741, '평': 7742, '종파': 7743, '분야': 7744, '약육강식': 7745, '깃펜': 7746, '기후': 7747, '그겨울': 7748, '제스처': 7749, '하디': 7750, '준물빛': 7751, '카운슬링': 7752, '지방선거': 7753, '판티': 7754, '문과': 7755, '실학': 7756, '외식': 7757, '격동': 7758, '채색': 7759, '대동': 7760, '주체': 7761, '샘': 7762, '분비물': 7763, '익스플로러': 7764, '바리공주': 7765, '사망': 7766, '여각': 7767, '배즙': 7768, '피리어드': 7769, '테슬': 7770, '견우직녀': 7771, '양옥': 7772, '툰의읭읭': 7773, '읭고읭': 7774, '아조': 7775, '캣슈': 7776, '호갱': 7777, '빅운스': 7778, '서울역': 7779, '더종': 7780, '의개': 7781, '서포터': 7782, '로소': 7783, '복슬복슬하다': 7784, '신사동': 7785, '가로수길': 7786, '판판': 7787, '입맛': 7788, '화원': 7789, '룡': 7790, '혼술러': 7791, '치자': 7792, '백두산맥': 7793, '만월': 7794, '액막이': 7795, '한자어': 7796, '자게': 7797, '티컵': 7798, '폐기': 7799, '초벌': 7800, '일월': 7801, '작도': 7802, '경비원': 7803, '요도': 7804, '토씨': 7805, '소액': 7806, '호스트': 7807, '이스케이프': 7808, '퀘스트': 7809, '멜랑꼴리': 7810, '배낭여행': 7811, '모니터': 7812, '튀어나오다': 7813, '렌징페이셜클렌': 7814, '집종': 7815, '스파이더': 7816, '입술': 7817, '다키마쿠라': 7818, '음치': 7819, '명창': 7820, '디게': 7821, '임마': 7822, '티니': 7823, '염증': 7824, '비번': 7825, '실력': 7826, '전술': 7827, '나폴레옹': 7828, '조세핀': 7829, '북극권': 7830, '베트남전쟁': 7831, '하모니': 7832, '잔광': 7833, '중편소설': 7834, '익스': 7835, '심비': 7836, '남여': 7837, '문신': 7838, '오구오구': 7839, '천진난만하다': 7840, '케스': 7841, '접이식': 7842, '밤토리': 7843, '직딩': 7844, '우노': 7845, '낙서장': 7846, '또바기': 7847, '독후감': 7848, '실켓': 7849, '다이아나': 7850, '암시': 7851, '탄수': 7852, '팥차': 7853, '웨딩홀': 7854, '이화장': 7855, '자축': 7856, '인간실격': 7857, '다자': 7858, '사무': 7859, '길쭉하다': 7860, '남모': 7861, '른': 7862, '여대생': 7863, '진아씨': 7864, '남대생': 7865, '소복': 7866, '홀리': 7867, '크리피파스타': 7868, '탱자': 7869, '루퍼': 7870, '푸시': 7871, '노트북컴퓨터': 7872, '아스': 7873, '퍼거': 7874, '상륙작전': 7875, '패스트푸드': 7876, '포커스': 7877, '인양': 7878, '데리': 7879, '친족': 7880, '수기': 7881, '집아': 7882, '무도': 7883, '의일년': 7884, '효소': 7885, '사분': 7886, '일봄편': 7887, '컴필릿': 7888, '휴지통': 7889, '애비뉴': 7890, '단군신화': 7891, '커플사진': 7892, '물찍': 7893, '년호': 7894, '걸리버': 7895, '월배': 7896, '신혼': 7897, '반중력': 7898, '잘라먹다': 7899, '다독': 7900, '드러머': 7901, '드럼': 7902, '상단': 7903, '르포': 7904, '나이팅게일': 7905, '래브라도': 7906, '꺼풀': 7907, '벗기다': 7908, '문득': 7909, '왁': 7910, '마르크': 7911, '안마': 7912, '티외': 7913, '데생': 7914, '돋보기': 7915, '도박장': 7916, '비나리': 7917, '악착': 7918, '병과': 7919, '돔': 7920, '본능': 7921, '한인식': 7922, '돌이키다': 7923, '월넛': 7924, '집게': 7925, '용이하다': 7926, '현명하다': 7927, '머브': 7928, '로딩': 7929, '비대': 7930, '달열': 7931, '닷새': 7932, '석굴암': 7933, '퀼리티꽃': 7934, '항만': 7935, '향해빻': 7936, '향사': 7937, '해수욕장': 7938, '제트': 7939, '라이드': 7940, '샤프': 7941, '직선': 7942, '구성은': 7943, '사이토': 7944, '세포생물학': 7945, '이그': 7946, '백일': 7947, '발신': 7948, '차미리사': 7949, '북백': 7950, '요크': 7951, '비릿': 7952, '독립문': 7953, '컨텐츠': 7954, '어린이집': 7955, '해기': 7956, '사례': 7957, '빼르': 7958, '심각하다': 7959, '해답': 7960, '식품': 7961, '매난국죽': 7962, '사귀다': 7963, '스텝': 7964, '한진': 7965, '친숙하다': 7966, '무속': 7967, '차사': 7968, '구천': 7969, '이슬': 7970, '힌': 7971, '은방울꽃': 7972, '제아': 7973, '베크': 7974, '주블': 7975, '렌드': 7976, '샹티': 7977, '카늘레': 7978, '딜': 7979, '에메랄드': 7980, '헬리': 7981, '릭의퀴': 7982, '문축굿': 7983, '하비': 7984, '더박스': 7985, '네온사인': 7986, '초능력': 7987, '판서': 7988, '예인': 7989, '률': 7990, '유나': 7991, '카드캡터체리': 7992, '클리어': 7993, '편굿': 7994, '뽀짝뽀': 7995, '토심': 7996, '년꽃길': 7997, '수양': 7998, '말타': 7999, '나서다': 8000, '횡단': 8001, '널차': 8002, '동절': 8003, '풍화': 8004, '자라': 8005, '망똘': 8006, '동전지갑': 8007, '노프': 8008, '블럼': 8009, '생활자': 8010, '얼스': 8011, '천안': 8012, '민속학': 8013, '동아리활동': 8014, '당산': 8015, '싕': 8016, '타운': 8017, '싕냥툰': 8018, '재주': 8019, '최': 8020, '지수': 8021, '꽃네': 8022, '지나치다': 8023, '동파': 8024, '벌옷': 8025, '롭티': 8026, '백차': 8027, '트리뷰트': 8028, '데일리시티': 8029, '여학생': 8030, '전염병': 8031, '선거': 8032, '고스트메신저': 8033, '문적': 8034, '픽키': 8035, '계란말이': 8036, '홍대앞': 8037, '에게가': 8038, '마고': 8039, '아이코닉': 8040, '워치': 8041, '커밍아웃': 8042, '포차': 8043, '임의': 8044, '도국': 8045, '에그타르트': 8046, '절영': 8047, '에이지': 8048, '수원': 8049, '와를': 8050, '용톡': 8051, '상콤': 8052, '엠': 8053, '대사수정': 8054, '슾햄': 8055, '남양주': 8056, '면알': 8057, '임박': 8058, '진보': 8059, '정법': 8060, '듭': 8061, '드나들다': 8062, '향돌': 8063, '시사': 8064, '묘차': 8065, '블넥': 8066, '팬지': 8067, '비도': 8068, '공지': 8069, '사이프러스': 8070, '치우다': 8071, '북카페': 8072, '차리다': 8073, '루한': 8074, '바인': 8075, '호선': 8076, '역': 8077, '퀴퍼': 8078, '짧아지다': 8079, '앤제이': 8080, '샹보르성': 8081, '신의손': 8082, '라틴어': 8083, '격언': 8084, '물때': 8085, '뽀송뽀송': 8086, '양치': 8087, '황금비율': 8088, '영덕': 8089, '물회': 8090, '수풀': 8091, '타협': 8092, '복각': 8093, '고깃집': 8094, '베네치아': 8095, '문지르다': 8096, '녹이다': 8097, '팅캔들멜팅': 8098, '솝솝': 8099, '제국': 8100, '불로소득': 8101, '학당': 8102, '후유증': 8103, '과상': 8104, '공동묘지': 8105, '음영': 8106, '리마': 8107, '스마라': 8108, '베들레헴': 8109, '토마스': 8110, '휘목': 8111, '이부자': 8112, '선탠': 8113, '옷워': 8114, '강변': 8115, '유채꽃': 8116, '무속신앙': 8117, '넋두리': 8118, '퇴마': 8119, '녹명': 8120, '당권': 8121, '쉬움': 8122, '갤럭시': 8123, '은하계': 8124, '우주먼지': 8125, '핑거': 8126, '웰필': 8127, '부록': 8128, '하우스쇼': 8129, '램스판': 8130, '부츠': 8131, '의외': 8132, '탕손': 8133, '단정하다': 8134, '오키': 8135, '잿불': 8136, '군단': 8137, '프로키온': 8138, '위나': 8139, '귤알': 8140, '합체': 8141, '몸속': 8142, '씨흙': 8143, '다크나이트': 8144, '수달': 8145, '산천어': 8146, '은근': 8147, '슬쩍': 8148, '샤코': 8149, '사막화': 8150, '야속하다': 8151, '밤쇄': 8152, '강렬하다': 8153, '데끼르데끼르니홍': 8154, '마노': 8155, '높아지다': 8156, '야합': 8157, '레고': 8158, '타자기': 8159, '행실': 8160, '자긍심': 8161, '똘똘': 8162, '방아쇠': 8163, '당기다': 8164, '스투페': 8165, '킹스': 8166, '에브라': 8167, '취준생': 8168, '인취': 8169, '존감': 8170, '마주치다': 8171, '송오': 8172, '매선': 8173, '에로': 8174, '잔망': 8175, '낙원': 8176, '거짓말': 8177, '겹': 8178, '침달': 8179, '인새': 8180, '방향성': 8181, '페이트': 8182, '시상': 8183, '직빵': 8184, '그토록': 8185, '렀던': 8186, '회상': 8187, '스머징': 8188, '대놓고': 8189, '드핸': 8190, '화전': 8191, '카브': 8192, '영원': 8193, '디디다': 8194, '종신': 8195, '신경': 8196, '퐁퐁': 8197, '두두': 8198, '자장자장': 8199, '버둥': 8200, '실물': 8201, '빼빼': 8202, '월병': 8203, '전전': 8204, '태치월렛': 8205, '쟈쟈': 8206, '노출': 8207, '셀카': 8208, '성스럽다': 8209, '카리스마': 8210, '비정': 8211, '더반': 8212, '장모음': 8213, '가만히': 8214, '열댓': 8215, '말문': 8216, '실사판': 8217, '구룡': 8218, '승천': 8219, '기세계': 8220, '진눈깨비': 8221, '불변': 8222, '덕업': 8223, '일치': 8224, '단발': 8225, '깜': 8226, '몽글몽글': 8227, '도백': 8228, '제스카': 8229, '청구야담': 8230, '견문': 8231, '돛': 8232, '메이크': 8233, '베란다': 8234, '변색': 8235, '슬라이드': 8236, '해리포터': 8237, '국장': 8238, '미네': 8239, '일상다반사': 8240, '공연예술': 8241, '리무': 8242, '등화': 8243, '스코틀랜드': 8244, '난감': 8245, '금상첨화': 8246, '삐약이': 8247, '박필규년': 8248, '형체': 8249, '게살': 8250, '국민대': 8251, '국': 8252, '난국': 8253, '견적': 8254, '김철수': 8255, '애티': 8256, '캣블렌딩': 8257, '핸들': 8258, '비데': 8259, '욕심': 8260, '맨땅': 8261, '뽑히다': 8262, '아보카': 8263, '연구원': 8264, '밀리': 8265, '랩더': 8266, '땀멍': 8267, '슬럼': 8268, '대성공': 8269, '보장': 8270, '무쉬': 8271, '패터슨': 8272, '과육': 8273, '프라이트': 8274, '재무제표': 8275, '한종': 8276, '욜': 8277, '장바구니': 8278, '룸앤패': 8279, '시어': 8280, '몰드': 8281, '술라': 8282, '막걸리': 8283, '지니': 8284, '을유': 8285, '강물': 8286, '부스대다': 8287, '강체': 8288, '희미': 8289, '타파': 8290, '지프로': 8291, '도교': 8292, '핸솝': 8293, '디봄': 8294, '여행안내서': 8295, '피비': 8296, '비야': 8297, '브루잉': 8298, '구렁': 8299, '덩덩': 8300, '냥캣': 8301, '학생회장': 8302, '김보미': 8303, '이선': 8304, '경복궁경회루': 8305, '부토': 8306, '들개': 8307, '더하기': 8308, '국유': 8309, '일무': 8310, '칸탈': 8311, '로프': 8312, '트릭': 8313, '어쿠스틱': 8314, '일렉': 8315, '우쿨렐레': 8316, '수정구': 8317, '롤모델': 8318, '돌체토': 8319, '픽폴블': 8320, '털모자': 8321, '탄광': 8322, '망망': 8323, '행동': 8324, '면제': 8325, '과수': 8326, '세로쓰기': 8327, '차안': 8328, '남씨': 8329, '찬드라': 8330, '티뿔': 8331, '빛과': 8332, '오드아이': 8333, '시네마천국': 8334, '인경': 8335, '은장': 8336, '갈치': 8337, '태비': 8338, '점집': 8339, '텔러': 8340, '몽땅': 8341, '중하': 8342, '명언': 8343, '백의': 8344, '사마엘': 8345, '택차': 8346, '노정': 8347, '편의': 8348, '엘라': 8349, '까오': 8350, '로라': 8351, '위키드': 8352, '여성폭력': 8353, '벤틀리': 8354, '훈연': 8355, '파력': 8356, '펌프잇업': 8357, '무겁다': 8358, '콜미': 8359, '식분': 8360, '안주': 8361, '중경삼림': 8362, '페레쿠': 8363, '양탄자': 8364, '에비츄': 8365, '영롱': 8366, '캐럿': 8367, '뮬럿': 8368, '꽉': 8369, '덤': 8370, '프로필사진': 8371, '이루어지다': 8372, '퀼티드패딩': 8373, '난동': 8374, '픽코': 8375, '은비': 8376, '용산': 8377, '전혀': 8378, '침봉': 8379, '책굿': 8380, '좌우명': 8381, '톨드': 8382, '마그마': 8383, '탐험대': 8384, '스코티쉬폴드': 8385, '설계도': 8386, '지문': 8387, '말리다': 8388, '누세': 8389, '바다해': 8390, '수향': 8391, '와글와글': 8392, '낙화': 8393, '재앙': 8394, '신수': 8395, '가우스전자': 8396, '타마': 8397, '라킴': 8398, '아무나': 8399, '폴': 8400, '호랭이': 8401, '후보': 8402, '피쉬': 8403, '꾸덕꾸덕': 8404, '의식': 8405, '탁': 8406, '전직': 8407, '여군': 8408, '군생활': 8409, '이삼': 8410, '사오다': 8411, '현무': 8412, '간도': 8413, '긍심': 8414, '블렌더': 8415, '베니': 8416, '회색곰': 8417, '검정': 8418, '치르다': 8419, '얘': 8420, '우려': 8421, '시타': 8422, '나전': 8423, '스카우트': 8424, '카탈로그': 8425, '튜브': 8426, '짜개': 8427, '와아': 8428, '북셋': 8429, '상지': 8430, '에덴': 8431, '장종': 8432, '인지': 8433, '증기': 8434, '차일': 8435, '특급': 8436, '도청': 8437, '바이스': 8438, '함달': 8439, '헌책방': 8440, '티티': 8441, '최고다': 8442, '격음': 8443, '주권': 8444, '쨘': 8445, '나약하다': 8446, '말괄': 8447, '삐삐': 8448, '디도': 8449, '레알': 8450, '삐지다': 8451, '앉은뱅이': 8452, '혈견': 8453, '추위': 8454, '따끈하다': 8455, '콩찜팩': 8456, '코스타리카': 8457, '캣펫': 8458, '이동': 8459, '전국구': 8460, '다음생': 8461, '끌다': 8462, '가름': 8463, '경제성장': 8464, '박정희': 8465, '케케': 8466, '묵다': 8467, '얼렁': 8468, '똥땅': 8469, '고상점': 8470, '택정': 8471, '오하': 8472, '티틀': 8473, '잠시': 8474, '몽마': 8475, '한글글꼴': 8476, '사용자': 8477, '목적': 8478, '리미트리스': 8479, '배틀필드': 8480, '익스트림': 8481, '할머님': 8482, '아쌈': 8483, '솔티드': 8484, '스테이지': 8485, '블리치': 8486, '지우개': 8487, '년후': 8488, '이제껏': 8489, '티포': 8490, '웹페이지': 8491, '소셜마케팅': 8492, '절차': 8493, '카노': 8494, '의경': 8495, '이야기시리즈': 8496, '드레이핑': 8497, '불땐': 8498, '독일': 8499, '오싹': 8500, '막막하다': 8501, '무심하다': 8502, '집문서': 8503, '앤유': 8504, '세포': 8505, '빅셀': 8506, '얼리다': 8507, '조상': 8508, '헤어스타일': 8509, '마블링': 8510, '방부제': 8511, '채운': 8512, '이영광': 8513, '인성': 8514, '한다인': 8515, '공자': 8516, '다니엘': 8517, '지극히': 8518, '둠칫': 8519, '과회': 8520, '월스트리트': 8521, '블랙먼데이': 8522, '호량전': 8523, '테크': 8524, '택티컬': 8525, '호아킨': 8526, '가짜': 8527, '사기': 8528, '땡땡하다': 8529, '혹등고래': 8530, '서평': 8531, '북스년': 8532, '독회': 8533, '역류': 8534, '필기구': 8535, '추구': 8536, '갈다': 8537, '매틱': 8538, '귓가': 8539, '산세바스티안': 8540, '타파스': 8541, '위의공': 8542, '에스퍼': 8543, '대학가요제': 8544, '반성': 8545, '속죄': 8546, '햄스터': 8547, '헬스클럽': 8548, '해장국': 8549, '문의': 8550, '숭례문': 8551, '일반인': 8552, '씰': 8553, '지하': 8554, '주차장': 8555, '하늘색': 8556, '루미너스': 8557, '지구별': 8558, '박시원': 8559, '핑팡퐁': 8560, '스피어': 8561, '가로': 8562, '기부': 8563, '투리볼': 8564, '내추럴': 8565, '에일': 8566, '관련': 8567, '람빅': 8568, '슛뚜': 8569, '브이': 8570, '무역': 8571, '설산': 8572, 'ㅈㅈㅅㅎ': 8573, '몰입': 8574, '쇼스타코비치': 8575, '증언': 8576, '백석': 8577, '이원': 8578, '객실': 8579, '제이크': 8580, '어드벤처타임': 8581, '발렌타인선물': 8582, '공범': 8583, '서전': 8584, '짬': 8585, '불길하다': 8586, '주치의': 8587, '룸살롱': 8588, '엑': 8589, '선신': 8590, '박싱': 8591, '제이': 8592, '피오': 8593, '상형문자': 8594, '건배': 8595, '점착': 8596, '안온': 8597, '티브': 8598, '불릿펜': 8599, '커프스': 8600, '커피타임': 8601, '생계': 8602, '부양': 8603, '먹이다': 8604, '요동치다': 8605, '위급': 8606, '정세': 8607, '패권': 8608, '경쟁': 8609, '휘트니스클럽': 8610, '촉촉목': 8611, '넘김': 8612, '나주': 8613, '배한': 8614, '조각배': 8615, '배당': 8616, '은월': 8617, '경의': 8618, '평상복': 8619, '오크': 8620, '써머': 8621, '젤라또': 8622, '토탈': 8623, '할당': 8624, '장서': 8625, '소유': 8626, '고클래식': 8627, '다프네': 8628, '제사': 8629, '닌': 8630, '사표': 8631, '반격': 8632, '나빠지다': 8633, '이란': 8634, '화이': 8635, '울긋불긋': 8636, '순삭': 8637, '쿨러': 8638, '다독이다': 8639, '지사': 8640, '준혁': 8641, '우당탕': 8642, '원정': 8643, '곰인형': 8644, '펠트': 8645, '설문조사': 8646, '결과': 8647, '귀신': 8648, '머나멀다': 8649, '꾸밈': 8650, '매입': 8651, '발령': 8652, '카르': 8653, '와우산': 8654, '차이나': 8655, '학대받다': 8656, '발바닥': 8657, '임인': 8658, '남자현': 8659, '교본': 8660, '김상옥': 8661, '가계부': 8662, '살인마': 8663, '가까워지다': 8664, '요리왕비룡': 8665, '주제가': 8666, '비리': 8667, '솜사탕': 8668, '과방': 8669, '목록': 8670, '증보': 8671, '뉴초콜릿': 8672, '데뷔전': 8673, '보다는': 8674, '왈': 8675, '의치': 8676, '비츄': 8677, '그릭': 8678, '요거트': 8679, '요호': 8680, '비너스': 8681, '주먹': 8682, '서론': 8683, '길어지다': 8684, '어댑터': 8685, '상한': 8686, '의거': 8687, '강요': 8688, '엠보싱': 8689, '과학기술대': 8690, '암탉': 8691, '데시': 8692, '버진': 8693, '물어보다': 8694, '탁탁': 8695, '수선': 8696, '뜻': 8697, '생쪽키링': 8698, '최정호': 8699, '문재인': 8700, '달러': 8701, '지폐': 8702, '학행': 8703, '브금': 8704, '기괴하다': 8705, '미궁': 8706, '스테퍼책플': 8707, '드트': 8708, '래커': 8709, '얼른': 8710, '법대': 8711, '불가능하다': 8712, '취준년': 8713, '그림동화': 8714, '동그라미': 8715, '춘삼월': 8716, '아델': 8717, '동양화': 8718, '타임스퀘어': 8719, '평범': 8720, '인돌': 8721, '피나콜라다': 8722, '바구니': 8723, '껄': 8724, '심즈': 8725, '봉사자': 8726, '인수': 8727, '거의': 8728, '구종': 8729, '매그': 8730, '살의': 8731, '스바': 8732, '광부': 8733, '글렌체크': 8734, '모스크바': 8735, '밀턴': 8736, '에릭슨': 8737, '화법': 8738, '형사': 8739, '명예훼손': 8740, '근육': 8741, '군살': 8742, '프리재즈': 8743, '오피': 8744, '뮤트': 8745, '원고': 8746, '전과자': 8747, '항상': 8748, '활짝': 8749, '남용': 8750, '봉기': 8751, '미술사': 8752, '상급': 8753, '스판쿨링': 8754, '다바람': 8755, '잡곡': 8756, '떠보다': 8757, '및외': 8758, '전북': 8759, '밍러': 8760, '빈볼': 8761, '황금별': 8762, '스킨로션': 8763, '성좌': 8764, '아우': 8765, '부럽다': 8766, '아무개': 8767, '얼다': 8768, '글월': 8769, '중요하다': 8770, '단작': 8771, '점핑': 8772, '심쿵하다': 8773, '뽀쟉': 8774, '지네': 8775, '타나': 8776, '보사노바': 8777, '정취': 8778, '꿴옷': 8779, '피타고라스': 8780, '테린느': 8781, '분코': 8782, '엘피': 8783, '회중시계': 8784, '으': 8785, '슴슴': 8786, '카피레프트': 8787, '톨스토이': 8788, '올라타다': 8789, '이레': 8790, '좀별': 8791, '만리': 8792, '친위': 8793, '힐': 8794, '수묵': 8795, '타르': 8796, '말기': 8797, '임종': 8798, '살결': 8799, '리운스': 8800, '빛강': 8801, '양화대교': 8802, '광안대교': 8803, '격투기': 8804, '복싱': 8805, '체육관': 8806, '용어': 8807, '랜더': 8808, '이상지': 8809, '지은': 8810, '도도하다': 8811, '외우다': 8812, '수줍음': 8813, '매출': 8814, '자본': 8815, '미아스': 8816, '꽃꽂이': 8817, '지나': 8818, '삭제': 8819, '선구자': 8820, '물방울': 8821, '달콤쫀득': 8822, '풀리다': 8823, '도키': 8824, '조리': 8825, '보리': 8826, '굴비': 8827, '향신료': 8828, '손김': 8829, '행패': 8830, '쥐꼬': 8831, '갑옷': 8832, '견제': 8833, '보성': 8834, '롯함': 8835, '터별': 8836, '모이': 8837, '힙쌕': 8838, '김정윤': 8839, '신구': 8840, '쌀년': 8841, '드알유북': 8842, '우만': 8843, '장마당': 8844, '렌트': 8845, '레프': 8846, '책꽂이': 8847, '탁월하다': 8848, '뛰어나다': 8849, '마드리드': 8850, '서투르다': 8851, '몽소': 8852, '자꾸': 8853, '작아지다': 8854, '젬톡': 8855, '은한': 8856, '양심': 8857, '다카': 8858, '야스': 8859, '노리': 8860, '냉면': 8861, '마요네즈': 8862, '폴더': 8863, '울새': 8864, '안용복': 8865, '방패연': 8866, '자판기': 8867, '설치': 8868, '코피노': 8869, '플로리스트': 8870, '린산': 8871, '마쉬멜로': 8872, '잔설': 8873, '글로리홀': 8874, '세일': 8875, '반란': 8876, '다단계': 8877, '쥬노': 8878, '지모': 8879, '물통': 8880, '동해': 8881, '울릉도': 8882, '카스': 8883, '로커': 8884, '진귀': 8885, '비원': 8886, '섹시': 8887, '보이저': 8888, '호핀': 8889, '퓨마': 8890, '뽀롱': 8891, '또박또박': 8892, '반듯하다': 8893, '하이': 8894, '소란하다': 8895, '케리': 8896, '원산지': 8897, '격식': 8898, '예복': 8899, '머시': 8900, '그래픽디자인': 8901, '포터블': 8902, '보스턴': 8903, '비단길': 8904, '조의': 8905, '지엔': 8906, '느': 8907, '디폴트': 8908, '간신히': 8909, '마진': 8910, '린스': 8911, '의정': 8912, '조색': 8913, '결심': 8914, '교수': 8915, '셀룰로오스': 8916, '민재': 8917, '장차': 8918, '록조': 8919, '어젯밤': 8920, '새김': 8921, '꿈일기': 8922, '하고많다': 8923, '영토': 8924, '심쿵': 8925, '토미카': 8926, '쓱': 8927, '비염': 8928, '완화': 8929, '제프': 8930, '트루': 8931, '몬드캐럿큐몬드': 8932, '도시공학': 8933, '박사': 8934, '홈스쿨링': 8935, '하향': 8936, '무술': 8937, '파라노이아': 8938, '시오': 8939, '갈수': 8940, '비숑': 8941, '정보': 8942, '화학': 8943, '부연': 8944, '베켓': 8945, '집안': 8946, '가훈': 8947, '딱하다': 8948, '마담땡': 8949, '사랑방': 8950, '대학로': 8951, '양해': 8952, '우승': 8953, '설향': 8954, '성능': 8955, '청소기': 8956, '허밍': 8957, '벌꿀': 8958, '인극': 8959, '관통': 8960, '아이젠': 8961, '거대': 8962, '꽁치': 8963, '뽀작뽀': 8964, '전세계약': 8965, '지체': 8966, '크리스트': 8967, '씬스틸러': 8968, '오니기리': 8969, '터종및': 8970, '각가지': 8971, '그네': 8972, '올망졸망': 8973, '어느새다': 8974, '수명': 8975, '그래도좋아': 8976, '개사': 8977, '컨피덴셜': 8978, '슈시': 8979, '스템': 8980, '일비': 8981, '방생': 8982, '자국': 8983, '외설': 8984, '부적절하다': 8985, '부도덕하다': 8986, '디센트': 8987, '야수': 8988, '볼륨': 8989, '가부': 8990, '반대편': 8991, '조각모음': 8992, '퍼짓': 8993, '대비': 8994, '온스': 8995, '낫패딩': 8996, '블립': 8997, '아이즈': 8998, '화환': 8999, '올려놓다': 9000, '북홀더': 9001, '휘감다': 9002, '요한': 9003, '폭풍': 9004, '헬터스켈터': 9005, '파란색': 9006, '가문비나무': 9007, '집콕투잡': 9008, '투잡투': 9009, '날아오르다': 9010, '네비게이션': 9011, '퍼슨': 9012, '레스트': 9013, '실로': 9014, '신도시': 9015, '신인': 9016, '수천': 9017, '용성': 9018, '김일성': 9019, '매그놀리아': 9020, '차향빛': 9021, '농': 9022, '도발': 9023, '획기': 9024, '견고하다': 9025, '신속하다': 9026, '틱택토': 9027, '스케이프고트': 9028, '풀셋': 9029, '진유': 9030, '전시관': 9031, '유쾌': 9032, '상쾌': 9033, '통쾌하다': 9034, '머스터드': 9035, '기프트': 9036, '개구리': 9037, '막장': 9038, '소자': 9039, '활기차다': 9040, '펜션': 9041, '아침식사': 9042, '동인게임': 9043, '제우스': 9044, '인부': 9045, '뚝뚝': 9046, '김태균': 9047, '자동차극장': 9048, '박지연': 9049, '징굿': 9050, '조건': 9051, '어휘': 9052, '학습만화': 9053, '증강현실': 9054, '마술사': 9055, '아예': 9056, '모리안': 9057, '하루살이': 9058, '메타': 9059, '새앙쥐': 9060, '라소': 9061, '이빈': 9062, '복리': 9063, '곡선': 9064, '도포': 9065, '노닥노닥': 9066, '지켜보다': 9067, '트롤': 9068, '쾌적하다': 9069, '박람회': 9070, '스킨십': 9071, '부라': 9072, '미싱': 9073, '판틴': 9074, '가추': 9075, '코듀': 9076, '릴': 9077, '렉스': 9078, '에드': 9079, '짚업': 9080, '배구': 9081, '아이브': 9082, '신야구': 9083, '스타디움': 9084, '매니저': 9085, '성작': 9086, '애프터': 9087, '센티': 9088, '황정은': 9089, '전지': 9090, '시점': 9091, '목별': 9092, '모듈': 9093, '독소': 9094, '뉵몬': 9095, '빨': 9096, '깜찍': 9097, '행복찾기': 9098, '곳향': 9099, '릉콘': 9100, '생산비': 9101, '주류': 9102, '비공식': 9103, '흰족제비': 9104, '인복': 9105, '마니아': 9106, '올라프': 9107, '혀끝': 9108, '맴돌다': 9109, '말나': 9110, '액션피규어': 9111, '드래그웰': 9112, '록스': 9113, '써니': 9114, '넘버': 9115, '안구건조증': 9116, '코기': 9117, '브라운': 9118, '구급대원': 9119, '구급': 9120, '서고': 9121, '성취향': 9122, '길티': 9123, '하늘높이': 9124, '쾌': 9125, '변발': 9126, '충주': 9127, '하바': 9128, '븐숭': 9129, '니콜라스': 9130, '요새': 9131, '듀오': 9132, '웹드': 9133, '놈굿': 9134, '임택': 9135, '하늬': 9136, '앞섶': 9137, '마녹집업': 9138, '나이트가운': 9139, '비기닝': 9140, '셀러': 9141, '쉐이크': 9142, '실의': 9143, '외치': 9144, '광야': 9145, '이육사': 9146, '집카': 9147, '데바': 9148, '리가': 9149, '자라나다': 9150, '다담': 9151, '역마': 9152, '보라보라': 9153, '안데스': 9154, '신해철': 9155, '서류': 9156, '사망진단서': 9157, '스위티': 9158, '제스': 9159, '세드릭': 9160, '롤레': 9161, '다말': 9162, '밸런스': 9163, '템귤': 9164, '자생': 9165, '국회의원': 9166, '박주민': 9167, '북괴': 9168, '국고': 9169, '유의': 9170, '스톡옵션': 9171, '일곱개': 9172, '원호': 9173, '더데': 9174, '코레아': 9175, '태고': 9176, '빙편': 9177, '명문': 9178, '중딩': 9179, '쫌': 9180, '스팽': 9181, '거절': 9182, '욱일기': 9183, '웰컴': 9184, '비중': 9185, '츄어블': 9186, '철분': 9187, '보충': 9188, '달마': 9189, '차차차': 9190, '이벤트': 9191, '아레나': 9192, '검투사': 9193, '목공': 9194, '알고싶다': 9195, '진무': 9196, '드창': 9197, '전복': 9198, '띠부띠부씰': 9199, '어스아워': 9200, '일초': 9201, '가르다': 9202, '스트리트': 9203, '진짜진짜': 9204, '연남': 9205, '마리노': 9206, '크리스마스이브': 9207, '댜옹': 9208, '옐로': 9209, '전진희': 9210, '어디가': 9211, '친분': 9212, '보라색': 9213, '중국드라마': 9214, '깊은밤을날아서': 9215, '마스터즈': 9216, '배틀': 9217, '쥬비': 9218, '김남팬': 9219, '꾸르': 9220, '대칭': 9221, '게임상': 9222, '인들': 9223, '넥슨': 9224, '팬아트': 9225, '젠더리스': 9226, '또다시': 9227, '필기': 9228, '묵음': 9229, '무의식': 9230, '셀렉': 9231, '경사지다': 9232, '제도': 9233, '백과전서': 9234, '판집': 9235, '전권': 9236, '이벽': 9237, '아전': 9238, '부시': 9239, '만추': 9240, '버는세팅': 9241, '안함': 9242, '월계관': 9243, '가시다': 9244, '올림픽': 9245, '장원': 9246, '반년': 9247, '혼족': 9248, '샬로믹': 9249, '사진기': 9250, '스타일북': 9251, '괄사': 9252, '이에요': 9253, '역다': 9254, '헬렌': 9255, '최솔': 9256, '마말랭': 9257, '숨쉬기': 9258, '벗다': 9259, '미묘하다': 9260, '행정': 9261, '야학': 9262, '신록': 9263, '아까시나무': 9264, '김은성': 9265, '얘기': 9266, '자시': 9267, '코피': 9268, '눌앞': 9269, '후크': 9270, '교복': 9271, '옥스퍼드': 9272, '이어도': 9273, '찌발': 9274, '시문': 9275, '디스플레이': 9276, '밈': 9277, '곤란하다': 9278, '에티켓': 9279, '끊다': 9280, '생전': 9281, '보온': 9282, '임진왜란': 9283, '임진': 9284, '쫑구': 9285, '묘비': 9286, '물론': 9287, '보송하다': 9288, '글공부': 9289, '루베': 9290, '티아': 9291, '토르': 9292, '와코': 9293, '숏': 9294, '미스틱': 9295, '납치사건': 9296, '전말': 9297, '인페르노': 9298, '끊임없다': 9299, '손소독제': 9300, '그라인더': 9301, '톤톤': 9302, '전통문화': 9303, '돗': 9304, '가비': 9305, '도안': 9306, '버씰': 9307, '부케': 9308, '어쩌다가': 9309, '불온서적': 9310, '아랍': 9311, '틈문': 9312, '킹책': 9313, '넘어서다': 9314, '팥': 9315, '보냉': 9316, '강유': 9317, '중학생': 9318, '오류': 9319, '룸패': 9320, '브릭스': 9321, '어비스': 9322, '이하나': 9323, '톤종': 9324, '정유년': 9325, '망토': 9326, '권태기': 9327, '씌우개': 9328, '바탕': 9329, '굴림': 9330, '일자': 9331, '툴굿': 9332, '윷판': 9333, '윷보': 9334, '피디': 9335, '기웃': 9336, '직원': 9337, '하이틴스타': 9338, '이후': 9339, '버니': 9340, '앞뒤': 9341, '동동': 9342, '라오스': 9343, '엥': 9344, '노량진': 9345, '펢': 9346, '대망': 9347, '허수아비': 9348, '뭐해': 9349, '아마도': 9350, '이겠다': 9351, '탄막슈팅': 9352, '북굿': 9353, '귀순': 9354, '독파': 9355, '키다리': 9356, '니코니': 9357, '화공': 9358, '휴먼': 9359, '알러지': 9360, '골동': 9361, '블라디': 9362, '파티셰': 9363, '야옹이': 9364, '주문진': 9365, '강인': 9366, '싱글앨범': 9367, '연잎밥': 9368, '휙': 9369, '은별': 9370, '스럽다': 9371, '호로': 9372, '서림': 9373, '뿌까': 9374, '개수': 9375, '라이브러리': 9376, '맨부커상': 9377, '셀': 9378, '농축': 9379, '책포츄': 9380, '온돌': 9381, '운석': 9382, '승만': 9383, '추워지다': 9384, '채색화': 9385, '공모전': 9386, '수상자': 9387, '이집': 9388, '날홈': 9389, '다식': 9390, '해빙': 9391, '아이덴티티': 9392, '어나더': 9393, '킥': 9394, '로저스': 9395, '용어사전': 9396, '모의고사': 9397, '이면': 9398, '광촉매': 9399, '폐렴': 9400, '도대체': 9401, '우치': 9402, '천연물': 9403, '효자손': 9404, '이르샤': 9405, '벽면': 9406, '더웜카인드': 9407, '무인도': 9408, '서준이': 9409, '가필': 9410, '독서자': 9411, '네이비': 9412, '기술자': 9413, '기계설계': 9414, '엔지니어': 9415, '필립': 9416, '글래스': 9417, '재난': 9418, '글잔': 9419, '팬암': 9420, '강하': 9421, '숩': 9422, '룬더': 9423, '더러': 9424, '룩킨': 9425, '때뭐': 9426, '미니게임': 9427, '탱글탱글': 9428, '곤약': 9429, '페이보릿': 9430, '채팅': 9431, '트립': 9432, '동물학대': 9433, '크라인': 9434, '블랙원피스': 9435, '수상하다': 9436, '구운몽': 9437, '호또': 9438, '백구십칠': 9439, '페이': 9440, '지나다': 9441, '커서': 9442, '가불': 9443, '안데르센': 9444, '눈의여왕': 9445, '평창': 9446, '대현': 9447, '구리': 9448, '봄옷': 9449, '고무줄': 9450, '토시': 9451, '자캐': 9452, '마구로': 9453, '컬굿': 9454, '성벽': 9455, '실명': 9456, '비극': 9457, '무진': 9458, '불신': 9459, '봄나물': 9460, '뿌랭': 9461, '로드킬': 9462, '툼': 9463, '덕해': 9464, '앞길': 9465, '굿베딩': 9466, '침구': 9467, '동방프로젝트': 9468, '분천역': 9469, '이개': 9470, '스크림': 9471, '월미도': 9472, '놀이기구': 9473, '대초': 9474, '코프': 9475, '지희': 9476, '허상': 9477, '아트웍': 9478, '놔두다': 9479, '아화': 9480, '딸김': 9481, '불과': 9482, '혼식': 9483, '이탈리안': 9484, '완만': 9485, '한형': 9486, '구릉': 9487, '가누다': 9488, '지진': 9489, '크랙': 9490, '귀촌': 9491, '편지함': 9492, '다주': 9493, '밸런타인': 9494, '딱지': 9495, '시베리아': 9496, '부업': 9497, '토찌': 9498, '머스트': 9499, '식약처': 9500, '인증': 9501, '제피': 9502, '그대이름은장미': 9503, '내주': 9504, '허송': 9505, '부각': 9506, '슈콩드슈': 9507, '주차': 9508, '모놀로그': 9509, '중심': 9510, '익히다': 9511, '미나': 9512, '짝애옹': 9513, '코랄': 9514, '주의자': 9515, '팬던트안': 9516, '밀크셰이크': 9517, '산창': 9518, '더테': 9519, '오래전': 9520, '알려지다': 9521, '책빛': 9522, '노천명': 9523, '계곡': 9524, '리기': 9525, '벌이다': 9526, '식음': 9527, '보늬밤': 9528, '조림': 9529, '맛밤': 9530, '채비': 9531, '외치다': 9532, '도마': 9533, '치인': 9534, '지지율': 9535, '몽당연필': 9536, '폰느': 9537, '누리다': 9538, '윤슬': 9539, '미용실': 9540, '오소영': 9541, '망원': 9542, '사르다': 9543, '지리산': 9544, '둘레길': 9545, '지정': 9546, '젠터': 9547, '살글': 9548, '미란다': 9549, '어덜트': 9550, '모험소설': 9551, '트랩': 9552, '인물사전': 9553, '쉐설캅': 9554, '결혼식': 9555, '오드리': 9556, '모바일미': 9557, '한별': 9558, '문해': 9559, '편도': 9560, '신천지': 9561, '대년': 9562, '무색': 9563, '소무': 9564, '마일리': 9565, '스파': 9566, '제어': 9567, '용벽': 9568, '계루': 9569, '캄': 9570, '칸': 9571, '새내기': 9572, '인솔': 9573, '피키툰': 9574, '성인': 9575, '밀당': 9576, '핫템': 9577, '컴팩트': 9578, '나연': 9579, '실가': 9580, '히말라야': 9581, '레아': 9582, '레토': 9583, '론': 9584, '솔비': 9585, '투르': 9586, '암불란': 9587, '국보': 9588, '호의': 9589, '참외': 9590, '단향': 9591, '란탄': 9592, '단둘': 9593, '오붓하다': 9594, '러부': 9595, '배경미': 9596, '도련님': 9597, '장본': 9598, '애정': 9599, '풀밭': 9600, '스프링': 9601, '맨발': 9602, '호두': 9603, '파이': 9604, '쭉': 9605, '베르크': 9606, '꽃해': 9607, '어화': 9608, '토바고': 9609, '넓이': 9610, '박씨': 9611, '무덤': 9612, '밀물': 9613, '밀려오다': 9614, '달밀밀': 9615, '부작': 9616, '살아오다': 9617, '한명숙': 9618, '애비': 9619, '소꿉친구': 9620, '좋아지다': 9621, '임강': 9622, '원더우먼': 9623, '평지': 9624, '교': 9625, '차창': 9626, '휘목집': 9627, '옐로우': 9628, '오로지': 9629, '한슬기': 9630, '만렙': 9631, '황야': 9632, '모씨': 9633, '짜증나다': 9634, '카이사르': 9635, '종족': 9636, '이몽': 9637, '명달': 9638, '거닐다': 9639, '걸상': 9640, '후숙': 9641, '완숙': 9642, '머스켓': 9643, '박규': 9644, '십이지신': 9645, '폴리스': 9646, '교열': 9647, '다듬다': 9648, '만화카페': 9649, '튜닉': 9650, '어블랭크노웻': 9651, '코스모스': 9652, '슈퍼스타': 9653, '청귤칩청귤청': 9654, '레이크': 9655, '부럼': 9656, '정월': 9657, '수비대': 9658, '의용': 9659, '룡보': 9660, '백귀야행': 9661, '움치다': 9662, '블렌딩페레쿠': 9663, '수험생': 9664, '편안': 9665, '승강기': 9666, '인티파다': 9667, '팔레스타인': 9668, '신궁': 9669, '영지': 9670, '둘레': 9671, '페이스북': 9672, '운영자': 9673, '고투': 9674, '불릿': 9675, '안내견': 9676, '예술인': 9677, '문서': 9678, '문방사우': 9679, '집쇄': 9680, '구분': 9681, '양재': 9682, '캣맘': 9683, '나영': 9684, '모던패밀리': 9685, '훗날': 9686, '갑순': 9687, '시니어': 9688, '동물병원': 9689, '교차점': 9690, '인상파': 9691, '빠레': 9692, '태스': 9693, '어사': 9694, '이완': 9695, '월세': 9696, '샤무': 9697, '답변': 9698, '정세랑': 9699, '개벽': 9700, '마중': 9701, '안경닦이': 9702, '로마신화': 9703, '기하': 9704, '커피메이커': 9705, '데우다': 9706, '웰빙': 9707, '식초': 9708, '유산균': 9709, '지지말아요': 9710, '캠프파이어': 9711, '곧': 9712, '채식요리': 9713, '씨잘': 9714, '충남': 9715, '금계': 9716, '분교': 9717, '국군': 9718, '노묘': 9719, '율': 9720, '율운': 9721, '류지': 9722, '열기구': 9723, '벌룬': 9724, '잡스': 9725, '매우': 9726, '꽈배기': 9727, '깨뜨리다': 9728, '마벨': 9729, '발목': 9730, '팔로마': 9731, '짜장면': 9732, '중화요리': 9733, '드리머': 9734, '콘서트장': 9735, '죽장': 9736, '쉴드': 9737, '향낭': 9738, '데리다': 9739, '참마': 9740, '젠틀맨': 9741, '레이디': 9742, '이보': 9743, '미군기지': 9744, '리창': 9745, '적룡': 9746, '지하방': 9747, '호톱': 9748, '라이트닝': 9749, '음력': 9750, '빵터지다': 9751, '어프': 9752, '르망': 9753, '롤링': 9754, '물티슈': 9755, '송진': 9756, '베짱이': 9757, '한나연': 9758, '뎃': 9759, '손님': 9760, '엉터리': 9761, '넘기다': 9762, '민중': 9763, '의적': 9764, '치매': 9765, '굶주리다': 9766, '끼니': 9767, '평집': 9768, '마라톤': 9769, '글로벌': 9770, '엣시': 9771, '집사람': 9772, '문학작품': 9773, '판지': 9774, '노가다': 9775, '랙티브': 9776, '대시보드': 9777, '병실': 9778, '수술실': 9779, '팔레': 9780, '뉴얼': 9781, '고수마니': 9782, '랏': 9783, '성장하다': 9784, '조언': 9785, '핸디북출': 9786, '닭갈비': 9787, '막국수': 9788, '프로세스': 9789, '평행우주': 9790, '신하': 9791, '배우는사람': 9792, '판소리': 9793, '김성찬': 9794, '남극': 9795, '한지혜': 9796, '오슬로': 9797, '동짓달': 9798, '동치미': 9799, '호몸': 9800, '개츠비': 9801, '나란하다': 9802, '트리플': 9803, '스크루': 9804, '보수': 9805, '수파사이즈': 9806, '얼마나': 9807, '년차컷': 9808, '차원': 9809, '월향': 9810, '하이브리드': 9811, '휴양지': 9812, '렛햇': 9813, '특기': 9814, '빈민가': 9815, '종강': 9816, '산간': 9817, '공터': 9818, '무리': 9819, '폴리': 9820, '티컬': 9821, '앞바다': 9822, '별미': 9823, '싱싱하다': 9824, '우회': 9825, '년생': 9826, '콘': 9827, '건국': 9828, '중앙': 9829, '건대': 9830, '베니스': 9831, '가난하다': 9832, '모시': 9833, '밤웰': 9834, '나잇': 9835, '막히다': 9836, '장핀': 9837, '대광고': 9838, '광끼': 9839, '세미콜론': 9840, '산부인과': 9841, '병사': 9842, '친일': 9843, '북유럽': 9844, '캠핑장': 9845, '웬즈데이': 9846, '영원한봄': 9847, '롤라': 9848, '지기': 9849, '사고력': 9850, '수식어': 9851, '만물': 9852, '외종': 9853, '북동': 9854, '사진가': 9855, '남자친구': 9856, '거꾸로': 9857, '사소': 9858, '재물': 9859, '운굿': 9860, '트로무드': 9861, '지영': 9862, '울리다': 9863, '교육이야기': 9864, '덕소': 9865, '전풍': 9866, '컵홀더': 9867, '고속도로': 9868, '노리타': 9869, '등심': 9870, '과목': 9871, '수필': 9872, '케찹': 9873, '머스타드': 9874, '초경': 9875, '황도십이궁': 9876, '샤크': 9877, '샥': 9878, '야우리': 9879, '자살클럽': 9880, '잡': 9881, '마티': 9882, '싱숭싱숭': 9883, '펑션렉': 9884, '클립보드': 9885, '애무': 9886, '백답': 9887, '개남굿': 9888, '꼬메잼잼': 9889, '수원화성': 9890, '의지': 9891, '네트워크': 9892, '부담스럽다': 9893, '악필': 9894, '노베': 9895, '나디아': 9896, '볼로스': 9897, '참깨': 9898, '고장': 9899, '칠흑': 9900, '청심': 9901, '영자': 9902, '견성': 9903, '로번': 9904, '땅끝': 9905, '는달': 9906, '바리': 9907, '한강대교': 9908, '한강철교': 9909, '올림픽대로': 9910, '강변북로': 9911, '노들로': 9912, '주거지역': 9913, '클렌징젤잇': 9914, '퍼프': 9915, '드니': 9916, '얏채': 9917, '콘크리트': 9918, '미인도': 9919, '달기': 9920, '밍나': 9921, '무펜': 9922, '입원': 9923, '야심': 9924, '어인': 9925, '일시보호': 9926, '웨스턴': 9927, '바누코': 9928, '김지훈': 9929, '모모': 9930, '밀리터리': 9931, '성년': 9932, '더럽다': 9933, '실제': 9934, '가축': 9935, '나본': 9936, '몇몇': 9937, '저금': 9938, '통종': 9939, '짜지다': 9940, '새우': 9941, '연어': 9942, '동글동글': 9943, '덜다': 9944, '르셍': 9945, '가을로': 9946, '모래시계': 9947, '학강': 9948, '문항': 9949, '합격자': 9950, '소서': 9951, '파노라마': 9952, '맥시멀': 9953, '무궁무진': 9954, '야구장': 9955, '말라위': 9956, '매니': 9957, '가만': 9958, '바냐': 9959, '선향': 9960, '누각': 9961, '컬처': 9962, '죄책감': 9963, '테일': 9964, '떠올리다': 9965, '갱': 9966, '쥬쿠': 9967, '으뜸': 9968, '청소부': 9969, '샤바': 9970, '렁일렁': 9971, '억압': 9972, '수의사': 9973, '이행': 9974, '동학': 9975, '교환학생': 9976, '가루차': 9977, '중복': 9978, '용포': 9979, '공표': 9980, '펢호': 9981, '아침햇살': 9982, '선샤인': 9983, '부에노스아이레스': 9984, '뽀짜툰': 9985, '크로노아': 9986, '목적지': 9987, '그루밍': 9988, '기상': 9989, '코뮤니즘': 9990, '차례': 9991, '겨울비': 9992, '빈자리': 9993, '바삭바삭': 9994, '마법의성': 9995, '배척': 9996, '고함': 9997, '지하련': 9998, '최저': 9999, '시급': 10000, '주간지': 10001, '수습': 10002, '뿌리': 10003, '약초': 10004, '바이애슬론': 10005, '마치': 10006, '투구': 10007, '최후': 10008, '사모님': 10009, '롤벨': 10010, '호소': 10011, '애뽈숲': 10012, '레지나': 10013, '국악기': 10014, '기별': 10015, '불물': 10016, '원소': 10017, '키덜트': 10018, '어문': 10019, '스펙': 10020, '나니': 10021, '태관': 10022, '유고': 10023, '로서': 10024, '적응하다': 10025, '친근하다': 10026, '괴테': 10027, '릴케': 10028, '니체': 10029, '웽': 10030, '스냅백': 10031, '즈그': 10032, '자음': 10033, '대통령선거': 10034, '영월': 10035, '배심원': 10036, '화산': 10037, '대림': 10038, '환호': 10039, '글리치': 10040, '엑스': 10041, '율곡': 10042, '소란': 10043, '호꿈': 10044, '다락방': 10045, '윤수지': 10046, '마법소녀': 10047, '시나': 10048, '나린': 10049, '패럴': 10050, '개값': 10051, '불과하다': 10052, '근로기준법': 10053, '체적': 10054, '성문': 10055, '틴바': 10056, '굴레': 10057, '갇히다': 10058, '유토피아': 10059, '홍월': 10060, '양으로': 10061, '네잎클로버': 10062, '집지': 10063, '동작구': 10064, '인문학': 10065, '지지혜': 10066, '잘나가다': 10067, '꼬까': 10068, '기장': 10069, '에이프런': 10070, '양치질': 10071, '고가': 10072, '컨트리': 10073, '김승신': 10074, '랜': 10075, '묘진': 10076, '유작': 10077, '몽마르트르': 10078, '프레지던트': 10079, '근본': 10080, '갈리아': 10081, '워마드': 10082, '박경': 10083, '노인학': 10084, '소멸하다': 10085, '전함': 10086, '부과': 10087, '땀키투': 10088, '이하': 10089, '일베': 10090, '뽀슈': 10091, '싱글맘': 10092, '저런': 10093, '네일아트': 10094, '흩어지다': 10095, '꽃다발': 10096, '만유': 10097, '빡': 10098, '연성': 10099, '깔리다': 10100, '브로콜리너마저': 10101, '어떻': 10102, '뭐라다': 10103, '다리미': 10104, '런너': 10105, '테일즈런너': 10106, '트레이닝복': 10107, '설중매': 10108, '열권': 10109, '끝말잇기': 10110, '결혼식장': 10111, '경조사배': 10112, '강력': 10113, '헝가리': 10114, '민들레': 10115, '아기씨': 10116, '저렴하다': 10117, '운돈': 10118, '쓰개': 10119, '노숙인': 10120, '상주': 10121, '화이팅': 10122, '지워지다': 10123, '인재': 10124, '긔': 10125, '가버리다': 10126, '린다': 10127, '진패': 10128, '통꽃': 10129, '분홍색': 10130, '쟁달전헬스루': 10131, '색욕': 10132, '자식': 10133, '책뮤': 10134, '지엄': 10135, '현대어': 10136, '담담하다': 10137, '구보': 10138, '자넷': 10139, '이사': 10140, 'ㅇㅇㅇ': 10141, '컨퍼런스': 10142, '군형법': 10143, '아스트롤라베': 10144, '길가': 10145, '전부': 10146, '오디오북': 10147, '철장': 10148, '아워스': 10149, '성신여대': 10150, '저년': 10151, '우피': 10152, '치과학': 10153, '편백나무': 10154, '건조대': 10155, '양과동': 10156, '가호': 10157, '옷셋트': 10158, '월남전': 10159, '떠나가다': 10160, '백일홍': 10161, '축데드풀': 10162, '데드풀': 10163, '로리': 10164, '더양': 10165, '템종': 10166, '갑자기': 10167, '취소': 10168, '임산부': 10169, '바이오': 10170, '전회': 10171, '플렉스': 10172, '채용': 10173, '사단': 10174, '키프로스': 10175, '갈라테이아': 10176, '아틀리에': 10177, '워밍': 10178, '장방': 10179, '경복': 10180, '선술집': 10181, '송창식': 10182, '송북': 10183, '핏툴킷': 10184, '틀루': 10185, '오기': 10186, '레스티드': 10187, '돌려주다': 10188, '드림랜드': 10189, '설현': 10190, '가스등': 10191, '감추다': 10192, '낙서': 10193, '입가': 10194, '끌어내리다': 10195, '블렌드': 10196, '성년의날': 10197, '진정서': 10198, '무자': 10199, '극력': 10200, '몰래': 10201, '곤해': 10202, '간행본': 10203, '별것': 10204, '크랜베리': 10205, '통화': 10206, '도민': 10207, '화조': 10208, '미소녀': 10209, '정신분석': 10210, '임피': 10211, '피숲': 10212, '페르시아': 10213, '보물창고': 10214, '아무래도': 10215, '가교': 10216, '체르니': 10217, '회기동': 10218, '지구온난화': 10219, '책길': 10220, '포항': 10221, '전의': 10222, '동료': 10223, '폭탄': 10224, '귀지': 10225, '데이지꽃': 10226, '행위': 10227, '조사': 10228, '위원회': 10229, '돗자리': 10230, '수상작': 10231, '아든': 10232, '콜레션': 10233, '흙손': 10234, '최소한': 10235, '생태계': 10236, '뀨렘': 10237, '더치커피': 10238, '김영희': 10239, '호실': 10240, '판문점': 10241, '믹스견': 10242, '승부': 10243, '견디다': 10244, '아로마테라피': 10245, '쏙담': 10246, '세시': 10247, '연구실': 10248, '안복진': 10249, '반인반수': 10250, '데이즈': 10251, '레드문': 10252, '후시': 10253, '홀려': 10254, '일정': 10255, '다지다': 10256, '투데이': 10257, '포프': 10258, '불평등': 10259, '헛소문': 10260, '세일럼': 10261, '마커': 10262, '북창': 10263, '물레': 10264, '팬데믹': 10265, '거인': 10266, '징후': 10267, '소한': 10268, '꼬순': 10269, '올인': 10270, '난이': 10271, '기세': 10272, '소네트': 10273, '야사': 10274, '장학금': 10275, '협동조합': 10276, '보습': 10277, '쑥': 10278, '봉오동전투': 10279, '홍범도': 10280, '장군': 10281, '끝줄': 10282, '근황': 10283, '대체로': 10284, '하이큐': 10285, '네코마': 10286, '혈구': 10287, '타치': 10288, '시스터': 10289, '쑥부쟁이': 10290, '물올': 10291, '페리': 10292, '순면': 10293, '브루스': 10294, '브라더스': 10295, '금괴': 10296, '상달': 10297, '글딸': 10298, '상파울루': 10299, '컵종': 10300, '맥주잔': 10301, '탄산': 10302, '헬스장': 10303, '간기': 10304, '틈새': 10305, '크라잉넛': 10306, '아벨': 10307, '툭': 10308, '남북': 10309, '코리': 10310, '맨션': 10311, '폭폭': 10312, '민감하다': 10313, '하체': 10314, '근력': 10315, '조청': 10316, '달이다': 10317, '육공': 10318, '간씨': 10319, '발아': 10320, '스테': 10321, '페이지스': 10322, '부치다': 10323, '달문': 10324, '포유': 10325, '슬럿': 10326, '자리다': 10327, '대관': 10328, '댄싱': 10329, '체쯔': 10330, '좌린': 10331, '적막하다': 10332, '굵다': 10333, '페스': 10334, '가오': 10335, '불응기': 10336, '호평': 10337, '행선': 10338, '박건웅': 10339, '권력': 10340, '장개': 10341, '인적': 10342, '서강대': 10343, '테크놀로지': 10344, '월급쟁이': 10345, '신혼부부': 10346, '종잣돈': 10347, '진배': 10348, '포전': 10349, '여름철': 10350, '쿨링': 10351, '쿨링선캡': 10352, '궁극': 10353, '입성': 10354, '드저스터블': 10355, '코햄체마': 10356, '리몬': 10357, '웨딩드레스': 10358, '스쿠버다이버': 10359, '합비': 10360, '수레바퀴': 10361, '선혜': 10362, '위해시': 10363, '류필': 10364, '천장': 10365, '마디나': 10366, '호기': 10367, '개관': 10368, '장자연': 10369, '병맛': 10370, '투병': 10371, '환자': 10372, '사후세계': 10373, '의복': 10374, '고마움': 10375, '가정폭력': 10376, '가해': 10377, '기원': 10378, '뷰파인더': 10379, '리그': 10380, '선라이즈': 10381, '털뿜': 10382, '금조': 10383, '온더': 10384, '까마귀': 10385, '작업시간': 10386, '동덕여대': 10387, '큐레이터': 10388, '관찰자': 10389, '사회주의': 10390, '네이처': 10391, '퓸': 10392, '대거리': 10393, '보육원': 10394, '높이': 10395, '크러쉬': 10396, '테니스': 10397, '유도': 10398, '강박증': 10399, '화초': 10400, '충': 10401, '벽옥': 10402, '위험하다': 10403, '까먹다': 10404, '정신질환': 10405, '쪽글': 10406, '관심사': 10407, '영역': 10408, '우정국': 10409, '널다': 10410, '노잼': 10411, '물빛': 10412, '프로젝터': 10413, '장전': 10414, '빙하': 10415, '허가장': 10416, '박히다': 10417, '사연': 10418, '면허증': 10419, '소지': 10420, '엘리제궁': 10421, '기욤': 10422, '고메즈': 10423, '뛰어넘다': 10424, '생해': 10425, '분석': 10426, '하우스음악': 10427, '임낫': 10428, '숄더랙': 10429, '치이다': 10430, '튼튼하다': 10431, '성매매': 10432, '부방': 10433, '하와': 10434, '태엽': 10435, '작심삼일': 10436, '호사': 10437, '매치': 10438, '복현동': 10439, '기우': 10440, '프로폴리스': 10441, '보컬로이드': 10442, '뱅': 10443, '마루': 10444, '야마': 10445, '아야': 10446, '전광판': 10447, '갈레': 10448, '노이즈': 10449, '텐션': 10450, '버티고': 10451, '두둥실': 10452, '신혼여행': 10453, '보존료': 10454, '고냥이': 10455, '재판소': 10456, '순전하다': 10457, '어기다': 10458, '에밀리': 10459, '디킨슨': 10460, '런치박스': 10461, '루이자': 10462, '밑': 10463, '도색': 10464, '음악당': 10465, '의노': 10466, '방화': 10467, '풀무': 10468, '제리케이': 10469, '아르데코': 10470, '야야': 10471, '제국주의': 10472, '떡살': 10473, '드롭퍼향드롭퍼': 10474, '해인': 10475, '돌잔치': 10476, '핫컵': 10477, '콜드컵': 10478, '발자취': 10479, '득템': 10480, '생명력': 10481, '레몬라임': 10482, '크라임씬': 10483, '다가': 10484, '블러': 10485, '색시': 10486, '봄감': 10487, '수산시장': 10488, '루치': 10489, '눈빛': 10490, '고결하다': 10491, '불가능': 10492, '적군': 10493, '미필': 10494, '필티': 10495, '스코프': 10496, '대강절': 10497, '화산섬': 10498, '번영': 10499, '폴리네시아': 10500, '닥터후': 10501, '산촌': 10502, '매끈하다': 10503, '힐난': 10504, '수치': 10505, '자랑': 10506, '콘돔': 10507, '적정': 10508, '선속': 10509, '양초': 10510, '이아': 10511, '송편': 10512, '리모': 10513, '멜버른': 10514, '외면': 10515, '선감': 10516, '요한복음': 10517, '작동': 10518, '저온': 10519, '장고': 10520, '보통사람': 10521, '퀀트': 10522, '레츠기릿': 10523, '흑백영화': 10524, '도둑고양이': 10525, '근로자': 10526, '욤': 10527, '유치원': 10528, '매콤': 10529, '인빈': 10530, '종로': 10531, '크리처': 10532, '볼로냐': 10533, '협력': 10534, '유희': 10535, '회개': 10536, '처방전': 10537, '유적': 10538, '지구권': 10539, '하늘가재': 10540, '튜드': 10541, '헤비': 10542, '트후디': 10543, '한선': 10544, '아무렇다': 10545, '자중': 10546, '안토시아닌': 10547, '음악비평': 10548, '테로': 10549, '바깥': 10550, '기절': 10551, '창문': 10552, '로젤': 10553, '꿈꽃': 10554, '복덩이': 10555, '그나': 10556, '연고': 10557, '가계': 10558, '속보': 10559, '조르다': 10560, '경동': 10561, '단호': 10562, '단호박': 10563, '밀레': 10564, '중단': 10565, '런스커팅': 10566, '겹옷': 10567, '정수': 10568, '야구': 10569, '베이스볼': 10570, '필리핀': 10571, '얼킨': 10572, '스트리밍': 10573, '고희': 10574, '해돋이': 10575, '휴학': 10576, '훠궈': 10577, '꼬치': 10578, '박쥐': 10579, '쥬드': 10580, '프라이데이': 10581, '둔부': 10582, '재욱': 10583, '뱀부얀': 10584, '버그': 10585, '비지': 10586, '자비': 10587, '나중': 10588, '빼앗기다': 10589, '도루': 10590, '기꺼이': 10591, '가시': 10592, '제풀이': 10593, '아침밥': 10594, '맨손': 10595, '설거지': 10596, '비닐봉지': 10597, '셔너블': 10598, '미라': 10599, '큘러': 10600, '스레이': 10601, '디버그': 10602, '향기도': 10603, '요동': 10604, '한도': 10605, '필링': 10606, '원츄': 10607, '제과': 10608, '김다정': 10609, '은애': 10610, '슬레': 10611, '냐옹': 10612, '피터팬': 10613, '홈스': 10614, '및굿': 10615, '년벽': 10616, '놀리다': 10617, '하티': 10618, '멘델': 10619, '네온': 10620, '토퍼': 10621, '환기': 10622, '타코': 10623, '하편': 10624, '합동': 10625, '비바람': 10626, '자양화': 10627, '오목': 10628, '벌레': 10629, '워너펫': 10630, '해충': 10631, '수정과': 10632, '관람': 10633, '이오카스테': 10634, '허소영': 10635, '노르웨이': 10636, '가신': 10637, '이십': 10638, '수취': 10639, '오밀조밀': 10640, '바느질': 10641, '의중': 10642, '중국집': 10643, '냉감': 10644, '렛에어렛': 10645, '리장': 10646, '가체': 10647, '강인하다': 10648, '설득': 10649, '하고의': 10650, '안목': 10651, '어보': 10652, '와우': 10653, '뾰롱': 10654, '파이널판타지': 10655, '깜냥깜': 10656, '큰일': 10657, '일터': 10658, '축배': 10659, '와는': 10660, '살펴보다': 10661, '인류학': 10662, '슈퍼마켓': 10663, '다양성': 10664, '하나님': 10665, '전라도': 10666, '진샤': 10667, '미치광이': 10668, '디오니소스': 10669, '노후': 10670, '일생': 10671, '앤써': 10672, '벽돌': 10673, '벽난로': 10674, '거창하다': 10675, '적임': 10676, '고호': 10677, '앵': 10678, '븐': 10679, '한총련': 10680, '학생운동': 10681, '웅장': 10682, '후디큐티린굿': 10683, '전라남도': 10684, '가화': 10685, '무반': 10686, '해피엔딩': 10687, '백화현상': 10688, '로빈': 10689, '또는': 10690, '한남동': 10691, '을축': 10692, '다녀오다': 10693, '반도체': 10694, '반올림': 10695, '거티브': 10696, '칸나': 10697, '반갑다': 10698, '머그잔': 10699, '프레이밍': 10700, '비바': 10701, '잉패': 10702, '진달': 10703, '색상환': 10704, '미투데이': 10705, '팸': 10706, '첼로': 10707, '찬송가': 10708, '유학': 10709, '화담': 10710, '프루동': 10711, '입법': 10712, '기업': 10713, '한소리': 10714, '챠밍': 10715, '채집': 10716, '빠뇰': 10717, '악뚜알': 10718, '분위': 10719, '삐실': 10720, '탱탱': 10721, '백서': 10722, '곰키링': 10723, '무적': 10724, '키위새': 10725, '쿵덕': 10726, '큥': 10727, '타이포그라피': 10728, '가나다라': 10729, '미라클': 10730, '앙상블': 10731, '임현정': 10732, '모여들다': 10733, '추상화': 10734, '파울': 10735, '인월': 10736, '존쿡': 10737, '작법': 10738, '삼다': 10739, '방한복': 10740, '참새': 10741, '긱키': 10742, '브래드': 10743, '하와이안셔츠': 10744, '차림': 10745, '모반': 10746, '흘리다': 10747, '달슬': 10748, '무아': 10749, '양종': 10750, '작업실': 10751, '차리기': 10752, '병문안': 10753, '회피': 10754, '치명': 10755, '발칙하다': 10756, '에서라도': 10757, '웨스트': 10758, '뽈랑몰랑삡삡': 10759, '선실': 10760, '라네': 10761, '적국': 10762, '제비': 10763, '봄봄봄': 10764, '알람': 10765, '게스트하우스': 10766, '스폰': 10767, '맡기다': 10768, '단아': 10769, '볶음': 10770, '고추장': 10771, '스콜피온': 10772, '친애하다': 10773, '하마터면': 10774, '당초': 10775, '대규모': 10776, '농경': 10777, '이네': 10778, '클래식기타': 10779, '서퍼': 10780, '가연': 10781, '조선통신사': 10782, '발전': 10783, '통신': 10784, '마미': 10785, '연결': 10786, '보물섬': 10787, '치료받다': 10788, '비우다': 10789, '뒹굴뒹굴': 10790, '과굿': 10791, '맥락': 10792, '크리스천': 10793, '길라잡이': 10794, '품종': 10795, '가능성': 10796, '영전': 10797, '둘째딸': 10798, '정의공주': 10799, '랏말': 10800, '싸': 10801, '톺다': 10802, '할냥': 10803, '경자년': 10804, '이지시': 10805, '밥심': 10806, '맨날': 10807, '북롭끼': 10808, '둘러싸다': 10809, '와리': 10810, '콘테화집': 10811, '밀라노': 10812, '할경': 10813, '제상': 10814, '버터크림': 10815, '갈사': 10816, '회의': 10817, '뛰어들다': 10818, '자연사': 10819, '네컷만화': 10820, '삼초': 10821, '질적': 10822, '생식기': 10823, '검진': 10824, '에지': 10825, '북제주': 10826, '궂': 10827, '화혼': 10828, '볼볼볼': 10829, '웰론롱패딩': 10830, '의병': 10831, '참모': 10832, '중장': 10833, '북변': 10834, '유복': 10835, '브앤굿': 10836, '사냥꾼': 10837, '암기': 10838, '혀암': 10839, '졸업생': 10840, '곰팡이': 10841, '무렵': 10842, '김영': 10843, '냉': 10844, '마름모': 10845, '헌종': 10846, '연구기관': 10847, '고령자': 10848, '젊은이': 10849, '해사': 10850, '느낌표': 10851, '숭숭': 10852, '소룡': 10853, '최신영': 10854, '테크니컬러': 10855, '드링킹': 10856, '밀랍': 10857, '동경': 10858, '간이': 10859, '레고르': 10860, '학기': 10861, '공생': 10862, '비우기': 10863, '곰드': 10864, '주어지다': 10865, '민달팽이': 10866, '록컴': 10867, '보시': 10868, '바이옴': 10869, '더비': 10870, '핏유': 10871, '거제도': 10872, '견생샷': 10873, '지미': 10874, '보름': 10875, '부끄럽다': 10876, '교생': 10877, '성경책': 10878, '공상': 10879, '화나다': 10880, '안성': 10881, '텃골': 10882, '닌텐도': 10883, '스위치': 10884, '인벤': 10885, '그제야': 10886, '클리커': 10887, '지라': 10888, '라지': 10889, '간공': 10890, '목하': 10891, '모루': 10892, '배배꼬': 10893, '쪼꼬': 10894, '단칸': 10895, '아이디': 10896, '썸캣': 10897, '밋웰': 10898, '보이드': 10899, '호어': 10900, '떤다': 10901, '아지트': 10902, '부턴': 10903, '리메이크': 10904, '폭염': 10905, '그리하여': 10906, '전성은': 10907, '에스테': 10908, '뷸러스앰': 10909, '우비': 10910, '연합': 10911, '존앤': 10912, '관동': 10913, '밤내': 10914, '초승달': 10915, '성취': 10916, '청색': 10917, '순정': 10918, '이매진': 10919, '코비': 10920, '혼': 10921, '키트리': 10922, '초인종': 10923, '벌이': 10924, '딴': 10925, '옥상달빛': 10926, '무무': 10927, '오라클': 10928, '충완': 10929, '당면': 10930, '얼얼하다': 10931, '통기타': 10932, '주법': 10933, '워십': 10934, '장미꽃': 10935, '용맹하다': 10936, '후지': 10937, '마비': 10938, '이래': 10939, '영화롭다': 10940, '물약': 10941, '제조법': 10942, '실컷': 10943, '딛다': 10944, '목장': 10945, '점심': 10946, '메뉴': 10947, '북간도': 10948, '십자가': 10949, '순교': 10950, '왜안': 10951, '모피': 10952, '활동가': 10953, '승은': 10954, '포복': 10955, '절도': 10956, '황당': 10957, '액숀': 10958, '변': 10959, '빌어': 10960, '양지은': 10961, '판포': 10962, '숫자': 10963, '적응': 10964, '사천': 10965, '선인': 10966, '보더': 10967, '잡담': 10968, '재산': 10969, '혼잣말': 10970, '한지민': 10971, '유한': 10972, '돌김': 10973, '서울대학교': 10974, '회제': 10975, '록키': 10976, '박멸': 10977, '원조': 10978, '감시': 10979, '뒷마당': 10980, '여주': 10981, '가출': 10982, '참으로': 10983, '헤르메스': 10984, '가노': 10985, '정주': 10986, '최첨단': 10987, '선글라스': 10988, '스팟': 10989, '슬릭': 10990, '글램': 10991, '굴드': 10992, '레레': 10993, '통방': 10994, '곶감': 10995, '검은색': 10996, '새봄': 10997, '시퀀스': 10998, '장패': 10999, '임동현': 11000, '나누기': 11001, '방수호': 11002, '임명': 11003, '케무드': 11004, '부지런하다': 11005, '해태': 11006, '국수호': 11007, '차량': 11008, '연대기': 11009, '죽지': 11010, '코믹콘': 11011, '언타이틀': 11012, '교제': 11013, '명산': 11014, '선수단': 11015, '험담': 11016, '달그락': 11017, '군밤': 11018, '소동': 11019, '피독': 11020, '파두': 11021, '럭키': 11022, '수혈': 11023, '모빌리티': 11024, '메신저백': 11025, '현판': 11026, '해롭다': 11027, '수복': 11028, '강녕': 11029, '와로': 11030, '애유': 11031, '뭉치': 11032, '오리너구리': 11033, '동물권': 11034, '초집': 11035, '은색': 11036, '족자': 11037, '캄보디아': 11038, '크메르': 11039, '창의력': 11040, '호비다': 11041, '트릴로지': 11042, '의연': 11043, '낭독': 11044, '부대': 11045, '동물실험': 11046, '이민지': 11047, '고스트': 11048, '모션': 11049, '우주여행': 11050, '발사': 11051, '평양': 11052, '충청도': 11053, '아카펠라': 11054, '걸그룹': 11055, '훈자': 11056, '쌀롱': 11057, '재불': 11058, '잠기': 11059, '정다이': 11060, '정서윤': 11061, '김도균': 11062, '수로': 11063, '탈환': 11064, '소인수분해': 11065, '소수': 11066, '기사단': 11067, '공학자': 11068, '우연히': 11069, '꼴': 11070, '전분': 11071, '킬드': 11072, '조차': 11073, '위자드': 11074, '누트': 11075, '아우라': 11076, '바르셀로나': 11077, '시도': 11078, '그라스': 11079, '콤포넌트': 11080, '유학생': 11081, '놀이동산': 11082, '고재': 11083, '것호': 11084, '집낫쿨': 11085, '유개': 11086, '교재': 11087, '찍': 11088, '불량': 11089, '첫여름': 11090, '제과점': 11091, '인연': 11092, '밀러': 11093, '뮤지컬영화': 11094, '장마': 11095, '운빨': 11096, '룰루': 11097, '퐁신퐁신솜뭉': 11098, '모범': 11099, '코딱지': 11100, '챔프': 11101, '사빠': 11102, '금방': 11103, '화두': 11104, '유월': 11105, '일랑': 11106, '하녀': 11107, '케라틴': 11108, '드빌': 11109, '여러가지': 11110, '줄홀더': 11111, '거알': 11112, '플로피디스크': 11113, '아이스커피': 11114, '아바': 11115, '캠핑카여행': 11116, '웽굿즈뭼': 11117, '한산': 11118, '공대생': 11119, '즌언택트': 11120, '헬레나': 11121, '품앗이': 11122, '농산물': 11123, '추천': 11124, '견인': 11125, '팝스타': 11126, '콜렉팅': 11127, '삼국시대': 11128, '유럽사': 11129, '남방큰돌고래': 11130, '추적자': 11131, '퀄텟': 11132, '광장시장': 11133, '개집': 11134, '엘더스크롤': 11135, '독백': 11136, '김뜻돌': 11137, '집꿈': 11138, '걸리다': 11139, '온전': 11140, '텐실': 11141, '짚': 11142, '현무암': 11143, '빠순': 11144, '자성': 11145, '빠': 11146, '순창': 11147, '레이스카': 11148, '공기역학': 11149, '비상구': 11150, '나이스': 11151, '딸악': 11152, '아비': 11153, '노동': 11154, '나기': 11155, '앞장서다': 11156, '코고': 11157, '집시': 11158, '파래지다': 11159, '넨': 11160, '얄': 11161, '똥똥': 11162, '긴급': 11163, '포커': 11164, '총회': 11165, '가져가다': 11166, '뚱땅': 11167, '누카꿀': 11168, '침향': 11169, '마누카': 11170, '구출': 11171, '앤무닌': 11172, '떼비': 11173, '떼쓰다': 11174, '강경애': 11175, '네이티': 11176, '오늘아침': 11177, '위키': 11178, '코스터': 11179, '머뭇': 11180, '다머': 11181, '뭅': 11182, '모아새': 11183, '대답': 11184, '품질': 11185, '점호': 11186, '이갑': 11187, '충돌': 11188, '반동': 11189, '미숙': 11190, '잘맞다': 11191, '용법': 11192, '피임': 11193, '인천': 11194, '이제야': 11195, '재현': 11196, '신고': 11197, '지피다': 11198, '서지': 11199, '리위에먼': 11200, '네버엔딩': 11201, '코레': 11202, '그저': 11203, '쯔': 11204, '굿이어': 11205, '웰트': 11206, '비엔나': 11207, '별찌': 11208, '왕좌': 11209, '은침': 11210, '드뉘망': 11211, '연희': 11212, '각트': 11213, '인과관계': 11214, '공황장애': 11215, '감수성': 11216, '포천': 11217, '이바람': 11218, '시시하다': 11219, '주무': 11220, '소량': 11221, '취조': 11222, '꽃겹': 11223, '터리': 11224, '이디오피아': 11225, '벳': 11226, '장사': 11227, '부산하다': 11228, '탈옥': 11229, '철창': 11230, '양보': 11231, '쭈굴': 11232, '란란': 11233, '동대문구': 11234, '성장기': 11235, '나단': 11236, '이라고': 11237, '락페스티벌': 11238, '학문': 11239, '잠콩': 11240, '깜콩': 11241, '너희': 11242, '독립유공자': 11243, '책쩐': 11244, '한수': 11245, '샤샤': 11246, '문정희': 11247, '마이너스': 11248, '폭스': 11249, '퍼키링': 11250, '해마다': 11251, '반기다': 11252, '덴마크': 11253, '잠기다': 11254, '낙태법': 11255, '슬로건': 11256, '연호': 11257, '위월': 11258, '적당하다': 11259, '견권': 11260, '첼리스트': 11261, '홍진호': 11262, '쿠나': 11263, '임정': 11264, '카메': 11265, '악단': 11266, '인풋': 11267, '때로는': 11268, '단돈': 11269, '불리다': 11270, '숲속의집': 11271, '시보': 11272, '온천': 11273, '조단': 11274, '장난감병정': 11275, '레텔과헨': 11276, '드뷔시': 11277, '문학과사회': 11278, '펄프': 11279, '랟펨': 11280, '김준규': 11281, '신용': 11282, '체크카드': 11283, '설계서': 11284, '카밋': 11285, '떼다': 11286, '취기': 11287, '날뛰다': 11288, '발광': 11289, '환경윤리': 11290, '더블에스': 11291, '미술가': 11292, '몽글몽글하다': 11293, '피코': 11294, '등장': 11295, '아웃랜더': 11296, '캡쳐': 11297, '카메랄트': 11298, '들여다보다': 11299, '로고': 11300, '수돗물': 11301, '살균': 11302, '더블린': 11303, '외교관': 11304, '말대꾸': 11305, '글쎄': 11306, '귀가': 11307, '이실': 11308, '버클': 11309, '타라': 11310, '트랜스': 11311, '젠더퀴어': 11312, '송호': 11313, '위체': 11314, '영해': 11315, '목조': 11316, '김무': 11317, '탭': 11318, '선경': 11319, '녹는점': 11320, '목격': 11321, '수필집': 11322, '이화여대': 11323, '하멜': 11324, '냥덕': 11325, '세뱃돈': 11326, '쾌차': 11327, '북앤': 11328, '간세': 11329, '향해': 11330, '게시': 11331, '이빨': 11332, '위태': 11333, '정교하다': 11334, '처우': 11335, '동심': 11336, '바닷가': 11337, '트리하우스': 11338, '집짓기': 11339, '골렘': 11340, '도강': 11341, '컷더트': 11342, '쉬첫': 11343, '영장류학자': 11344, '원숭이': 11345, '복사꽃': 11346, '무전': 11347, '네마': 11348, '엉뚱하다': 11349, '뼈': 11350, '잔치': 11351, '꼴랑': 11352, '키쿠오': 11353, '존슨': 11354, '피셔': 11355, '갈아입다': 11356, '느슨하다': 11357, '쫀득함': 11358, '현자': 11359, '한자': 11360, '청록': 11361, '릉그릉그릉': 11362, '티북': 11363, '생애': 11364, '화주': 11365, '쉿': 11366, '손위': 11367, '미워하다': 11368, '왜나': 11369, '헤어지다': 11370, '미쏘': 11371, '문구점': 11372, '응': 11373, '음메': 11374, '지뢰': 11375, '샥스핀': 11376, '주호': 11377, '대물리다': 11378, '일주': 11379, '순무': 11380, '유하나': 11381, '일루': 11382, '스레': 11383, '양털': 11384, '결핍': 11385, '이향': 11386, '바이킹': 11387, '먹거리': 11388, '치면': 11389, '재정': 11390, '사고실험': 11391, '아이오딘': 11392, '프리져': 11393, '온에어': 11394, '탄자': 11395, '변조': 11396, '날씬하다': 11397, '에쏘': 11398, '해피해피': 11399, '이얼': 11400, '무기탄': 11401, '장비': 11402, '씻기다': 11403, '인용': 11404, '드러나다': 11405, '만다라': 11406, '파나마': 11407, '파밀': 11408, '카카오페이지': 11409, '남친': 11410, '와일드웨스트': 11411, '차고': 11412, '투톤': 11413, '하드코어': 11414, '테크노': 11415, '컴필레이션앨범': 11416, '니트로': 11417, '의학': 11418, '갈라파고스': 11419, '김나연': 11420, '겹겹': 11421, '김미선': 11422, '시트콤': 11423, '더블체크': 11424, '에이미': 11425, '폴러': 11426, '폐업': 11427, '한숨': 11428, '넥타이': 11429, '젝': 11430, '산유화': 11431, '마케터용': 11432, '치트키': 11433, '만이': 11434, '춤판흥': 11435, '포스트잇': 11436, '좌절': 11437, '등교': 11438, '찬미': 11439, '다다르다': 11440, '잡기': 11441, '무례하다': 11442, '보보': 11443, '여생': 11444, '미화': 11445, '경비': 11446, '비행사': 11447, '권기옥': 11448, '정오': 11449, '국가보안법': 11450, '장병기': 11451, '꽃비': 11452, '이슬비': 11453, '먹구름': 11454, '이지툰': 11455, '하운드': 11456, '스너글러': 11457, '최수진': 11458, '캣홀릭': 11459, '곰돌이푸': 11460, '십년': 11461, '을불': 11462, '태우다': 11463, '기정': 11464, '시립대': 11465, '응원가': 11466, '너머': 11467, '어린이날': 11468, '평일': 11469, '개운하다': 11470, '책맥': 11471, '속도': 11472, '렁': 11473, '티나': 11474, '피베리': 11475, '감염병': 11476, '칙': 11477, '가늘다': 11478, '애틋하다': 11479, '교구': 11480, '쭉쭉': 11481, '평동': 11482, '대한국': 11483, '블랜드': 11484, '어떠하다': 11485, '불완전하다': 11486, '사이렌': 11487, '게르': 11488, '판호': 11489, '집비': 11490, '정기간행물': 11491, '제왕': 11492, '스펙트럼': 11493, '얼룩': 11494, '부리': 11495, '넙츄': 11496, '김금희': 11497, '오두막': 11498, '커튼': 11499, '재발': 11500, '무한대': 11501, '정말로': 11502, '살수': 11503, '나오미': 11504, '더킷호': 11505, '난지도': 11506, '말찬': 11507, '찬양': 11508, '기한': 11509, '날아들다': 11510, '미장센': 11511, '당첨': 11512, '진송': 11513, '곽민지': 11514, '갈비': 11515, '젠집': 11516, '박영훈': 11517, '스타트': 11518, '매주': 11519, '수요일': 11520, '휴무': 11521, '뷰티풀': 11522, '주마': 11523, '저리': 11524, '마찌롱': 11525, '정튠': 11526, '의궤': 11527, '치한': 11528, '위브링': 11529, '불가사리': 11530, '트래쁠': 11531, '철인': 11532, '캉': 11533, '우애': 11534, '일보': 11535, '박수': 11536, '통영': 11537, '목수': 11538, '성경': 11539, '거룩하다': 11540, '꽃지': 11541, '사선': 11542, '이응': 11543, '개똥이': 11544, '똥컵': 11545, '황금돼지': 11546, '땡': 11547, '아마추어': 11548, '금정': 11549, '빼빼로': 11550, '사춘기': 11551, '꽃밤': 11552, '헬리오스': 11553, '족발': 11554, '식남': 11555, '가성': 11556, '컵케이크': 11557, '슬래시': 11558, '시발': 11559, '사천왕': 11560, '민영': 11561, '애조': 11562, '유명인': 11563, '전월': 11564, '셋집': 11565, '오프너': 11566, '스프': 11567, '하늘다람쥐': 11568, '재건축': 11569, '예정': 11570, '강남': 11571, '아람': 11572, '무언가': 11573, '조르바': 11574, '휴가함': 11575, '도망자': 11576, '은신': 11577, '처가': 11578, '문학동': 11579, '집호': 11580, '릿': 11581, '얼렁뚱땅': 11582, '무령왕릉': 11583, '하양': 11584, '간문제': 11585, '양생': 11586, '보양': 11587, '윤도경': 11588, '보오': 11589, '팬던트': 11590, '얽히다': 11591, '수집가': 11592, '음울하다': 11593, '슬림': 11594, '띄우다': 11595, '종이배': 11596, '헬프': 11597, '용문동': 11598, '물렁': 11599, '의회': 11600, '무질서': 11601, '영업': 11602, '꽃향': 11603, '아리차': 11604, '가만가만': 11605, '캣독': 11606, '그루': 11607, '겸손하다': 11608, '재수': 11609, '여요': 11610, '유골': 11611, '여유롭다': 11612, '도울': 11613, '전자회로': 11614, '조카': 11615, '렐차페': 11616, '티트': 11617, '정상': 11618, '자계': 11619, '행복한나라': 11620, '유랑극단': 11621, '도해': 11622, '울드': 11623, '아이엠': 11624, '리얼리즘': 11625, '볼펜': 11626, '이양순': 11627, '무소속': 11628, '크루': 11629, '바웃통': 11630, '금붕어': 11631, '구하라': 11632, '아크': 11633, '출판인': 11634, '용지': 11635, '버고': 11636, '잉홈': 11637, '해독': 11638, '에선': 11639, '생기지': 11640, '집돌': 11641, '궁디': 11642, '심볼': 11643, '지프': 11644, '스타트업회사': 11645, '워킹': 11646, '네네': 11647, '행복여행': 11648, '몰리다': 11649, '끝내주다': 11650, '백신': 11651, '밀도': 11652, '지퍼': 11653, '컨츄리': 11654, '단맛': 11655, '부룬디': 11656, '은동': 11657, '분식집': 11658, '막내딸': 11659, '시연': 11660, '분식': 11661, '교체': 11662, '관점': 11663, '찌라시': 11664, '펀딩': 11665, '하지만': 11666, '친하다': 11667, '회색': 11668, '십자수': 11669, '초조': 11670, '심란하다': 11671, '평안': 11672, '밤창': 11673, '크리스마스카드': 11674, '모금': 11675, '젊음': 11676, '멍하니': 11677, '삼십일': 11678, '엔나': 11679, '바나': 11680, '직무': 11681, '안면': 11682, '기형': 11683, '험하다': 11684, '진대': 11685, '사피': 11686, '등창': 11687, '젓가락': 11688, '미노': 11689, '향향': 11690, '레디메이드': 11691, '비로소': 11692, '겨우': 11693, '임자': 11694, '박창곤': 11695, '컴피랩': 11696, '자살': 11697, '가챠': 11698, '차꽃': 11699, '유자차': 11700, '꽃주': 11701, '무오': 11702, '귀리': 11703, '연근': 11704, '케틀벨키링': 11705, '환경운동': 11706, '여심': 11707, '로쉐': 11708, '한예종': 11709, '혜안': 11710, '나태주': 11711, '음악회': 11712, '하이힐': 11713, '가이아': 11714, '장집': 11715, '간지럽다': 11716, '일과': 11717, '묘수': 11718, '을지로': 11719, '웨일': 11720, '천마': 11721, '멜트': 11722, '작용': 11723, '더로드': 11724, '파파': 11725, '우미': 11726, '은천': 11727, '가랑비': 11728, '머무르다': 11729, '비명': 11730, '횡사': 11731, '어련하다': 11732, '자속': 11733, '대정': 11734, '혈': 11735, '함정': 11736, '혀리': 11737, '문화생활': 11738, '덕리': 11739, '발전소': 11740, '사면': 11741, '자백': 11742, '태국': 11743, '학교물': 11744, '에끼': 11745, '정현': 11746, '태': 11747, '치치': 11748, '국자': 11749, '장막': 11750, '발랄하다': 11751, '뒹': 11752, '남지': 11753, '곳곳': 11754, '츤데레': 11755, '성냥': 11756, '팔이': 11757, '운니': 11758, '비어': 11759, '퓨져': 11760, '대보름': 11761, '넛츠': 11762, '앤칩': 11763, '짐승': 11764, '회서': 11765, '여자명': 11766, '고부': 11767, '탁하다': 11768, '션북': 11769, '육식': 11770, '불교': 11771, '소셜미디어': 11772, '바다거북': 11773, '개박': 11774, '솔뫼': 11775, '인구': 11776, '깜찍감성뚱': 11777, '이냐냐': 11778, '덤앤더머': 11779, '데뷰': 11780, '드림로': 11781, '타이어': 11782, '스타일리시': 11783, '끌어당기다': 11784, '소피아': 11785, '시차': 11786, '과시': 11787, '나은': 11788, '혁신': 11789, '컨드': 11790, '음악비평가': 11791, '팟캐스트': 11792, '필스': 11793, '실생활': 11794, '지스트링': 11795, '보물상자': 11796, '노예': 11797, '팔랑팔랑': 11798, '랑귀': 11799, '쭈쭈마이펫': 11800, '싹싹': 11801, '포슈': 11802, '박력': 11803, '골디': 11804, '익': 11805, '신장': 11806, '기능성게임': 11807, '시뮬레이터': 11808, '기모노': 11809, '어쨌든': 11810, '월요일': 11811, '일곱시': 11812, '하야': 11813, '천하다': 11814, '시그널': 11815, '얼굴빛': 11816, '보듬다': 11817, '트립풀': 11818, '체질': 11819, '그날그': 11820, '한쪽': 11821, '클릭': 11822, '장하': 11823, '비옥': 11824, '찬년': 11825, '잼청': 11826, '헌팅': 11827, '단기': 11828, '태공': 11829, '피트니스': 11830, '상반신': 11831, '아라타': 11832, '빈곤': 11833, '내리쬐다': 11834, '닛': 11835, '듀엣': 11836, '삼월': 11837, '일찍': 11838, '다행': 11839, '소피': 11840, '습': 11841, '띄엄띄엄': 11842, '스탬': 11843, '프브': 11844, '러쉬': 11845, '바게트': 11846, '쾌락주의자': 11847, '강한나': 11848, '한겨울': 11849, '아웃도어': 11850, '엠피': 11851, '베틀': 11852, '트윌': 11853, '장밋빛': 11854, '이열리': 11855, '노크': 11856, '가닥': 11857, '식물성': 11858, '모과': 11859, '로터스': 11860, '퀸스': 11861, '연판': 11862, '린터': 11863, '삐뚤다': 11864, '빼뚤': 11865, '바란': 11866, '갈아엎다': 11867, '촉촉': 11868, '올가을': 11869, '피그미': 11870, '라쿤': 11871, '물르다': 11872, '물컹하다': 11873, '콤마': 11874, '봄호': 11875, '하드보일드': 11876, '사이킥': 11877, '도산': 11878, '안창호': 11879, '런닝머신': 11880, '센서': 11881, '플레이아데스': 11882, '닉캐': 11883, '방출': 11884, '건립': 11885, '반짝임': 11886, '윔': 11887, '옳다': 11888, '김율': 11889, '굴러가다': 11890, '꺄르륵': 11891, '무브먼트': 11892, '자아': 11893, '강현우': 11894, '뽁뽁': 11895, '빽': 11896, '덕교': 11897, '터위': 11898, '떨치다': 11899, '바람의나라': 11900, '숙취': 11901, '뚠뚠한뚠': 11902, '긴장': 11903, '화성': 11904, '행차': 11905, '하라': 11906, '차렵': 11907, '데인': 11908, '스태프': 11909, '상리공생': 11910, '곤드레만드레': 11911, '취해': 11912, '어미': 11913, '마음먹다': 11914, '인증서': 11915, '명왕성': 11916, '강산': 11917, '멍청하다': 11918, '잘못': 11919, '맨투맨폰': 11920, '고풍': 11921, '메달': 11922, '곰베': 11923, '충만': 11924, '지난해': 11925, '비행기': 11926, '메이': 11927, '멸균': 11928, '두유': 11929, '고드름': 11930, '영법': 11931, '총괄': 11932, '책임자': 11933, '부산대학교': 11934, '스윙': 11935, '카프': 11936, '년뒤더': 11937, '나아지다': 11938, '치맛바람': 11939, '도덕': 11940, '눈부시다': 11941, '삼촌': 11942, '단령': 11943, '검찰': 11944, '조국': 11945, '대전': 11946, '부제': 11947, '달콤쫀득젤곰': 11948, '장미전쟁': 11949, '워릭': 11950, '리처드': 11951, '네빌': 11952, '직전': 11953, '예술사': 11954, '덩어리': 11955, '멘토링': 11956, '걸스': 11957, '밀양': 11958, '송전탑': 11959, '기록관': 11960, '구축': 11961, '윗몸일으키기': 11962, '기구': 11963, '아스티': 11964, '채롭': 11965, '새틴': 11966, '드랩': 11967, '깃호': 11968, '특정': 11969, '퍼포먼스': 11970, '곡집': 11971, '플레어': 11972, '관사': 11973, '북제': 11974, '만으로는': 11975, '턱': 11976, '자두나무': 11977, '이토': 11978, '벅차다': 11979, '미티': 11980, '밑그림': 11981, '물음': 11982, '음악가': 11983, '내의': 11984, '사료': 11985, '배고프다': 11986, '후룩': 11987, '서랍': 11988, '다관': 11989, '골인': 11990, '역량': 11991, '증대': 11992, '연극제': 11993, '본선': 11994, '진출': 11995, '학부': 11996, '여행사진': 11997, '한국영': 11998, '도림천': 11999, '순환선': 12000, '타카네': 12001, '자메이카': 12002, '블루마운틴': 12003, '자유여행': 12004, '남한': 12005, '애달피': 12006, '외항': 12007, '하드': 12008, '이씨': 12009, '폼폼키링': 12010, '송지훈': 12011, '김영민': 12012, '패션쇼': 12013, '매크로': 12014, '질주': 12015, '다색': 12016, '정환': 12017, '양가': 12018, '판타지스타': 12019, '터팩': 12020, '분투': 12021, '계로': 12022, '고서점': 12023, '잠재력': 12024, '포호': 12025, '엄': 12026, '환의': 12027, '태슬': 12028, '공예품': 12029, '스탠드업': 12030, '공정하다': 12031, '신랄하다': 12032, '비판': 12033, '가위바위보': 12034, '진공관': 12035, '금관': 12036, '박일': 12037, '라나': 12038, '플라자': 12039, '한주': 12040, '졸리': 12041, '민감': 12042, '늦다': 12043, '극값': 12044, '할례': 12045, '민지원': 12046, '기쁘다': 12047, '소식': 12048, '그래비티': 12049, '더스타': 12050, '라플람므': 12051, '이포': 12052, '서막': 12053, '어도': 12054, '겐': 12055, '깽': 12056, '포옹': 12057, '풀풀': 12058, '술술': 12059, '술픔': 12060, '므흣': 12061, '키링키': 12062, '키라': 12063, '언더그라운드': 12064, '미국만화': 12065, '쿠니': 12066, '등산': 12067, '불행': 12068, '병기': 12069, '빙글': 12070, '길편': 12071, '가모': 12072, '여하나': 12073, '쿠로': 12074, '개문': 12075, '양피': 12076, '젯': 12077, '스피너': 12078, '카프카': 12079, '내딛다': 12080, '작은방': 12081}\n"
     ]
    }
   ],
   "source": [
    "print(tokenizer.word_index) # 토큰의 정수화"
   ]
  },
  {
   "cell_type": "code",
   "execution_count": 22,
   "id": "7bfc1be2",
   "metadata": {},
   "outputs": [
    {
     "name": "stdout",
     "output_type": "stream",
     "text": [
      "단어 집합의 크기 : 12081\n"
     ]
    }
   ],
   "source": [
    "vocab_size = len(tokenizer.word_index)\n",
    "print(\"단어 집합의 크기 :\", vocab_size)"
   ]
  },
  {
   "cell_type": "code",
   "execution_count": 23,
   "id": "1b2990cb",
   "metadata": {},
   "outputs": [],
   "source": [
    "y_train = np.array(df1['result']) #성공, 실패를 y_train에 넣음"
   ]
  },
  {
   "cell_type": "code",
   "execution_count": 24,
   "id": "23f3aa64",
   "metadata": {},
   "outputs": [],
   "source": [
    "tokenizer = Tokenizer(vocab_size) \n",
    "tokenizer.fit_on_texts(X_train)\n",
    "X_train = tokenizer.texts_to_sequences(X_train)"
   ]
  },
  {
   "cell_type": "code",
   "execution_count": 25,
   "id": "0a37a40b",
   "metadata": {},
   "outputs": [
    {
     "name": "stdout",
     "output_type": "stream",
     "text": [
      "[[5933, 404, 96, 159, 5934, 34], [26, 24, 2130, 83, 101, 5935], [2538, 279, 488, 300, 50, 1, 720, 1, 604, 208, 1606]]\n"
     ]
    }
   ],
   "source": [
    "print(X_train[:3])"
   ]
  },
  {
   "cell_type": "code",
   "execution_count": 26,
   "id": "7f642026",
   "metadata": {},
   "outputs": [
    {
     "name": "stdout",
     "output_type": "stream",
     "text": [
      "제목의 최대 길이 : 15\n",
      "제목의 평균 길이 : 7.302568883364408\n"
     ]
    },
    {
     "data": {
      "image/png": "[encoded data removed]",
      "text/plain": [
       "<Figure size 504x504 with 1 Axes>"
      ]
     },
     "metadata": {},
     "output_type": "display_data"
    }
   ],
   "source": [
    "print('제목의 최대 길이 :',max(len(review) for review in X_train))\n",
    "print('제목의 평균 길이 :',sum(map(len, X_train))/len(X_train))\n",
    "plt.hist([len(review) for review in X_train], bins=50)\n",
    "plt.xlabel('length of title')\n",
    "plt.ylabel('number of title')\n",
    "plt.show()"
   ]
  },
  {
   "cell_type": "code",
   "execution_count": 27,
   "id": "2ef5dc26",
   "metadata": {},
   "outputs": [],
   "source": [
    "def below_threshold_len(max_len, nested_list):\n",
    "  count = 0\n",
    "  for sentence in nested_list:\n",
    "    if(len(sentence) <= max_len):\n",
    "        count = count + 1\n",
    "  print('전체 샘플 중 길이가 %s 이하인 샘플의 비율: %s'%(max_len, (count / len(nested_list))*100))"
   ]
  },
  {
   "cell_type": "code",
   "execution_count": 28,
   "id": "41158bbb",
   "metadata": {},
   "outputs": [
    {
     "name": "stdout",
     "output_type": "stream",
     "text": [
      "전체 샘플 중 길이가 15 이하인 샘플의 비율: 100.0\n"
     ]
    }
   ],
   "source": [
    "max_len = 15 # 단어 최대치로 설정\n",
    "below_threshold_len(max_len, X_train)"
   ]
  },
  {
   "cell_type": "code",
   "execution_count": 29,
   "id": "feee09c6",
   "metadata": {},
   "outputs": [],
   "source": [
    "from tensorflow.keras.preprocessing.sequence import pad_sequences\n",
    "X_train = pad_sequences(X_train, maxlen=max_len) # 최대치에 맞춰서 패딩함"
   ]
  },
  {
   "cell_type": "code",
   "execution_count": 30,
   "id": "30af7122",
   "metadata": {
    "scrolled": false
   },
   "outputs": [
    {
     "name": "stdout",
     "output_type": "stream",
     "text": [
      "Epoch 1/15\n",
      "121/121 [==============================] - ETA: 0s - loss: 0.1117 - acc: 0.9776\n",
      "Epoch 00001: val_acc improved from -inf to 1.00000, saving model to best_model.h5\n",
      "121/121 [==============================] - 13s 62ms/step - loss: 0.1117 - acc: 0.9776 - val_loss: 0.0176 - val_acc: 1.0000\n",
      "Epoch 2/15\n",
      "121/121 [==============================] - ETA: 0s - loss: 0.0932 - acc: 0.9808\n",
      "Epoch 00002: val_acc did not improve from 1.00000\n",
      "121/121 [==============================] - 6s 52ms/step - loss: 0.0932 - acc: 0.9808 - val_loss: 0.0315 - val_acc: 1.0000\n",
      "Epoch 3/15\n",
      "121/121 [==============================] - ETA: 0s - loss: 0.0844 - acc: 0.9808\n",
      "Epoch 00003: val_acc did not improve from 1.00000\n",
      "121/121 [==============================] - 6s 48ms/step - loss: 0.0844 - acc: 0.9808 - val_loss: 0.0245 - val_acc: 1.0000\n",
      "Epoch 4/15\n",
      "120/121 [============================>.] - ETA: 0s - loss: 0.0747 - acc: 0.9809\n",
      "Epoch 00004: val_acc did not improve from 1.00000\n",
      "121/121 [==============================] - 5s 39ms/step - loss: 0.0746 - acc: 0.9808 - val_loss: 0.0302 - val_acc: 1.0000\n",
      "Epoch 5/15\n",
      "120/121 [============================>.] - ETA: 0s - loss: 0.0670 - acc: 0.9814\n",
      "Epoch 00005: val_acc did not improve from 1.00000\n",
      "121/121 [==============================] - 5s 42ms/step - loss: 0.0667 - acc: 0.9815 - val_loss: 0.0107 - val_acc: 1.0000\n",
      "Epoch 6/15\n",
      "120/121 [============================>.] - ETA: 0s - loss: 0.0590 - acc: 0.9826\n",
      "Epoch 00006: val_acc did not improve from 1.00000\n",
      "121/121 [==============================] - 6s 47ms/step - loss: 0.0592 - acc: 0.9824 - val_loss: 0.0227 - val_acc: 0.9969\n",
      "Epoch 7/15\n",
      "120/121 [============================>.] - ETA: 0s - loss: 0.0504 - acc: 0.9852\n",
      "Epoch 00007: val_acc did not improve from 1.00000\n",
      "121/121 [==============================] - 6s 47ms/step - loss: 0.0505 - acc: 0.9851 - val_loss: 0.0734 - val_acc: 0.9762\n",
      "Epoch 8/15\n",
      "120/121 [============================>.] - ETA: 0s - loss: 0.0420 - acc: 0.9876- ETA: 3s - loss: 0.0393 - acc:  \n",
      "Epoch 00008: val_acc did not improve from 1.00000\n",
      "121/121 [==============================] - 5s 45ms/step - loss: 0.0417 - acc: 0.9877 - val_loss: 0.0704 - val_acc: 0.9772\n",
      "Epoch 9/15\n",
      "121/121 [==============================] - ETA: 0s - loss: 0.0344 - acc: 0.9904\n",
      "Epoch 00009: val_acc did not improve from 1.00000\n",
      "121/121 [==============================] - 6s 47ms/step - loss: 0.0344 - acc: 0.9904 - val_loss: 0.2055 - val_acc: 0.9213\n",
      "Epoch 00009: early stopping\n"
     ]
    }
   ],
   "source": [
    "from tensorflow.keras.layers import Embedding, Dense, LSTM\n",
    "from tensorflow.keras.models import Sequential\n",
    "from tensorflow.keras.models import load_model\n",
    "from tensorflow.keras.callbacks import EarlyStopping, ModelCheckpoint\n",
    "\n",
    "embedding_dim = 100\n",
    "hidden_units = 128\n",
    "\n",
    "model = Sequential()\n",
    "model.add(Embedding(vocab_size, embedding_dim))\n",
    "model.add(LSTM(hidden_units))\n",
    "model.add(Dense(1, activation='sigmoid'))\n",
    "\n",
    "es = EarlyStopping(monitor='val_loss', mode='min', verbose=1, patience=4)\n",
    "mc = ModelCheckpoint('best_model.h5', monitor='val_acc', mode='max', verbose=1, save_best_only=True)\n",
    "\n",
    "model.compile(optimizer='rmsprop', loss='binary_crossentropy', metrics=['acc'])\n",
    "history = model.fit(X_train, y_train, epochs=15, callbacks=[es, mc], batch_size=64, validation_split=0.2)"
   ]
  },
  {
   "cell_type": "code",
   "execution_count": 31,
   "id": "2f7af7c9",
   "metadata": {},
   "outputs": [],
   "source": [
    "loaded_model = load_model('best_model.h5') # 제일 잘 맞는 부분을 best_model.h5로 저장"
   ]
  },
  {
   "cell_type": "code",
   "execution_count": 32,
   "id": "9b4e6109",
   "metadata": {},
   "outputs": [],
   "source": [
    "def sentiment_predict(new_sentence):\n",
    "  new_sentence = re.sub(r'[^ㄱ-ㅎㅏ-ㅣ가-힣 ]','', new_sentence)\n",
    "  new_sentence = okt.morphs(new_sentence, stem=True) # 토큰화\n",
    "  new_sentence = [word for word in new_sentence if not word in stopwords] # 불용어 제거\n",
    "  encoded = tokenizer.texts_to_sequences([new_sentence]) # 정수 인코딩\n",
    "  pad_new = pad_sequences(encoded, maxlen = max_len) # 패딩\n",
    "  score = float(loaded_model.predict(pad_new)) # 예측\n",
    "  if(score > 0.5):\n",
    "    print(\"{:.2f}% 확률로 성공 제목입니다.\\n\".format(score * 100))\n",
    "  else:\n",
    "    print(\"{:.2f}% 확률로 실패 제목입니다.\\n\".format((1 - score) * 100))"
   ]
  },
  {
   "cell_type": "code",
   "execution_count": 33,
   "id": "f34280d3",
   "metadata": {},
   "outputs": [
    {
     "name": "stdout",
     "output_type": "stream",
     "text": [
      "98.21% 확률로 성공 제목입니다.\n",
      "\n"
     ]
    }
   ],
   "source": [
    "sentiment_predict(\"아름다운 우리나라\")"
   ]
  },
  {
   "cell_type": "code",
   "execution_count": null,
   "id": "05205e24",
   "metadata": {},
   "outputs": [],
   "source": []
  },
  {
   "cell_type": "code",
   "execution_count": 38,
   "id": "bad88dcb",
   "metadata": {},
   "outputs": [
    {
     "data": {
      "text/html": [
       "<div>\n",
       "<style scoped>\n",
       "    .dataframe tbody tr th:only-of-type {\n",
       "        vertical-align: middle;\n",
       "    }\n",
       "\n",
       "    .dataframe tbody tr th {\n",
       "        vertical-align: top;\n",
       "    }\n",
       "\n",
       "    .dataframe thead th {\n",
       "        text-align: right;\n",
       "    }\n",
       "</style>\n",
       "<table border=\"1\" class=\"dataframe\">\n",
       "  <thead>\n",
       "    <tr style=\"text-align: right;\">\n",
       "      <th></th>\n",
       "      <th>title</th>\n",
       "      <th>result</th>\n",
       "    </tr>\n",
       "    <tr>\n",
       "      <th>index</th>\n",
       "      <th></th>\n",
       "      <th></th>\n",
       "    </tr>\n",
       "  </thead>\n",
       "  <tbody>\n",
       "    <tr>\n",
       "      <th>0</th>\n",
       "      <td>짐볼로만든인형돌리볼리</td>\n",
       "      <td>0</td>\n",
       "    </tr>\n",
       "    <tr>\n",
       "      <th>1</th>\n",
       "      <td>함께만드는악기전문웹진</td>\n",
       "      <td>0</td>\n",
       "    </tr>\n",
       "    <tr>\n",
       "      <th>2</th>\n",
       "      <td>감사한분들께드리는마음을담을고급가죽봉투</td>\n",
       "      <td>0</td>\n",
       "    </tr>\n",
       "    <tr>\n",
       "      <th>3</th>\n",
       "      <td>마다가스카르사진전</td>\n",
       "      <td>0</td>\n",
       "    </tr>\n",
       "    <tr>\n",
       "      <th>4</th>\n",
       "      <td>인형의시간들</td>\n",
       "      <td>0</td>\n",
       "    </tr>\n",
       "    <tr>\n",
       "      <th>...</th>\n",
       "      <td>...</td>\n",
       "      <td>...</td>\n",
       "    </tr>\n",
       "    <tr>\n",
       "      <th>296</th>\n",
       "      <td>세상에는아직도여성영화가더필요하다영화사각지대</td>\n",
       "      <td>1</td>\n",
       "    </tr>\n",
       "    <tr>\n",
       "      <th>297</th>\n",
       "      <td>공허함에대한아트북</td>\n",
       "      <td>1</td>\n",
       "    </tr>\n",
       "    <tr>\n",
       "      <th>298</th>\n",
       "      <td>버려진페트병공간에아름다움을채우다패브릭포스터</td>\n",
       "      <td>1</td>\n",
       "    </tr>\n",
       "    <tr>\n",
       "      <th>299</th>\n",
       "      <td>고전게임의재미를계승한모바일게임퍼스트클로버</td>\n",
       "      <td>1</td>\n",
       "    </tr>\n",
       "    <tr>\n",
       "      <th>300</th>\n",
       "      <td>내취향와인을찾기위해와인테이스팅다이어리</td>\n",
       "      <td>1</td>\n",
       "    </tr>\n",
       "  </tbody>\n",
       "</table>\n",
       "<p>300 rows × 2 columns</p>\n",
       "</div>"
      ],
      "text/plain": [
       "                         title  result\n",
       "index                                 \n",
       "0                  짐볼로만든인형돌리볼리       0\n",
       "1                  함께만드는악기전문웹진       0\n",
       "2         감사한분들께드리는마음을담을고급가죽봉투       0\n",
       "3                    마다가스카르사진전       0\n",
       "4                       인형의시간들       0\n",
       "...                        ...     ...\n",
       "296    세상에는아직도여성영화가더필요하다영화사각지대       1\n",
       "297                  공허함에대한아트북       1\n",
       "298    버려진페트병공간에아름다움을채우다패브릭포스터       1\n",
       "299     고전게임의재미를계승한모바일게임퍼스트클로버       1\n",
       "300       내취향와인을찾기위해와인테이스팅다이어리       1\n",
       "\n",
       "[300 rows x 2 columns]"
      ]
     },
     "execution_count": 38,
     "metadata": {},
     "output_type": "execute_result"
    }
   ],
   "source": [
    "df2 = df1[:300]\n",
    "df2"
   ]
  },
  {
   "cell_type": "code",
   "execution_count": 39,
   "id": "c4e5eaf8",
   "metadata": {},
   "outputs": [
    {
     "data": {
      "text/plain": [
       "<AxesSubplot:>"
      ]
     },
     "execution_count": 39,
     "metadata": {},
     "output_type": "execute_result"
    },
    {
     "data": {
      "image/png": "[encoded data removed]",
      "text/plain": [
       "<Figure size 504x504 with 1 Axes>"
      ]
     },
     "metadata": {},
     "output_type": "display_data"
    }
   ],
   "source": [
    "df2[\"result\"].value_counts().plot(kind = \"bar\")"
   ]
  },
  {
   "cell_type": "code",
   "execution_count": 42,
   "id": "91147d54",
   "metadata": {},
   "outputs": [
    {
     "name": "stderr",
     "output_type": "stream",
     "text": [
      "100%|███████████████████████████████████████████████████████████████████████████████| 300/300 [00:02<00:00, 111.13it/s]\n"
     ]
    }
   ],
   "source": [
    "X_train = [] \n",
    "for sentence in tqdm(df2['title']): # df2 title로 진행\n",
    "    tokenized_sentence = okt.morphs(sentence, stem=True) # 토큰화\n",
    "    stopwords_removed_sentence = [word for word in tokenized_sentence if not word in stopwords] # 불용어 제거\n",
    "    X_train.append(stopwords_removed_sentence)"
   ]
  },
  {
   "cell_type": "code",
   "execution_count": 43,
   "id": "daa2b495",
   "metadata": {},
   "outputs": [],
   "source": [
    "tokenizer = Tokenizer()\n",
    "tokenizer.fit_on_texts(X_train)"
   ]
  },
  {
   "cell_type": "code",
   "execution_count": 44,
   "id": "ac49f424",
   "metadata": {},
   "outputs": [
    {
     "name": "stdout",
     "output_type": "stream",
     "text": [
      "{'을': 1, '뱃지': 2, '위': 3, '하': 4, '당신': 5, '웹툰': 6, '일러스트': 7, '즈': 8, '보다': 9, '로': 10, '나': 11, '담다': 12, '프로젝트': 13, '굿': 14, '내': 15, '스케치업': 16, '함께': 17, '북': 18, '속': 19, '세트': 20, '되다': 21, '백': 22, '없다': 23, '만들다': 24, '문': 25, '마음': 26, '달력': 27, '에서': 28, '카드': 29, '우리': 30, '제작': 31, '겨울': 32, '판': 33, '판타지': 34, '게임': 35, '공간': 36, '여행': 37, '사랑': 38, '키트': 39, '인형': 40, '가죽': 41, '시간': 42, '아트': 43, '고양이': 44, '기억': 45, '작다': 46, '인': 47, '선물': 48, '그림책': 49, '동물': 50, '배경': 51, '에세이': 52, '따뜻하다': 53, '파우치': 54, '노트': 55, '양': 56, '꿈': 57, '봄': 58, '디자인': 59, '소설': 60, '지': 61, '세상': 62, '든': 63, '전': 64, '플라스틱': 65, '지갑': 66, '첫': 67, '번째': 68, '서': 69, '여름': 70, '캐릭터': 71, '위해': 72, '성': 73, '스티커': 74, '특별하다': 75, '책': 76, '서울': 77, '중': 78, '귀엽다': 79, '제': 80, '종': 81, '알다': 82, '두': 83, '이야기': 84, '대': 85, '감정': 86, '환경': 87, '다이어리': 88, '별': 89, '신': 90, '형': 91, '찾다': 92, '브라': 93, '소재': 94, '에게': 95, '내일': 96, '꽃': 97, '포스터': 98, '있다': 99, '놀이': 100, '시': 101, '로만': 102, '마다가스카르': 103, '면': 104, '옷': 105, '하고': 106, '케이스': 107, '찾아오다': 108, '소중하다': 109, '적': 110, '오다': 111, '장': 112, '네': 113, '생리': 114, '가지': 115, '티': 116, '지금': 117, '선인장': 118, '회': 119, '년': 120, '안전하다': 121, '노트북': 122, '살': 123, '여': 124, '움': 125, '하나': 126, '없이': 127, '극': 128, '아티스트': 129, '높이다': 130, '편하다': 131, '단': 132, '플': 133, '래': 134, '만': 135, '색': 136, '채우다': 137, '가치': 138, '드로잉': 139, '시작': 140, '모르다': 141, '해주다': 142, '요': 143, '줄': 144, '한글': 145, '편': 146, '죽음': 147, '일': 148, '때': 149, '세': 150, '친환경': 151, '지키다': 152, '엑스트라': 153, '식물': 154, '행복하다': 155, '찾기': 156, '밀크': 157, '관': 158, '녹차': 159, '인가요': 160, '단편영화': 161, '브릭': 162, '앨범': 163, '더': 164, '디지털': 165, '쓰다': 166, '엽서': 167, '께': 168, '드리다': 169, '연필': 170, '생활': 171, '쓰레기': 172, '의첫': 173, '아': 174, '노': 175, '티셔츠': 176, '기': 177, '타': 178, '핸드폰': 179, '만의': 180, '만들기': 181, '고민': 182, '방안': 183, '이어폰': 184, '눈꽃': 185, '어른': 186, '라': 187, '랜덤': 188, '모바일': 189, '곳': 190, '내주다': 191, '매력': 192, '페어': 193, '멸종위기': 194, '오': 195, '단독주택': 196, '손안': 197, '테라': 198, '리움': 199, '생각': 200, '휴가': 201, '우주': 202, '뭉글': 203, '심플': 204, '강아지': 205, '기념': 206, '메모': 207, '나오다': 208, '전통': 209, '모두': 210, '기록': 211, '실버': 212, '콩': 213, '냥': 214, '빵': 215, '키링': 216, '소비': 217, '찌다': 218, '토끼': 219, '대한민국': 220, '모든': 221, '마녀': 222, '미드': 223, '뜨다': 224, '춤': 225, '모찌': 226, '공식': 227, '않다': 228, '창작': 229, '방백': 230, '에도': 231, '펑크': 232, '함': 233, '위로': 234, '즐겁다': 235, '사용': 236, '줄이다': 237, '헌법': 238, '뿐': 239, '너': 240, '월': 241, '레이': 242, '그리고': 243, '빛': 244, '올인원': 245, '연': 246, '떠나다': 247, '반려동물': 248, '동': 249, '크리스마스': 250, '준비': 251, '손': 252, '되어다': 253, '조금': 254, '하루': 255, '그': 256, '고온': 257, '안녕': 258, '동물원': 259, '언': 260, '릴레이': 261, '폭': 262, '입다': 263, '추리': 264, '샤워': 265, '파티': 266, '쿠션': 267, '당': 268, '오늘': 269, '건설': 270, '석탄': 271, '감성': 272, '인생': 273, '그리다': 274, '마을': 275, '먹다': 276, '브러쉬': 277, '만나다': 278, '따다': 279, '걱정': 280, '질문': 281, '공포': 282, '가이드': 283, '습관': 284, '사건': 285, '물': 286, '간': 287, '억': 288, '다': 289, '동화': 290, '차': 291, '구': 292, '멸망': 293, '향기': 294, '활용': 295, '졸업': 296, '컬러': 297, '발매': 298, '선': 299, '보고서': 300, '가방': 301, '머': 302, '금은': 303, '포근하다': 304, '아름답다': 305, '탐험': 306, '지다': 307, '그린': 308, '상': 309, '보드게임': 310, '호텔': 311, '집': 312, '향': 313, '오일': 314, '패닉': 315, '버튼': 316, '어디': 317, '액션': 318, '기다리다': 319, '절기': 320, '패': 321, '캘린더': 322, '보통': 323, '쉬다': 324, '환상': 325, '영화제': 326, '시럽': 327, '박스': 328, '구독': 329, '서비스': 330, '크다': 331, '도우': 332, '사람': 333, '산책': 334, '브루': 335, '와인': 336, '짐볼': 337, '돌리다': 338, '악기': 339, '웹진': 340, '감사하다': 341, '분': 342, '담': 343, '고급': 344, '봉투': 345, '사진전': 346, '나무': 347, '만년': 348, '꽂다': 349, '바다': 350, '없애다': 351, '벗': 352, '달파란': 353, '성교육': 354, '지침': 355, '화투': 356, '니': 357, '냐': 358, '놀다': 359, '자유': 360, '더하다': 361, '왕': 362, '미니': 363, '멀다': 364, '라이프': 365, '이태리': 366, '베지터블': 367, '길고양이': 368, '마마마': 369, '만을': 370, '버블': 371, '이니': 372, '셜': 373, '목걸이': 374, '바라보다': 375, '자폐': 376, '장애인': 377, '식': 378, '개선': 379, '전시회': 380, '크리스챤': 381, '기도': 382, '핸드': 383, '메이드': 384, '월행잉': 385, '소비자': 386, '광고주': 387, '원하다': 388, '진짜': 389, '광': 390, '고프다': 391, '렛폼': 392, '비싸다': 393, '관리': 394, '제대로': 395, '계시다': 396, '겨울새': 397, '이를': 398, '칭찬': 399, '이크': 400, '플로우': 401, '비주': 402, '얼': 403, '노벨': 404, '블루문': 405, '파크': 406, '출시': 407, '디펜스': 408, '권': 409, '더빛': 410, '비치': 411, '리': 412, '이슈': 413, '코리아': 414, '한평생': 415, '친구': 416, '이자': 417, '아토': 418, '복숭아': 419, '복': 420, '숭복숭': 421, '라니': 422, '모던': 423, '박현종': 424, '콘서트': 425, '무': 426, '농약': 427, '자색': 428, '양파': 429, '즙즙즙': 430, '인류': 431, '절반': 432, '다그': 433, '림': 434, '이야': 435, '및': 436, '주거': 437, '숲': 438, '이끼': 439, '많다': 440, '밤': 441, '후드': 442, '영화': 443, '배뱅이굿': 444, '사전': 445, '제작비': 446, '인장': 447, '인정이': 448, '소아': 449, '암': 450, '환': 451, '아들': 452, '러브': 453, '하우스': 454, '스': 455, '누지': 456, '캐릭': 457, '터키': 458, '링': 459, '에어팟': 460, '목포': 461, '인권영화제': 462, '새로고침': 463, '변변찮': 464, '마술': 465, '강사': 466, '금기': 467, '교전': 468, '애니': 469, '종영': 470, '리얼': 471, '하트': 472, '챠': 473, '행복': 474, '뽑기': 475, '에어캡': 476, '국내': 477, '최초': 478, '채식': 479, '호랑이': 480, '당근': 481, '민화': 482, '뛰다': 483, '치다': 484, '의미': 485, '왕따': 486, '는가': 487, '해자': 488, '저희': 489, '예술': 490, '오케스트라': 491, '아더': 492, '졸라맨': 493, '주화': 494, '귀': 495, '네코': 496, '핑크': 497, '빈': 498, '일상': 499, '피': 500, '규어': 501, '창살': 502, '팔찌': 503, '덕후': 504, '한필수': 505, '템': 506, '집고양이': 507, '소리': 508, '녹음': 509, '재생': 510, '부르다': 511, '막내': 512, '꽃길': 513, '윤리': 514, '실현': 515, '시키다': 516, '공정무역': 517, '만두': 518, '글쓰기': 519, '온': 520, '라인강': 521, '마법': 522, '비밀일기': 523, '유관순': 524, '열': 525, '사': 526, '독립': 527, '만세': 528, '얼굴': 529, '표정': 530, '자막': 531, '영어': 532, '표현': 533, '배우다': 534, '빛나다': 535, '우리말': 536, '반지': 537, '두번째': 538, '소품': 539, '안경': 540, '디즈니': 541, '정품': 542, '토이스토리': 543, '체인': 544, '핀': 545, '초보': 546, '변형': 547, '짧다': 548, '쉼표': 549, '목도리': 550, '데노': 551, '메단': 552, '배달': 553, '브레드': 554, '미스터': 555, '앤': 556, '팬더': 557, '테러': 558, '맨': 559, '다정하다': 560, '머그컵': 561, '외롭다': 562, '멕시코': 563, '화가': 564, '주제': 565, '별하나': 566, '어머니': 567, '키링노': 568, '한여름': 569, '싱그럽다': 570, '플라워': 571, '아티': 572, '희망': 573, '매리': 574, '메리크리스마스': 575, '애': 576, '버리다': 577, '어벤져스': 578, '고귀하다': 579, '괴로움': 580, '씻다': 581, '비닐': 582, '캠페인': 583, '에코': 584, '유': 585, '튜버': 586, '커뮤니티': 587, '사이트': 588, '쌀쌀하다': 589, '땐': 590, '국밥': 591, '그릇': 592, '별거': 593, '별일': 594, '눕다': 595, '스터디': 596, '파트너': 597, '공양미': 598, '타다': 599, '페스티벌': 600, '실시간': 601, '라인업': 602, '알림': 603, '앱': 604, '명의': 605, '결정': 606, '주얼': 607, '리트': 608, '지지': 609, '피다': 610, '꽃처럼': 611, '남성향': 612, '수인': 613, '연애': 614, '시뮬레이션': 615, '다시': 616, '무지개': 617, '텀블러': 618, '후회': 619, '비용': 620, '국가': 621, '순위': 622, '똑똑': 623, '대장': 624, '몰다': 625, '서하': 626, '효도': 627, '어버이날': 628, '카네이션': 629, '투명하다': 630, '북극곰': 631, '종이': 632, '와글': 633, '분과': 634, '독서': 635, '과의': 636, '추억': 637, '주': 638, '시인': 639, '윤동주': 640, '새다': 641, '향초': 642, '칵토': 643, '다르다': 644, '고': 645, '이발': 646, '젤리': 647, '종일': 648, '지자': 649, '아오': 650, '늘': 651, '따르다': 652, '두루마기': 653, '생각나다': 654, '울타리': 655, '밖': 656, '페이퍼': 657, '페미니즘': 658, '명': 659, '캘리그라피': 660, '코로나': 661, '시대': 662, '가기': 663, '다리다': 664, '필사': 665, '부활': 666, '커넥티드': 667, '쿼카': 668, '우기': 669, '수집': 670, '아무': 671, '내다': 672, '커플링': 673, '자세하다': 674, '보아': 675, '야': 676, '꾼': 677, '게코': 678, '듀': 679, '떡볶이': 680, '크로스': 681, '원목': 682, '트': 683, '식탁': 684, '리하': 685, '초딩': 686, '멋있다': 687, '아이': 688, '먼저': 689, '모자': 690, '뿜뿜': 691, '앵무': 692, '이고': 693, '효율': 694, '헤드': 695, '어시스트': 696, '모델': 697, '장미': 698, '대선': 699, '스페이스': 700, '정글': 701, '이함': 702, '학교': 703, '펼쳐지다': 704, '반': 705, '여성향': 706, '게': 707, '임비': 708, '포': 709, '다운': 710, '나르다': 711, '교토': 712, '덜': 713, '킷': 714, '나라': 715, '꼬옥': 716, '안다': 717, '먀옹': 718, '은혼': 719, '아니다': 720, '지치다': 721, '수고': 722, '커버': 723, '재해': 724, '퀴어': 725, '프렌': 726, '카페': 727, '사르르': 728, '녹다': 729, '구성': 730, '냉정': 731, '열정': 732, '사이': 733, '새롭다': 734, '한새': 735, '로운': 736, '타월': 737, '유기동물': 738, '시리다': 739, '밤하늘': 740, '숙제': 741, '메멘토': 742, '모리': 743, '조약돌': 744, '페블': 745, '톡': 746, '좋아하다': 747, '을해': 748, '우울하다': 749, '삽화': 750, '조동우': 751, '연출': 752, '작': 753, '옆집': 754, '간첩': 755, '산다': 756, '찰나': 757, '순간': 758, '쨍': 759, '보기': 760, '만해': 761, '도심': 762, '쿵': 763, '꾸다': 764, '르미와꼬': 765, '산골': 766, '편안하다': 767, '자연스럽다': 768, '조끼': 769, '백화점': 770, '서서': 771, '스콘': 772, '해마': 773, '날개': 774, '하늘': 775, '나리': 776, '생존': 777, '주식': 778, '투자': 779, '숨기다': 780, '원칙': 781, '오디오': 782, '경': 783, '성의': 784, '인어공주': 785, '시즌': 786, '꼬마': 787, '마법사': 788, '레미': 789, '한정판': 790, '만화가': 791, '금융': 792, '자산': 793, '소득': 794, '영물': 795, '메롱': 796, '해치': 797, '자수': 798, '파댕': 799, '돌아오다': 800, '흑': 801, '우파': 802, '댕': 803, '코디': 804, '저고리': 805, '셔츠': 806, '허리': 807, '치마': 808, '로판': 809, '평민': 810, '거리': 811, '연습': 812, '로맨스': 813, '도움': 814, '혼자': 815, '담력': 816, '시험': 817, '인의': 818, '해석': 819, '합작': 820, '오스카와일드': 821, '왕자': 822, '초판': 823, '복원': 824, '변호사': 825, '성폭력': 826, '피해자': 827, '법률': 828, '종류': 829, '다양하다': 830, '송장': 831, '큐브': 832, '편애': 833, '장판': 834, '매': 835, '일분': 836, '라인': 837, '살아나다': 838, '이드를': 839, '깨우다': 840, '투하': 841, '이드': 842, '잉크': 843, '목격자': 844, '진술': 845, '해결': 846, '미제': 847, '햇빛': 848, '빚': 849, '만화책': 850, '추다': 851, '타이페이': 852, '식물원': 853, '길몽': 854, '파다': 855, '번': 856, '고요': 857, '한국': 858, '판타지소설': 859, '옥토': 860, '만큼': 861, '복잡하다': 862, '코스': 863, '믹': 864, '마인드': 865, '오로라': 866, '영롱하다': 867, '펄': 868, '초대': 869, '웨이': 870, '입욕': 871, '혹시': 872, '나다': 873, '탈모': 874, '인가': 875, '한적': 876, '헤막': 877, '안티': 878, '헤어': 879, '로스': 880, '샴푸': 881, '소방차': 882, '이삿짐': 883, '앞두다': 884, '여자': 885, '렛': 886, '비인간': 887, '존재': 888, '상괭이': 889, '맥베스': 890, '넵튠': 891, '아포리아': 892, '업사이클': 893, '까지': 894, '좋다': 895, '헤일로': 896, '후광': 897, '막다': 898, '누군가': 899, '의조': 900, '과제': 901, '대체': 902, '불가하다': 903, '독보': 904, '프롬': 905, '내년': 906, '우린': 907, '좀더': 908, '평안하다': 909, '향리': 910, '추얼': 911, '다루다': 912, '단편': 913, '기묘하다': 914, '강원': 915, '산': 916, '모습': 917, '닮다': 918, '세미': 919, '커스터': 920, '마이': 921, '징': 922, '산산': 923, '사의': 924, '주인공': 925, '맡다': 926, '짙다': 927, '여운': 928, '북퍼품': 929, '그만': 930, '설탕': 931, '달달': 932, '달콤': 933, '아몬드': 934, '햇살': 935, '섬유': 936, '탈취': 937, '폐': 938, '재탄생': 939, '삭스': 940, '윌리엄': 941, '모리스': 942, '말': 943, '서울대': 944, '생': 945, '이만': 946, '공부': 947, '형성': 948, '뉴스레터': 949, '궁금하다': 950, '여정': 951, '의향': 952, '공백': 953, '뮤지컬': 954, '레테': 955, '의정원': 956, '믿다': 957, '무엇': 958, '침묵': 959, '지구': 960, '돌보다': 961, '유쾌하다': 962, '생태': 963, '판토킹': 964, '어스': 965, '할머니': 966, '할아버지': 967, '월간': 968, '달빛': 969, '도자기': 970, '균': 971, '스케치': 972, '링북': 973, '널': 974, '핀꽃': 975, '서른즈음에': 976, '크레용': 977, '따스하다': 978, '담기다': 979, '년패': 980, '색다르다': 981, '색상': 982, '책편': 983, '미세먼지': 984, '거두다': 985, '예쁘다': 986, '도시': 987, '스트플래닛': 988, '화려하다': 989, '용적': 990, '기차': 991, '물위': 992, '자연': 993, '제주': 994, '잔영': 995, '사진': 996, '보람': 997, '회사': 998, '로비': 999, '사무실': 1000, '헤매다': 1001, '틴': 1002, '천연': 1003, '블렌딩': 1004, '돈': 1005, '아트워크': 1006, '영원하다': 1007, '바라다': 1008, '진리': 1009, '에나': 1010, '오브': 1011, '가르치다': 1012, '가원': 1013, '향수': 1014, '메다': 1015, '팅포션': 1016, '비밀': 1017, '크림': 1018, '치즈': 1019, '한낮': 1020, '이입': 1021, '누구': 1022, '허물': 1023, '가산디지털단지역': 1024, '무기': 1025, '응원': 1026, '어쩌면': 1027, '건너': 1028, '창': 1029, '작곡': 1030, '독도': 1031, '의사': 1032, '계': 1033, '예술의전당': 1034, '콘서트홀': 1035, '실황': 1036, '음반': 1037, '코넛': 1038, '코코넛': 1039, '블루스': 1040, '클래식': 1041, '앙리': 1042, '마티스': 1043, '의선': 1044, '석고': 1045, '아로마': 1046, '여러분': 1047, '송용창집': 1048, '향연': 1049, '촛불': 1050, '피우다': 1051, '캔들': 1052, '홀더': 1053, '목련': 1054, '작품': 1055, '후반작업': 1056, '닳다': 1057, '곰돌이': 1058, '팥죽': 1059, '패키지': 1060, '미래': 1061, '실험': 1062, '이노': 1063, '리즈': 1064, '해체': 1065, '주의': 1066, '호러': 1067, '큐티': 1068, '집무': 1069, '운집': 1070, '벚꽃': 1071, '소녀': 1072, '탁상': 1073, '멍멍': 1074, '분양': 1075, '갓': 1076, '발효': 1077, '반죽': 1078, '땡글': 1079, '데려가다': 1080, '돋보이다': 1081, '룩': 1082, '유니크': 1083, '털다': 1084, '평범하다': 1085, '파주': 1086, '청년': 1087, '어린시절': 1088, '심리': 1089, '초기': 1090, '강점': 1091, '처음': 1092, '디스크': 1093, '잃어버리다': 1094, '상상력': 1095, '코끼리': 1096, '삼키다': 1097, '보아뱀': 1098, '은반지': 1099, '써다': 1100, '명탐정코난': 1101, '꽃물': 1102, '냄새': 1103, '우리나라': 1104, '역사': 1105, '살다': 1106, '신령': 1107, '동식물': 1108, '아이패드': 1109, '아틀라스': 1110, '한국어': 1111, '판출': 1112, '도깨비': 1113, '요괴': 1114, '신화': 1115, '동양': 1116, '비비안': 1117, '마이어': 1118, '포토': 1119, '호롱': 1120, '익명': 1121, '보내다': 1122, '손편지': 1123, '답장': 1124, '오는': 1125, '같다': 1126, '광주': 1127, '여성': 1128, '킹스우드': 1129, '론델': 1130, '시스템': 1131, '치열하다': 1132, '싸움': 1133, '전문가': 1134, '큐앤': 1135, '리브': 1136, '젤맛': 1137, '티탄': 1138, '학': 1139, '개론': 1140, '실무': 1141, '바로': 1142, '전설': 1143, '다섯': 1144, '인어': 1145, '보내오다': 1146, '편지': 1147, '천': 1148, '원': 1149, '석': 1150, '쥬얼리': 1151, '넘다': 1152, '상영': 1153, '점선': 1154, '아스라이': 1155, '까맣다': 1156, '날': 1157, '타이포그래피': 1158, '홈페이지': 1159, '스텀': 1160, '가능하다': 1161, '펙': 1162, '트이다': 1163, '상실': 1164, '편집': 1165, '여섯': 1166, '감각': 1167, '희귀': 1168, '북키링': 1169, '너리': 1170, '룸': 1171, '팀': 1172, '크리에이터': 1173, '채다': 1174, '린지': 1175, '컨템포러리': 1176, '타입': 1177, '페이스': 1178, '보석': 1179, '쇼룸': 1180, '펜던트': 1181, '하찮다': 1182, '찹쌀': 1183, '도나': 1184, '운지': 1185, '꼴라주': 1186, '홍익대학교': 1187, '산업': 1188, '전시': 1189, '어서': 1190, '브릿지': 1191, '상점': 1192, '이다': 1193, '드림캐쳐': 1194, '도쿄': 1195, '일본': 1196, '꾹꾹': 1197, '두렵다': 1198, '영혼': 1199, '에서가': 1200, '열두달': 1201, '책봄': 1202, '도서': 1203, '앞': 1204, '미래세': 1205, '축구': 1206, '전달': 1207, '해': 1208, '치유': 1209, '조화': 1210, '조절': 1211, '어렵다': 1212, '택': 1213, '틀다': 1214, '멀어지다': 1215, '이건': 1216, '사이다': 1217, '산타': 1218, '설레다': 1219, '보이스': 1220, '아이돌': 1221, '유니버스': 1222, '에버': 1223, '샤인': 1224, '씨앗': 1225, '처럼': 1226, '심다': 1227, '가꾸다': 1228, '그림': 1229, '우울': 1230, '쇼': 1231, '밉다': 1232, '개인': 1233, '삶': 1234, '불안하다': 1235, '권하다': 1236, '불안': 1237, '캐리어': 1238, '업': 1239, '사이클링': 1240, '텐트': 1241, '지난': 1242, '저': 1243, '마다의': 1244, '방법': 1245, '상이': 1246, '북너': 1247, '데드': 1248, '언제': 1249, '달': 1250, '눈썹달': 1251, '주얼리': 1252, '중생대': 1253, '생물': 1254, '트럼프': 1255, '러시아문학': 1256, '쟈': 1257, '지바고': 1258, '길위': 1259, '읽다': 1260, '기획': 1261, '어떻다': 1262, '가요': 1263, '받다': 1264, '깜짝': 1265, '놀라다': 1266, '입체': 1267, '액자': 1268, '말다': 1269, '블루': 1270, '범': 1271, '콜드': 1272, '바닐라': 1273, '일곱': 1274, '살멈머포카': 1275, '배다': 1276, '꼬': 1277, '귀염': 1278, '뽀짝무빙': 1279, '맞추다': 1280, '중세': 1281, '에는': 1282, '아직도': 1283, '성영': 1284, '화': 1285, '가다': 1286, '필요하다': 1287, '영화사': 1288, '각': 1289, '지대': 1290, '공허하다': 1291, '버려진': 1292, '페트병': 1293, '고전': 1294, '재미': 1295, '계승': 1296, '퍼스트': 1297, '클로버': 1298, '취향': 1299, '테이': 1300, '스팅': 1301}\n"
     ]
    }
   ],
   "source": [
    "print(tokenizer.word_index)"
   ]
  },
  {
   "cell_type": "code",
   "execution_count": 45,
   "id": "25672619",
   "metadata": {},
   "outputs": [
    {
     "name": "stdout",
     "output_type": "stream",
     "text": [
      "단어 집합의 크기 : 1301\n"
     ]
    }
   ],
   "source": [
    "vocab_size = len(tokenizer.word_index)\n",
    "print(\"단어 집합의 크기 :\", vocab_size)"
   ]
  },
  {
   "cell_type": "code",
   "execution_count": 50,
   "id": "ae4df9c9",
   "metadata": {},
   "outputs": [],
   "source": [
    "y_train = np.array(df2['result'])"
   ]
  },
  {
   "cell_type": "code",
   "execution_count": 47,
   "id": "4b48ff4e",
   "metadata": {},
   "outputs": [],
   "source": [
    "tokenizer = Tokenizer(vocab_size) \n",
    "tokenizer.fit_on_texts(X_train)\n",
    "X_train = tokenizer.texts_to_sequences(X_train)"
   ]
  },
  {
   "cell_type": "code",
   "execution_count": 48,
   "id": "8ed43e2b",
   "metadata": {},
   "outputs": [
    {
     "name": "stdout",
     "output_type": "stream",
     "text": [
      "제목의 최대 길이 : 13\n",
      "제목의 평균 길이 : 7.21\n"
     ]
    },
    {
     "data": {
      "image/png": "[encoded data removed]",
      "text/plain": [
       "<Figure size 504x504 with 1 Axes>"
      ]
     },
     "metadata": {},
     "output_type": "display_data"
    }
   ],
   "source": [
    "print('제목의 최대 길이 :',max(len(review) for review in X_train))\n",
    "print('제목의 평균 길이 :',sum(map(len, X_train))/len(X_train))\n",
    "plt.hist([len(review) for review in X_train], bins=50)\n",
    "plt.xlabel('length of title')\n",
    "plt.ylabel('number of title')\n",
    "plt.show()"
   ]
  },
  {
   "cell_type": "code",
   "execution_count": 49,
   "id": "9d22648d",
   "metadata": {},
   "outputs": [],
   "source": [
    "max_len = 13\n",
    "X_train = pad_sequences(X_train, maxlen=max_len)"
   ]
  },
  {
   "cell_type": "code",
   "execution_count": 51,
   "id": "18b733bb",
   "metadata": {},
   "outputs": [
    {
     "name": "stdout",
     "output_type": "stream",
     "text": [
      "Epoch 1/15\n",
      "3/4 [=====================>........] - ETA: 0s - loss: 0.6820 - acc: 0.5521\n",
      "Epoch 00001: val_acc improved from -inf to 0.00000, saving model to best_model.h5\n",
      "4/4 [==============================] - 3s 257ms/step - loss: 0.6672 - acc: 0.5833 - val_loss: 1.8579 - val_acc: 0.0000e+00\n",
      "Epoch 2/15\n",
      "3/4 [=====================>........] - ETA: 0s - loss: 0.7242 - acc: 0.5938\n",
      "Epoch 00002: val_acc did not improve from 0.00000\n",
      "4/4 [==============================] - 0s 45ms/step - loss: 0.6942 - acc: 0.6167 - val_loss: 1.0129 - val_acc: 0.0000e+00\n",
      "Epoch 3/15\n",
      "3/4 [=====================>........] - ETA: 0s - loss: 0.6263 - acc: 0.5990\n",
      "Epoch 00003: val_acc did not improve from 0.00000\n",
      "4/4 [==============================] - 0s 47ms/step - loss: 0.6159 - acc: 0.6167 - val_loss: 1.0362 - val_acc: 0.0000e+00\n",
      "Epoch 4/15\n",
      "3/4 [=====================>........] - ETA: 0s - loss: 0.5671 - acc: 0.6354\n",
      "Epoch 00004: val_acc did not improve from 0.00000\n",
      "4/4 [==============================] - 0s 51ms/step - loss: 0.5776 - acc: 0.6208 - val_loss: 0.9932 - val_acc: 0.0000e+00\n",
      "Epoch 5/15\n",
      "3/4 [=====================>........] - ETA: 0s - loss: 0.5150 - acc: 0.7135\n",
      "Epoch 00005: val_acc improved from 0.00000 to 0.03333, saving model to best_model.h5\n",
      "4/4 [==============================] - 0s 59ms/step - loss: 0.5249 - acc: 0.6958 - val_loss: 0.9635 - val_acc: 0.0333\n",
      "Epoch 6/15\n",
      "3/4 [=====================>........] - ETA: 0s - loss: 0.4604 - acc: 0.8125\n",
      "Epoch 00006: val_acc did not improve from 0.03333\n",
      "4/4 [==============================] - 0s 41ms/step - loss: 0.4379 - acc: 0.8083 - val_loss: 1.4334 - val_acc: 0.0167\n",
      "Epoch 7/15\n",
      "3/4 [=====================>........] - ETA: 0s - loss: 0.3419 - acc: 0.8958\n",
      "Epoch 00007: val_acc improved from 0.03333 to 0.35000, saving model to best_model.h5\n",
      "4/4 [==============================] - 0s 60ms/step - loss: 0.3540 - acc: 0.8875 - val_loss: 0.7827 - val_acc: 0.3500\n",
      "Epoch 8/15\n",
      "3/4 [=====================>........] - ETA: 0s - loss: 0.2791 - acc: 0.9688\n",
      "Epoch 00008: val_acc did not improve from 0.35000\n",
      "4/4 [==============================] - 0s 43ms/step - loss: 0.2722 - acc: 0.9625 - val_loss: 1.4550 - val_acc: 0.0500\n",
      "Epoch 9/15\n",
      "4/4 [==============================] - ETA: 0s - loss: 0.2100 - acc: 0.9500\n",
      "Epoch 00009: val_acc improved from 0.35000 to 0.65000, saving model to best_model.h5\n",
      "4/4 [==============================] - 0s 104ms/step - loss: 0.2100 - acc: 0.9500 - val_loss: 0.6240 - val_acc: 0.6500\n",
      "Epoch 10/15\n",
      "3/4 [=====================>........] - ETA: 0s - loss: 0.1991 - acc: 0.9427\n",
      "Epoch 00010: val_acc did not improve from 0.65000\n",
      "4/4 [==============================] - 0s 50ms/step - loss: 0.1893 - acc: 0.9542 - val_loss: 1.3494 - val_acc: 0.1833\n",
      "Epoch 11/15\n",
      "3/4 [=====================>........] - ETA: 0s - loss: 0.1383 - acc: 0.9635\n",
      "Epoch 00011: val_acc did not improve from 0.65000\n",
      "4/4 [==============================] - 0s 43ms/step - loss: 0.1495 - acc: 0.9625 - val_loss: 1.1875 - val_acc: 0.3167\n",
      "Epoch 12/15\n",
      "3/4 [=====================>........] - ETA: 0s - loss: 0.1148 - acc: 0.9740\n",
      "Epoch 00012: val_acc did not improve from 0.65000\n",
      "4/4 [==============================] - 0s 41ms/step - loss: 0.1057 - acc: 0.9792 - val_loss: 1.3863 - val_acc: 0.3167\n",
      "Epoch 13/15\n",
      "3/4 [=====================>........] - ETA: 0s - loss: 0.0824 - acc: 0.9792\n",
      "Epoch 00013: val_acc did not improve from 0.65000\n",
      "4/4 [==============================] - 0s 43ms/step - loss: 0.0813 - acc: 0.9792 - val_loss: 1.5453 - val_acc: 0.3167\n",
      "Epoch 00013: early stopping\n"
     ]
    }
   ],
   "source": [
    "embedding_dim = 100\n",
    "hidden_units = 128\n",
    "\n",
    "model = Sequential()\n",
    "model.add(Embedding(vocab_size, embedding_dim))\n",
    "model.add(LSTM(hidden_units))\n",
    "model.add(Dense(1, activation='sigmoid'))\n",
    "\n",
    "es = EarlyStopping(monitor='val_loss', mode='min', verbose=1, patience=4)\n",
    "mc = ModelCheckpoint('best_model.h5', monitor='val_acc', mode='max', verbose=1, save_best_only=True)\n",
    "\n",
    "model.compile(optimizer='rmsprop', loss='binary_crossentropy', metrics=['acc'])\n",
    "history = model.fit(X_train, y_train, epochs=15, callbacks=[es, mc], batch_size=64, validation_split=0.2)"
   ]
  },
  {
   "cell_type": "code",
   "execution_count": 52,
   "id": "0e108ce4",
   "metadata": {},
   "outputs": [],
   "source": [
    "loaded_model = load_model('best_model.h5')"
   ]
  },
  {
   "cell_type": "code",
   "execution_count": 53,
   "id": "80c20890",
   "metadata": {},
   "outputs": [
    {
     "name": "stdout",
     "output_type": "stream",
     "text": [
      "66.39% 확률로 성공 제목입니다.\n",
      "\n"
     ]
    }
   ],
   "source": [
    "sentiment_predict(\"아름다운 우리나라\")"
   ]
  },
  {
   "cell_type": "code",
   "execution_count": 54,
   "id": "cfd3d7b3",
   "metadata": {},
   "outputs": [
    {
     "name": "stdout",
     "output_type": "stream",
     "text": [
      "56.09% 확률로 실패 제목입니다.\n",
      "\n"
     ]
    }
   ],
   "source": [
    "sentiment_predict(\"함께 만드는 웹진\")"
   ]
  },
  {
   "cell_type": "code",
   "execution_count": 55,
   "id": "e67c62ab",
   "metadata": {},
   "outputs": [
    {
     "name": "stdout",
     "output_type": "stream",
     "text": [
      "51.35% 확률로 성공 제목입니다.\n",
      "\n"
     ]
    }
   ],
   "source": [
    "sentiment_predict(\"다이어리\")"
   ]
  },
  {
   "cell_type": "code",
   "execution_count": 56,
   "id": "eeffe8a2",
   "metadata": {},
   "outputs": [
    {
     "name": "stdout",
     "output_type": "stream",
     "text": [
      "68.66% 확률로 성공 제목입니다.\n",
      "\n"
     ]
    }
   ],
   "source": [
    "sentiment_predict(\"너를 만나는\")"
   ]
  },
  {
   "cell_type": "code",
   "execution_count": null,
   "id": "3adf0e89",
   "metadata": {},
   "outputs": [],
   "source": []
  }
 ],
 "metadata": {
  "kernelspec": {
   "display_name": "Python 3",
   "language": "python",
   "name": "python3"
  },
  "language_info": {
   "codemirror_mode": {
    "name": "ipython",
    "version": 3
   },
   "file_extension": ".py",
   "mimetype": "text/x-python",
   "name": "python",
   "nbconvert_exporter": "python",
   "pygments_lexer": "ipython3",
   "version": "3.8.8"
  }
 },
 "nbformat": 4,
 "nbformat_minor": 5
}
